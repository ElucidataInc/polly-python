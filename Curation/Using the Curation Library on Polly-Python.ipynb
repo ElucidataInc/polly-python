{
  "cells": [
    {
      "cell_type": "markdown",
      "metadata": {
        "colab_type": "text",
        "id": "view-in-github"
      },
      "source": [
        "<a href=\"https://polly.elucidata.io/manage/workspaces?action=open_polly_notebook&amp;source=github&amp;path=ElucidataInc%2Fpolly-python%2Fblob%2Fmain%2FCuration%2FUsing+the+Curation+Library+on+Polly-Python.ipynb&amp;kernel=elucidata%2FPython+3.10&amp;machine=small\" target=\"_parent\"><img alt=\"Open in Polly\" src=\"https://elucidatainc.github.io/PublicAssets/open_polly.svg\"/></a>\n"
      ]
    },
    {
      "cell_type": "markdown",
      "metadata": {},
      "source": [
        "# Usage of Curation Functions on Polly Python3 "
      ]
    },
    {
      "cell_type": "markdown",
      "metadata": {},
      "source": [
        "What can the curation library be used for?\n",
        "  * Semantic annotation of text with established polly-compatible ontologies\n",
        "  * Recognize and annotate 8 entities: disease, drug, species, tissue, cell_type, cell_line, gene, metabolite, drug_chebi\n",
        "  * Uses our pre-trained NLP models in the backend, trained on millions of datasets\n",
        "  * Custom curate required metadata in a completely automatic fashion"
      ]
    },
    {
      "cell_type": "code",
      "execution_count": 1,
      "metadata": {},
      "outputs": [
        {
          "name": "stdout",
          "output_type": "stream",
          "text": [
            "/bin/bash: warning: setlocale: LC_ALL: cannot change locale (en_US.UTF-8)\n",
            "\u001b[33mWARNING: Running pip as the 'root' user can result in broken permissions and conflicting behaviour with the system package manager. It is recommended to use a virtual environment instead: https://pip.pypa.io/warnings/venv\u001b[0m\n",
            "\u001b[33mWARNING: You are using pip version 21.2.4; however, version 22.3 is available.\n",
            "You should consider upgrading via the '/usr/local/bin/python3.10 -m pip install --upgrade pip' command.\u001b[0m\n"
          ]
        }
      ],
      "source": [
        "# Install polly python\n",
        "!sudo pip3 install polly-python --quiet"
      ]
    },
    {
      "cell_type": "code",
      "execution_count": 2,
      "metadata": {},
      "outputs": [],
      "source": [
        "# Import libraries\n",
        "from polly.auth import Polly     \n",
        "from polly.curation  import Curation\n",
        "import os\n",
        "import pandas as pd\n",
        "from json import dumps\n",
        "import ipywidgets as widgets"
      ]
    },
    {
      "cell_type": "code",
      "execution_count": 3,
      "metadata": {},
      "outputs": [],
      "source": [
        "# Create curation object and authenticate\n",
        "AUTH_TOKEN=(os.environ['POLLY_REFRESH_TOKEN'])\n",
        "curate = Curation(AUTH_TOKEN)  "
      ]
    },
    {
      "cell_type": "markdown",
      "metadata": {},
      "source": [
        "## 1. standardize_entity()\n",
        "\n",
        "Map a given mention (keyword) to an ontology term.\n",
        "\n",
        "Parameters:\n",
        "> mention (str): mention of an entity e.g. \"Cadiac arrythmia\"  \n",
        "> entity_type (str): Should be one of 8 entities  \n",
        "> context *(Optional)* (str): The text where the mention occurs, used to resolve abbreviations  \n",
        "> threshold *(Optional)* (float): All entities with a score < threshold are filtered out from the output. Its best not to specify a threshold and just use the default value instead.  \n",
        "\n",
        "Returns:\n",
        "> dict  "
      ]
    },
    {
      "cell_type": "code",
      "execution_count": 4,
      "metadata": {},
      "outputs": [
        {
          "data": {
            "text/plain": [
              "{'ontology': 'NCBI',\n",
              " 'ontology_id': 'txid10090',\n",
              " 'name': 'Mus musculus',\n",
              " 'entity_type': 'species',\n",
              " 'score': None,\n",
              " 'synonym': None}"
            ]
          },
          "execution_count": 4,
          "metadata": {},
          "output_type": "execute_result"
        }
      ],
      "source": [
        "# Basic example\n",
        "curate.standardise_entity(\"Mouse\",\"species\")"
      ]
    },
    {
      "cell_type": "code",
      "execution_count": 5,
      "metadata": {},
      "outputs": [
        {
          "data": {
            "text/plain": [
              "{'ontology': 'MESH',\n",
              " 'ontology_id': 'C564330',\n",
              " 'name': 'Alzheimer Disease, Familial, 3, with Spastic Paraparesis and Apraxia',\n",
              " 'entity_type': 'disease',\n",
              " 'score': 202.1661376953125,\n",
              " 'synonym': 'ad'}"
            ]
          },
          "execution_count": 5,
          "metadata": {},
          "output_type": "execute_result"
        }
      ],
      "source": [
        "# Without 'context'\n",
        "curate.standardise_entity(\"AD\", \"disease\")"
      ]
    },
    {
      "cell_type": "code",
      "execution_count": 6,
      "metadata": {},
      "outputs": [
        {
          "data": {
            "text/plain": [
              "{'ontology': 'MESH',\n",
              " 'ontology_id': 'D003876',\n",
              " 'name': 'Dermatitis, Atopic',\n",
              " 'entity_type': 'disease',\n",
              " 'score': 196.61105346679688,\n",
              " 'synonym': 'atopic dermatitis'}"
            ]
          },
          "execution_count": 6,
          "metadata": {},
          "output_type": "execute_result"
        }
      ],
      "source": [
        "# With context, returns the desired keyword in case of abbreviation\n",
        "curate.standardise_entity(\"AD\", \"disease\", \n",
        "                context=\"Patients with atopic dermatitis (AD) where given drug A whereas non AD patients were given drug B\")"
      ]
    },
    {
      "cell_type": "code",
      "execution_count": 7,
      "metadata": {},
      "outputs": [
        {
          "data": {
            "text/plain": [
              "{'ontology': 'CUI-less',\n",
              " 'ontology_id': None,\n",
              " 'name': None,\n",
              " 'entity_type': 'disease',\n",
              " 'score': None,\n",
              " 'synonym': None}"
            ]
          },
          "execution_count": 7,
          "metadata": {},
          "output_type": "execute_result"
        }
      ],
      "source": [
        "# Usage of non-matching 'entity_type' returns none values\n",
        "curate.standardise_entity(\"Mouse\",\"disease\")"
      ]
    },
    {
      "cell_type": "code",
      "execution_count": 8,
      "metadata": {},
      "outputs": [
        {
          "ename": "RequestException",
          "evalue": "('Invalid Payload', {'detail': [{'loc': ['body', 'mention', 'entity_type'], 'msg': \"value is not a valid enumeration member; permitted: 'disease', 'drug', 'drug_chebi', 'species', 'tissue', 'cell_type', 'cell_line', 'gene', 'metabolite'\", 'type': 'type_error.enum', 'ctx': {'enum_values': ['disease', 'drug', 'drug_chebi', 'species', 'tissue', 'cell_type', 'cell_line', 'gene', 'metabolite']}}]})",
          "output_type": "error",
          "traceback": [
            "\u001b[0;31m---------------------------------------------------------------------------\u001b[0m",
            "\u001b[0;31mRequestException\u001b[0m                          Traceback (most recent call last)",
            "Input \u001b[0;32mIn [8]\u001b[0m, in \u001b[0;36m<cell line: 2>\u001b[0;34m()\u001b[0m\n\u001b[1;32m      1\u001b[0m \u001b[38;5;66;03m# Usage of non-supported 'entity_type' returns error -> Here, it is supposed to be \"species\" and not \"specie\"\u001b[39;00m\n\u001b[0;32m----> 2\u001b[0m \u001b[43mcurate\u001b[49m\u001b[38;5;241;43m.\u001b[39;49m\u001b[43mstandardise_entity\u001b[49m\u001b[43m(\u001b[49m\u001b[38;5;124;43m\"\u001b[39;49m\u001b[38;5;124;43mMouse\u001b[39;49m\u001b[38;5;124;43m\"\u001b[39;49m\u001b[43m,\u001b[49m\u001b[38;5;124;43m\"\u001b[39;49m\u001b[38;5;124;43mspecie\u001b[39;49m\u001b[38;5;124;43m\"\u001b[39;49m\u001b[43m)\u001b[49m\n",
            "File \u001b[0;32m/usr/local/lib/python3.10/site-packages/polly/curation.py:145\u001b[0m, in \u001b[0;36mCuration.standardise_entity\u001b[0;34m(self, mention, entity_type, context, threshold)\u001b[0m\n\u001b[1;32m    143\u001b[0m \u001b[38;5;28;01mif\u001b[39;00m output\u001b[38;5;241m.\u001b[39mget(\u001b[38;5;124m\"\u001b[39m\u001b[38;5;124merrors\u001b[39m\u001b[38;5;124m\"\u001b[39m, []):\n\u001b[1;32m    144\u001b[0m     title, detail \u001b[38;5;241m=\u001b[39m \u001b[38;5;28mself\u001b[39m\u001b[38;5;241m.\u001b[39m_handle_errors(output)\n\u001b[0;32m--> 145\u001b[0m     \u001b[38;5;28;01mraise\u001b[39;00m RequestException(title, detail)\n\u001b[1;32m    147\u001b[0m \u001b[38;5;28;01mif\u001b[39;00m \u001b[38;5;124m\"\u001b[39m\u001b[38;5;124mterm\u001b[39m\u001b[38;5;124m\"\u001b[39m \u001b[38;5;129;01mnot\u001b[39;00m \u001b[38;5;129;01min\u001b[39;00m output:\n\u001b[1;32m    148\u001b[0m     \u001b[38;5;28;01mreturn\u001b[39;00m {\n\u001b[1;32m    149\u001b[0m         \u001b[38;5;124m\"\u001b[39m\u001b[38;5;124montology\u001b[39m\u001b[38;5;124m\"\u001b[39m: \u001b[38;5;124m\"\u001b[39m\u001b[38;5;124mCUI-less\u001b[39m\u001b[38;5;124m\"\u001b[39m,\n\u001b[1;32m    150\u001b[0m         \u001b[38;5;124m\"\u001b[39m\u001b[38;5;124montology_id\u001b[39m\u001b[38;5;124m\"\u001b[39m: \u001b[38;5;28;01mNone\u001b[39;00m,\n\u001b[1;32m    151\u001b[0m         \u001b[38;5;124m\"\u001b[39m\u001b[38;5;124mname\u001b[39m\u001b[38;5;124m\"\u001b[39m: \u001b[38;5;28;01mNone\u001b[39;00m,\n\u001b[1;32m    152\u001b[0m         \u001b[38;5;124m\"\u001b[39m\u001b[38;5;124mentity_type\u001b[39m\u001b[38;5;124m\"\u001b[39m: entity_type,\n\u001b[1;32m    153\u001b[0m     }\n",
            "\u001b[0;31mRequestException\u001b[0m: ('Invalid Payload', {'detail': [{'loc': ['body', 'mention', 'entity_type'], 'msg': \"value is not a valid enumeration member; permitted: 'disease', 'drug', 'drug_chebi', 'species', 'tissue', 'cell_type', 'cell_line', 'gene', 'metabolite'\", 'type': 'type_error.enum', 'ctx': {'enum_values': ['disease', 'drug', 'drug_chebi', 'species', 'tissue', 'cell_type', 'cell_line', 'gene', 'metabolite']}}]})"
          ]
        }
      ],
      "source": [
        "# Usage of non-supported 'entity_type' returns error -> Here, it is supposed to be \"species\" and not \"specie\"\n",
        "curate.standardise_entity(\"Mouse\",\"specie\")"
      ]
    },
    {
      "cell_type": "markdown",
      "metadata": {},
      "source": [
        "## 2. recognise_entity()\n",
        "\n",
        "Run an NER model on the given text. The returned value is a list of entities along with span info. Score is the confidence score of the model that given keyword belongs to returned entity type/ ontology.\n",
        "\n",
        "Parameters:\n",
        "> text (str): input text  \n",
        "> threshold *(Optional)*(float): whether to normalize the keywords  \n",
        "> normalize_output (bool):   \n",
        "\n",
        "Returns:\n",
        "> entities (List(dict)): returns a list of span containing the keyword, start and end index of the keyword, and the entity type "
      ]
    },
    {
      "cell_type": "code",
      "execution_count": 10,
      "metadata": {},
      "outputs": [
        {
          "data": {
            "text/plain": [
              "[{'keyword': 'lungs',\n",
              "  'entity_type': 'tissue',\n",
              "  'span_begin': 34,\n",
              "  'span_end': 39,\n",
              "  'score': 0.9985597729682922},\n",
              " {'keyword': 'ACE2',\n",
              "  'entity_type': 'gene',\n",
              "  'span_begin': 52,\n",
              "  'span_end': 55,\n",
              "  'score': 0.9900580048561096},\n",
              " {'keyword': 'mice',\n",
              "  'entity_type': 'species',\n",
              "  'span_begin': 29,\n",
              "  'span_end': 32,\n",
              "  'score': 0.989605188369751}]"
            ]
          },
          "execution_count": 10,
          "metadata": {},
          "output_type": "execute_result"
        }
      ],
      "source": [
        "# Basic example with two entities\n",
        "curate.recognise_entity(\"Gene expression profiling on mice lungs and reveals ACE2 upregulation\")"
      ]
    },
    {
      "cell_type": "code",
      "execution_count": 14,
      "metadata": {},
      "outputs": [
        {
          "data": {
            "text/plain": [
              "[{'keyword': 'ductal carcinoma',\n",
              "  'entity_type': 'disease',\n",
              "  'span_begin': 36,\n",
              "  'span_end': 51,\n",
              "  'score': 0.9999971389770508},\n",
              " {'keyword': 'lobular carcinoma',\n",
              "  'entity_type': 'disease',\n",
              "  'span_begin': 57,\n",
              "  'span_end': 73,\n",
              "  'score': 0.9999983906745911}]"
            ]
          },
          "execution_count": 14,
          "metadata": {},
          "output_type": "execute_result"
        }
      ],
      "source": [
        "# Multiple entities of the same type\n",
        "curate.recognise_entity(\"Batch effects were observed between ductal carcinoma and lobular carcinoma\")"
      ]
    },
    {
      "cell_type": "code",
      "execution_count": 24,
      "metadata": {},
      "outputs": [
        {
          "data": {
            "text/plain": [
              "[{'keyword': 'ACE2',\n",
              "  'entity_type': 'gene',\n",
              "  'span_begin': 17,\n",
              "  'span_end': 20,\n",
              "  'score': 0.9962862730026245},\n",
              " {'keyword': 'ACE2',\n",
              "  'entity_type': 'gene',\n",
              "  'span_begin': 39,\n",
              "  'span_end': 42,\n",
              "  'score': 0.990687906742096}]"
            ]
          },
          "execution_count": 24,
          "metadata": {},
          "output_type": "execute_result"
        }
      ],
      "source": [
        "# Repeating entities\n",
        "curate.recognise_entity(\"The study showed ACE2 upregulation and ACE2 downregulation\")"
      ]
    },
    {
      "cell_type": "code",
      "execution_count": 16,
      "metadata": {},
      "outputs": [
        {
          "data": {
            "text/plain": [
              "[]"
            ]
          },
          "execution_count": 16,
          "metadata": {},
          "output_type": "execute_result"
        }
      ],
      "source": [
        "# No entity in the text\n",
        "curate.recognise_entity(\"Significant upregulation was found in 100 samples\")"
      ]
    },
    {
      "cell_type": "markdown",
      "metadata": {},
      "source": [
        "## 3. annotate_with_ontology()\n",
        "\n",
        "Tag a given piece of text. A \"tag\" is just an ontology term. Annotates with Polly supported ontologies. This function calls 'recognise_entity' followed by 'normalize'\n",
        " \n",
        "Parameters:\n",
        "> text (str): input text  \n",
        "        \n",
        "Returns:\n",
        "> tags (set of tuples): set of unique tags  "
      ]
    },
    {
      "cell_type": "code",
      "execution_count": 17,
      "metadata": {},
      "outputs": [
        {
          "data": {
            "text/plain": [
              "[Tag(name='Mus musculus', ontology_id='NCBI:txid10090', entity_type='species'),\n",
              " Tag(name='Adenocarcinoma', ontology_id='MESH:D000230', entity_type='disease')]"
            ]
          },
          "execution_count": 17,
          "metadata": {},
          "output_type": "execute_result"
        }
      ],
      "source": [
        "# Basic example\n",
        "curate.annotate_with_ontology(\"Mouse model shows presence of Adeno carcinoma\")"
      ]
    },
    {
      "cell_type": "code",
      "execution_count": 21,
      "metadata": {},
      "outputs": [
        {
          "data": {
            "text/plain": [
              "[Tag(name='Mus musculus', ontology_id='NCBI:txid10090', entity_type='species')]"
            ]
          },
          "execution_count": 21,
          "metadata": {},
          "output_type": "execute_result"
        }
      ],
      "source": [
        "# Spelling errors\n",
        "curate.annotate_with_ontology(\"Mouse model shows presence of Adino carcinoma\")"
      ]
    },
    {
      "cell_type": "code",
      "execution_count": 23,
      "metadata": {},
      "outputs": [
        {
          "ename": "RequestException",
          "evalue": "('Invalid Payload', {'detail': [{'loc': ['body', 'text'], 'msg': 'str type expected', 'type': 'type_error.str'}]})",
          "output_type": "error",
          "traceback": [
            "\u001b[0;31m---------------------------------------------------------------------------\u001b[0m",
            "\u001b[0;31mRequestException\u001b[0m                          Traceback (most recent call last)",
            "Input \u001b[0;32mIn [23]\u001b[0m, in \u001b[0;36m<cell line: 2>\u001b[0;34m()\u001b[0m\n\u001b[1;32m      1\u001b[0m \u001b[38;5;66;03m# incorrect input format -> here, list instead of string\u001b[39;00m\n\u001b[0;32m----> 2\u001b[0m \u001b[43mcurate\u001b[49m\u001b[38;5;241;43m.\u001b[39;49m\u001b[43mannotate_with_ontology\u001b[49m\u001b[43m(\u001b[49m\u001b[43m[\u001b[49m\u001b[38;5;124;43m\"\u001b[39;49m\u001b[38;5;124;43mMouse model shows presence\u001b[39;49m\u001b[38;5;124;43m\"\u001b[39;49m\u001b[43m,\u001b[49m\u001b[43m \u001b[49m\u001b[38;5;124;43m\"\u001b[39;49m\u001b[38;5;124;43madeno carcinoma\u001b[39;49m\u001b[38;5;124;43m\"\u001b[39;49m\u001b[43m]\u001b[49m\u001b[43m)\u001b[49m\n",
            "File \u001b[0;32m/usr/local/lib/python3.10/site-packages/polly/curation.py:227\u001b[0m, in \u001b[0;36mCuration.annotate_with_ontology\u001b[0;34m(self, text)\u001b[0m\n\u001b[1;32m    209\u001b[0m \u001b[38;5;28;01mdef\u001b[39;00m \u001b[38;5;21mannotate_with_ontology\u001b[39m(\n\u001b[1;32m    210\u001b[0m     \u001b[38;5;28mself\u001b[39m,\n\u001b[1;32m    211\u001b[0m     text: \u001b[38;5;28mstr\u001b[39m,\n\u001b[1;32m    212\u001b[0m ) \u001b[38;5;241m-\u001b[39m\u001b[38;5;241m>\u001b[39m List[Tag]:\n\u001b[1;32m    214\u001b[0m     \u001b[38;5;124;03m\"\"\"\u001b[39;00m\n\u001b[1;32m    215\u001b[0m \u001b[38;5;124;03m    Tag a given piece of text. A \"tag\" is just an ontology term.\u001b[39;00m\n\u001b[1;32m    216\u001b[0m \u001b[38;5;124;03m    Annotates with Polly supported ontologies.\u001b[39;00m\n\u001b[0;32m   (...)\u001b[0m\n\u001b[1;32m    224\u001b[0m \u001b[38;5;124;03m        tags (set of tuples): set of unique tags\u001b[39;00m\n\u001b[1;32m    225\u001b[0m \u001b[38;5;124;03m    \"\"\"\u001b[39;00m\n\u001b[0;32m--> 227\u001b[0m     entities \u001b[38;5;241m=\u001b[39m \u001b[38;5;28;43mself\u001b[39;49m\u001b[38;5;241;43m.\u001b[39;49m\u001b[43mrecognise_entity\u001b[49m\u001b[43m(\u001b[49m\u001b[43mtext\u001b[49m\u001b[43m,\u001b[49m\u001b[43m \u001b[49m\u001b[43mnormalize_output\u001b[49m\u001b[38;5;241;43m=\u001b[39;49m\u001b[38;5;28;43;01mTrue\u001b[39;49;00m\u001b[43m)\u001b[49m\n\u001b[1;32m    228\u001b[0m     res \u001b[38;5;241m=\u001b[39m {\n\u001b[1;32m    229\u001b[0m         \u001b[38;5;28mself\u001b[39m\u001b[38;5;241m.\u001b[39mTag(\n\u001b[1;32m    230\u001b[0m             e\u001b[38;5;241m.\u001b[39mget(\u001b[38;5;124m\"\u001b[39m\u001b[38;5;124mname\u001b[39m\u001b[38;5;124m\"\u001b[39m, []), e\u001b[38;5;241m.\u001b[39mget(\u001b[38;5;124m\"\u001b[39m\u001b[38;5;124montology_id\u001b[39m\u001b[38;5;124m\"\u001b[39m, []), e\u001b[38;5;241m.\u001b[39mget(\u001b[38;5;124m\"\u001b[39m\u001b[38;5;124mentity_type\u001b[39m\u001b[38;5;124m\"\u001b[39m, [])\n\u001b[0;32m   (...)\u001b[0m\n\u001b[1;32m    233\u001b[0m         \u001b[38;5;28;01mif\u001b[39;00m e\u001b[38;5;241m.\u001b[39mget(\u001b[38;5;124m\"\u001b[39m\u001b[38;5;124mname\u001b[39m\u001b[38;5;124m\"\u001b[39m)\n\u001b[1;32m    234\u001b[0m     }\n\u001b[1;32m    235\u001b[0m     \u001b[38;5;28;01mreturn\u001b[39;00m \u001b[38;5;28mlist\u001b[39m(res)\n",
            "File \u001b[0;32m/usr/local/lib/python3.10/site-packages/polly/curation.py:184\u001b[0m, in \u001b[0;36mCuration.recognise_entity\u001b[0;34m(self, text, threshold, normalize_output)\u001b[0m\n\u001b[1;32m    182\u001b[0m \u001b[38;5;28;01mif\u001b[39;00m \u001b[38;5;124m\"\u001b[39m\u001b[38;5;124merrors\u001b[39m\u001b[38;5;124m\"\u001b[39m \u001b[38;5;129;01min\u001b[39;00m response:\n\u001b[1;32m    183\u001b[0m     title, detail \u001b[38;5;241m=\u001b[39m \u001b[38;5;28mself\u001b[39m\u001b[38;5;241m.\u001b[39m_handle_errors(response)\n\u001b[0;32m--> 184\u001b[0m     \u001b[38;5;28;01mraise\u001b[39;00m RequestException(title, detail)\n\u001b[1;32m    185\u001b[0m \u001b[38;5;28;01mtry\u001b[39;00m:\n\u001b[1;32m    186\u001b[0m     entities \u001b[38;5;241m=\u001b[39m response\u001b[38;5;241m.\u001b[39mget(\u001b[38;5;124m\"\u001b[39m\u001b[38;5;124mentities\u001b[39m\u001b[38;5;124m\"\u001b[39m, [])\n",
            "\u001b[0;31mRequestException\u001b[0m: ('Invalid Payload', {'detail': [{'loc': ['body', 'text'], 'msg': 'str type expected', 'type': 'type_error.str'}]})"
          ]
        }
      ],
      "source": [
        "# incorrect input format -> here, list instead of string\n",
        "curate.annotate_with_ontology([\"Mouse model shows presence\", \"adeno carcinoma\"])"
      ]
    },
    {
      "cell_type": "markdown",
      "metadata": {},
      "source": [
        "## 4. find_abbreviations()\n",
        "\n",
        "To run abbreviation detection separately. Maps the abbreviation to ontologically relevant keyword.\n",
        "\n",
        "Parameters:\n",
        "> text (str): The string to detect abbreviations in  \n",
        "> context *(Optional)* (str): The text where the mention occurs, used to resolve abbreviations  \n",
        "        \n",
        "Returns:\n",
        "> dict: abbreviation as key and full form as value"
      ]
    },
    {
      "cell_type": "code",
      "execution_count": 25,
      "metadata": {},
      "outputs": [
        {
          "data": {
            "text/plain": [
              "{}"
            ]
          },
          "execution_count": 25,
          "metadata": {},
          "output_type": "execute_result"
        }
      ],
      "source": [
        "# Full form is not mentioned on the text\n",
        "curate.find_abbreviations(\"Patient is diagnosed with T1D\")"
      ]
    },
    {
      "cell_type": "code",
      "execution_count": 26,
      "metadata": {},
      "outputs": [
        {
          "data": {
            "text/plain": [
              "{}"
            ]
          },
          "execution_count": 26,
          "metadata": {},
          "output_type": "execute_result"
        }
      ],
      "source": [
        "# '-' on the text is not understood\n",
        "curate.find_abbreviations(\"Patient is diagnosed with T1D- Type 1 Diabetes\")"
      ]
    },
    {
      "cell_type": "code",
      "execution_count": 27,
      "metadata": {},
      "outputs": [
        {
          "data": {
            "text/plain": [
              "{'T1D': 'Type 1 Diabetes'}"
            ]
          },
          "execution_count": 27,
          "metadata": {},
          "output_type": "execute_result"
        }
      ],
      "source": [
        "# Abbreviation is recognized\n",
        "curate.find_abbreviations(\"Patient is diagnosed with T1D (Type 1 Diabetes)\")"
      ]
    },
    {
      "cell_type": "code",
      "execution_count": 28,
      "metadata": {},
      "outputs": [
        {
          "data": {
            "text/plain": [
              "{}"
            ]
          },
          "execution_count": 28,
          "metadata": {},
          "output_type": "execute_result"
        }
      ],
      "source": [
        "# Abbreviation does not match the full text\n",
        "curate.find_abbreviations(\"Patient is diagnosed with T2D (Type 1 Diabetes)\")"
      ]
    },
    {
      "cell_type": "markdown",
      "metadata": {},
      "source": [
        "## 5. assign_control_pert_labels()\n",
        "\n",
        "Can classify the samples into controls or not based on the \u201cdisease\u201d label value. \n",
        "\n",
        "Parameters:\n",
        "> sample_metadata (pd.DataFrame)  \n",
        "> columns_to_exclude *(Optional)* (Set(str)): Any columns which don't play any role in determining the label, e.g. any arbitrary sample identifier\n",
        "\n",
        "Returns:\n",
        "> pd.DataFrame: Returns the sample metadata dataframe with 2 additional columns (i) 'is_control' - whether the sample is a control sample (ii) 'control_prob' - the probability that the sample is control\n"
      ]
    },
    {
      "cell_type": "code",
      "execution_count": 30,
      "metadata": {},
      "outputs": [
        {
          "data": {
            "text/html": [
              "<div>\n",
              "<style scoped>\n",
              "    .dataframe tbody tr th:only-of-type {\n",
              "        vertical-align: middle;\n",
              "    }\n",
              "\n",
              "    .dataframe tbody tr th {\n",
              "        vertical-align: top;\n",
              "    }\n",
              "\n",
              "    .dataframe thead th {\n",
              "        text-align: right;\n",
              "    }\n",
              "</style>\n",
              "<table border=\"1\" class=\"dataframe\">\n",
              "  <thead>\n",
              "    <tr style=\"text-align: right;\">\n",
              "      <th></th>\n",
              "      <th>sample_id</th>\n",
              "      <th>disease</th>\n",
              "    </tr>\n",
              "  </thead>\n",
              "  <tbody>\n",
              "    <tr>\n",
              "      <th>0</th>\n",
              "      <td>1</td>\n",
              "      <td>control1</td>\n",
              "    </tr>\n",
              "    <tr>\n",
              "      <th>1</th>\n",
              "      <td>2</td>\n",
              "      <td>ctrl2</td>\n",
              "    </tr>\n",
              "    <tr>\n",
              "      <th>2</th>\n",
              "      <td>3</td>\n",
              "      <td>healthy</td>\n",
              "    </tr>\n",
              "    <tr>\n",
              "      <th>3</th>\n",
              "      <td>4</td>\n",
              "      <td>HCC</td>\n",
              "    </tr>\n",
              "  </tbody>\n",
              "</table>\n",
              "</div>"
            ],
            "text/plain": [
              "   sample_id   disease\n",
              "0          1  control1\n",
              "1          2     ctrl2\n",
              "2          3   healthy\n",
              "3          4       HCC"
            ]
          },
          "execution_count": 30,
          "metadata": {},
          "output_type": "execute_result"
        }
      ],
      "source": [
        "sample_metadata = pd.DataFrame({\"sample_id\": [1, 2, 3, 4], \"disease\": [\"control1\", \"ctrl2\", \"healthy\", \"HCC\"],})\n",
        "sample_metadata"
      ]
    },
    {
      "cell_type": "code",
      "execution_count": 32,
      "metadata": {},
      "outputs": [
        {
          "data": {
            "text/html": [
              "<div>\n",
              "<style scoped>\n",
              "    .dataframe tbody tr th:only-of-type {\n",
              "        vertical-align: middle;\n",
              "    }\n",
              "\n",
              "    .dataframe tbody tr th {\n",
              "        vertical-align: top;\n",
              "    }\n",
              "\n",
              "    .dataframe thead th {\n",
              "        text-align: right;\n",
              "    }\n",
              "</style>\n",
              "<table border=\"1\" class=\"dataframe\">\n",
              "  <thead>\n",
              "    <tr style=\"text-align: right;\">\n",
              "      <th></th>\n",
              "      <th>sample_id</th>\n",
              "      <th>disease</th>\n",
              "      <th>is_control</th>\n",
              "      <th>control_prob</th>\n",
              "    </tr>\n",
              "  </thead>\n",
              "  <tbody>\n",
              "    <tr>\n",
              "      <th>0</th>\n",
              "      <td>1</td>\n",
              "      <td>control1</td>\n",
              "      <td>True</td>\n",
              "      <td>1.00</td>\n",
              "    </tr>\n",
              "    <tr>\n",
              "      <th>1</th>\n",
              "      <td>2</td>\n",
              "      <td>ctrl2</td>\n",
              "      <td>True</td>\n",
              "      <td>1.00</td>\n",
              "    </tr>\n",
              "    <tr>\n",
              "      <th>2</th>\n",
              "      <td>3</td>\n",
              "      <td>healthy</td>\n",
              "      <td>True</td>\n",
              "      <td>0.96</td>\n",
              "    </tr>\n",
              "    <tr>\n",
              "      <th>3</th>\n",
              "      <td>4</td>\n",
              "      <td>HCC</td>\n",
              "      <td>False</td>\n",
              "      <td>0.08</td>\n",
              "    </tr>\n",
              "  </tbody>\n",
              "</table>\n",
              "</div>"
            ],
            "text/plain": [
              "   sample_id   disease  is_control control_prob\n",
              "0          1  control1        True         1.00\n",
              "1          2     ctrl2        True         1.00\n",
              "2          3   healthy        True         0.96\n",
              "3          4       HCC       False         0.08"
            ]
          },
          "execution_count": 32,
          "metadata": {},
          "output_type": "execute_result"
        }
      ],
      "source": [
        "curate.assign_control_pert_labels(sample_metadata, columns_to_exclude=[\"sample_id\"])"
      ]
    },
    {
      "cell_type": "code",
      "execution_count": null,
      "metadata": {},
      "outputs": [],
      "source": []
    }
  ],
  "metadata": {
    "kernelspec": {
      "display_name": "Python 3 (ipykernel)",
      "language": "python",
      "name": "python3"
    },
    "language_info": {
      "codemirror_mode": {
        "name": "ipython",
        "version": 3
      },
      "file_extension": ".py",
      "mimetype": "text/x-python",
      "name": "python",
      "nbconvert_exporter": "python",
      "pygments_lexer": "ipython3",
      "version": "3.10.2"
    }
  },
  "nbformat": 4,
  "nbformat_minor": 2
}