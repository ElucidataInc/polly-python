{
  "cells": [
    {
      "cell_type": "markdown",
      "metadata": {
        "colab_type": "text",
        "id": "view-in-github"
      },
      "source": [
        "<a href=\"https://polly.elucidata.io/manage/workspaces?action=open_polly_notebook&amp;source=github&amp;path=ElucidataInc%2Fpolly-python%2Fblob%2Fmain%2FAnalyse%2Fconsumption_starter_notebooks%2FPharmacodb.ipynb&amp;kernel=elucidata%2FPython+3.10&amp;machine=gp\" target=\"_parent\"><img alt=\"Open in Polly\" src=\"https://elucidatainc.github.io/PublicAssets/open_polly.svg\"/></a>\n"
      ]
    },
    {
      "cell_type": "markdown",
      "metadata": {
        "kernel": "SoS"
      },
      "source": [
        "# Welcome to Pollyglot Notebook."
      ]
    },
    {
      "cell_type": "code",
      "execution_count": null,
      "metadata": {
        "kernel": "Pollyglot"
      },
      "outputs": [],
      "source": [
        "# installing packages\n",
        "!sudo pip3 install polly-python --quiet \n",
        "!sudo pip3 install seaborn sklearn plotly --quiet\n",
        "!sudo pip3 install joblib --quiet# to install joblib\n",
        "!sudo pip3 install cmapPy --quiet\n",
        "!sudo pip3 install plotly scanpy --quiet"
      ]
    },
    {
      "cell_type": "code",
      "execution_count": null,
      "metadata": {
        "kernel": "Pollyglot"
      },
      "outputs": [],
      "source": [
        "# importing packages\n",
        "\n",
        "from joblib import Parallel, delayed\n",
        "import os\n",
        "import pandas as pd\n",
        "from cmapPy.pandasGEXpress.parse import parse\n",
        "from cmapPy.pandasGEXpress import GCToo\n",
        "from cmapPy.pandasGEXpress import write_gct\n",
        "from cmapPy.pandasGEXpress.concat import assemble_common_meta\n",
        "from cmapPy.pandasGEXpress.concat import assemble_data\n",
        "from polly.omixatlas import OmixAtlas\n",
        "from polly.workspaces import Workspaces\n",
        "import urllib.parse as urlparse\n",
        "from urllib.parse import parse_qs\n",
        "from json import dumps\n",
        "import numpy as np\n",
        "import plotly.express as px\n",
        "import seaborn as sns\n",
        "import plotly.figure_factory as ff\n",
        "import ipywidgets as widgets\n",
        "from ipywidgets import interact, interact_manual\n",
        "import scanpy as sc\n",
        "import matplotlib.pyplot as plt\n",
        "import seaborn as sns\n",
        "from IPython.display import display"
      ]
    },
    {
      "cell_type": "markdown",
      "metadata": {
        "kernel": "Pollyglot"
      },
      "source": [
        "# Extracting one dataset of GDSC1000 for visualising DataMatrix"
      ]
    },
    {
      "cell_type": "code",
      "execution_count": null,
      "metadata": {
        "kernel": "Pollyglot"
      },
      "outputs": [],
      "source": [
        "# sample level information\n",
        "url = 'https://compute.polly.elucidata.io/jupyter/user/1648786944051895-63321ea8a7ef4e46ae4bb683163092f7-549c2e96-b173-11ec-b1aa-caac265a8cfc/notebooks/polly_python_read_gct(copy)(16).ipynb?repo_id=1622113130397&repo_name=pcd&dataset_id=(5Z)-7-Oxozeaenol_pancreas_GDSC1000_drug_response&polly-func=open_notebook&polly-notebook-id=63321ea8a7ef4e46ae4bb683163092f7&initiator=omixatlas&project_id=8025&project_name=YL-trial&polly_app_wf_type=null'\n",
        "parsed = urlparse.urlparse(url)\n",
        "repo_vars_list = [parse_qs(parsed.query).get(query_url)[0] for query_url in ['repo_id', 'repo_name', 'dataset_id']]\n",
        "repo_id=repo_vars_list[0]\n",
        "repo_name=repo_vars_list[1]\n",
        "dataset_id=repo_vars_list[2]\n",
        "file_name = dataset_id+'.h5ad'\n",
        "\n",
        "AUTH_TOKEN=(os.environ['POLLY_REFRESH_TOKEN']) # Obtain authentication tokens\n",
        "omixatlas = OmixAtlas(AUTH_TOKEN)\n",
        "\n",
        "query=f\"SELECT * FROM {repo_name}.datasets WHERE dataset_id = '{dataset_id}'\"\n",
        "results=omixatlas.query_metadata(query)\n",
        "\n",
        "results"
      ]
    },
    {
      "cell_type": "code",
      "execution_count": null,
      "metadata": {
        "kernel": "Pollyglot"
      },
      "outputs": [],
      "source": [
        "data = omixatlas.download_data(repo_id, dataset_id)\n",
        "url = data.get('data').get('attributes').get('download_url')\n",
        "status = os.system(f\"wget -O '{file_name}' '{url}'\")\n",
        "if status == 0:\n",
        "    print(\"Downloaded data successfully\")\n",
        "else:\n",
        "    raise Exception(\"Download not successful\")"
      ]
    },
    {
      "cell_type": "code",
      "execution_count": null,
      "metadata": {
        "kernel": "Pollyglot"
      },
      "outputs": [],
      "source": [
        "import pandas as pd\n",
        "import cmapPy\n",
        "from cmapPy.pandasGEXpress.parse_gct import parse\n",
        "\n",
        "gct_obj = parse(file_name) ## Parse the file to create a gct object\n",
        "df = gct_obj.data_df ## Extract the dataframe from the gct object\n",
        "col_metadata = gct_obj.col_metadata_df # Extract the column metadata from the gct object\n",
        "row_metadata = gct_obj.row_metadata_df # Extract the row metadata from the gct object\n",
        "df"
      ]
    },
    {
      "cell_type": "code",
      "execution_count": null,
      "metadata": {
        "kernel": "Pollyglot"
      },
      "outputs": [],
      "source": [
        "col_metadata"
      ]
    },
    {
      "cell_type": "code",
      "execution_count": null,
      "metadata": {
        "kernel": "Pollyglot"
      },
      "outputs": [],
      "source": [
        "row_metadata"
      ]
    },
    {
      "cell_type": "code",
      "execution_count": null,
      "metadata": {
        "kernel": "Pollyglot"
      },
      "outputs": [],
      "source": [
        "import math\n",
        "conc_data = row_metadata.applymap(math.log10)\n",
        "conc_data"
      ]
    },
    {
      "cell_type": "code",
      "execution_count": null,
      "metadata": {
        "kernel": "Pollyglot"
      },
      "outputs": [],
      "source": [
        "!sudo pip3 install lmfit --quiet "
      ]
    },
    {
      "cell_type": "markdown",
      "metadata": {
        "kernel": "Pollyglot"
      },
      "source": [
        "# In context of disease and tissue, plot the drug response graph for all the cell lines"
      ]
    },
    {
      "cell_type": "code",
      "execution_count": null,
      "metadata": {
        "kernel": "Pollyglot"
      },
      "outputs": [],
      "source": [
        "df = df.rename(columns=dict(zip(col_metadata.index,col_metadata[\"cell_name\"]))) # cahnging names of columns as per user selection\n",
        "df1 = df.copy()\n",
        "df1[\"conc\"] = pd.DataFrame(conc_data.iloc[:,0])\n",
        "df1.plot(x=\"conc\", y=list(df.columns),kind=\"line\", figsize=(20, 20))\n"
      ]
    },
    {
      "cell_type": "code",
      "execution_count": null,
      "metadata": {
        "kernel": "Pollyglot"
      },
      "outputs": [],
      "source": [
        "polyline = np.linspace(1, 15, 50)\n",
        "plt.plot(df1.iloc[:,-1],df1.iloc[:,0])\n",
        "plt.scatter(df1.iloc[:,-1],df1.iloc[:,0])\n",
        "plt.scatter(col_metadata.loc[\"(5Z)-7-Oxozeaenol_KP-2_GDSC1000_response\",\"IC50\"],50)\n",
        "plt.title('(5Z)-7-Oxozeaenol_KP-2_GDSC1000') \n",
        "plt.xlabel(\"Drug Conc (log10 microM)\")\n",
        "plt.ylabel(\"Cell viability(%)\")"
      ]
    },
    {
      "cell_type": "code",
      "execution_count": null,
      "metadata": {
        "kernel": "Pollyglot"
      },
      "outputs": [],
      "source": [
        "col_metadata.loc[\"(5Z)-7-Oxozeaenol_KP-2_GDSC1000_response\",\"IC50\"]"
      ]
    },
    {
      "cell_type": "code",
      "execution_count": null,
      "metadata": {
        "kernel": "Pollyglot"
      },
      "outputs": [],
      "source": [
        "df2 = col_metadata[[\"HS\",\"Einf\",\"EC50\",\"AAC\",\"IC50\",\"DSS1\",\"DSS2\",\"DSS3\",\"cell_name\"]]\n",
        "df2 = df2.set_index('cell_name')\n",
        "df2.quantile([.25, .5, .75], axis = 0)"
      ]
    },
    {
      "cell_type": "code",
      "execution_count": null,
      "metadata": {
        "kernel": "Pollyglot"
      },
      "outputs": [],
      "source": [
        "df2.boxplot()"
      ]
    },
    {
      "cell_type": "markdown",
      "metadata": {
        "kernel": "Pollyglot"
      },
      "source": [
        "# RUN IT"
      ]
    },
    {
      "cell_type": "code",
      "execution_count": null,
      "metadata": {
        "kernel": "Pollyglot"
      },
      "outputs": [],
      "source": [
        "AUTH_TOKEN=(os.environ['POLLY_REFRESH_TOKEN']) # Obtain authentication tokens\n",
        "omixatlas = OmixAtlas(AUTH_TOKEN)\n",
        "\n",
        "### Dowmload the data parallely\n",
        "\n",
        "def download_dataset(repo, id):\n",
        "    \"\"\"\n",
        "    Downloads a single dataset with given repo_id and dataset_id\n",
        "    \"\"\"\n",
        "    repo_id = repo\n",
        "    dataset_id = id\n",
        "    file_name = f\"{dataset_id}.gct\"\n",
        "    data = omixatlas.download_data(repo_id, dataset_id)\n",
        "    url = data.get('data').get('attributes').get('download_url')\n",
        "    status = os.system(f\"wget -O '{file_name}' '{url}'\")\n",
        "    if status == 0:\n",
        "        print(\"Downloaded data successfully\")\n",
        "    else:\n",
        "        raise Exception(\"Download not successful\")\n",
        "        \n",
        "### Read gcts parallely\n",
        "\n",
        "def read_gcts(dataset_ids):\n",
        "    gct_files = [dataset_id+'.gct' for dataset_id in dataset_ids]\n",
        "    results_gct = Parallel(n_jobs=4)(delayed(parse)(gct_file) for gct_file in gct_files)\n",
        "    return results_gct"
      ]
    },
    {
      "cell_type": "markdown",
      "metadata": {
        "kernel": "Pollyglot"
      },
      "source": [
        "# Extracting all the GDSC1000 Datasets From PharmacoDB"
      ]
    },
    {
      "cell_type": "code",
      "execution_count": null,
      "metadata": {
        "kernel": "Pollyglot"
      },
      "outputs": [],
      "source": [
        "pd.options.display.max_columns = None\n",
        "\n",
        "# quering for more datasets of similar type\n",
        "query = \"\"\"SELECT * FROM pcd.datasets WHERE data_type = 'Drug Response' AND source = 'GDSC1000' \"\"\"\n",
        "results=omixatlas.query_metadata(query)\n",
        "#  \n",
        "# merging the all datasets and processing them on the basis of samples used in datasets\n",
        "dataset_ids = results[\"dataset_id\"]\n",
        "dataset_ids = dataset_ids.tolist()\n",
        "\n",
        "Parallel(n_jobs=20)(delayed(download_dataset)(\"pcd\", i) for i in dataset_ids)\n",
        "results_gct = read_gcts(dataset_ids)\n",
        "\n",
        "### Merge gcts\n",
        "gct_files = [dataset_id+'.gct' for dataset_id in dataset_ids]\n",
        "\n",
        "# Merging columns information\n",
        "All_Metadata_col = assemble_common_meta([i.col_metadata_df for i in results_gct], \n",
        "                                    fields_to_remove = [], sources = gct_files, \n",
        "                                    remove_all_metadata_fields = False, error_report_file = 'errors')\n",
        "                                    \n",
        "print(\"\\nColumns/Datasets information\")\n",
        "display(All_Metadata_col.head())"
      ]
    },
    {
      "cell_type": "code",
      "execution_count": null,
      "metadata": {
        "kernel": "Pollyglot"
      },
      "outputs": [],
      "source": [
        "All_Metadata_col.to_csv('PharmacoDB_GDSC1000.csv')"
      ]
    },
    {
      "cell_type": "code",
      "execution_count": null,
      "metadata": {
        "kernel": "Bash"
      },
      "outputs": [],
      "source": [
        "!polly files copy --workspace-id 8911 --source PharmacoDB_GDSC1000.csv --destination polly://PharmacoDB_GDSC1000.csv"
      ]
    },
    {
      "cell_type": "markdown",
      "metadata": {
        "kernel": "Bash"
      },
      "source": [
        "# Extracting all the CTRPv2 Datasets From PharmacoDB"
      ]
    },
    {
      "cell_type": "code",
      "execution_count": null,
      "metadata": {
        "kernel": "Pollyglot"
      },
      "outputs": [],
      "source": [
        "pd.options.display.max_columns = None\n",
        "\n",
        "# quering for more datasets of similar type\n",
        "query = \"\"\"SELECT * FROM pcd.datasets WHERE data_type = 'Drug Response' AND source = 'CTRPv2' \"\"\"\n",
        "results=omixatlas.query_metadata(query)\n",
        "#  \n",
        "# merging the all datasets and processing them on the basis of samples used in datasets\n",
        "dataset_ids = results[\"dataset_id\"]\n",
        "dataset_ids = dataset_ids.tolist()\n",
        "\n",
        "Parallel(n_jobs=20)(delayed(download_dataset)(\"pcd\", i) for i in dataset_ids)\n",
        "results_gct = read_gcts(dataset_ids)\n",
        "\n",
        "### Merge gcts\n",
        "gct_files = [dataset_id+'.gct' for dataset_id in dataset_ids]\n",
        "\n",
        "# Merging columns information\n",
        "All_Metadata_col = assemble_common_meta([i.col_metadata_df for i in results_gct], \n",
        "                                    fields_to_remove = [], sources = gct_files, \n",
        "                                    remove_all_metadata_fields = False, error_report_file = 'errors')\n",
        "                                    \n",
        "print(\"\\nColumns/Datasets information\")\n",
        "display(All_Metadata_col.head())"
      ]
    },
    {
      "cell_type": "code",
      "execution_count": null,
      "metadata": {
        "kernel": "Pollyglot"
      },
      "outputs": [],
      "source": [
        "All_Metadata_col.to_csv('PharmacoDB_CTRPv2.csv')"
      ]
    },
    {
      "cell_type": "code",
      "execution_count": null,
      "metadata": {
        "kernel": "Bash"
      },
      "outputs": [],
      "source": [
        "!polly files copy --workspace-id 8911 --source PharmacoDB_CTRPv2.csv --destination polly://PharmacoDB_CTRPv2.csv"
      ]
    },
    {
      "cell_type": "markdown",
      "metadata": {
        "kernel": "Bash"
      },
      "source": [
        "# Extracting all the CCLE Datasets From PharmacoDB"
      ]
    },
    {
      "cell_type": "code",
      "execution_count": null,
      "metadata": {
        "kernel": "Pollyglot"
      },
      "outputs": [],
      "source": [
        "pd.options.display.max_columns = None\n",
        "\n",
        "# quering for more datasets of similar type\n",
        "query = \"\"\"SELECT * FROM pcd.datasets WHERE data_type = 'Drug Response' AND source = 'CCLE' \"\"\"\n",
        "results=omixatlas.query_metadata(query)\n",
        "#  \n",
        "# merging the all datasets and processing them on the basis of samples used in datasets\n",
        "dataset_ids = results[\"dataset_id\"]\n",
        "dataset_ids = dataset_ids.tolist()\n",
        "\n",
        "Parallel(n_jobs=20)(delayed(download_dataset)(\"pcd\", i) for i in dataset_ids)\n",
        "results_gct = read_gcts(dataset_ids)\n",
        "\n",
        "### Merge gcts\n",
        "gct_files = [dataset_id+'.gct' for dataset_id in dataset_ids]\n",
        "\n",
        "# Merging columns information\n",
        "All_Metadata_col = assemble_common_meta([i.col_metadata_df for i in results_gct], \n",
        "                                    fields_to_remove = [], sources = gct_files, \n",
        "                                    remove_all_metadata_fields = False, error_report_file = 'errors')\n",
        "                                    \n",
        "print(\"\\nColumns/Datasets information\")\n",
        "display(All_Metadata_col.head())"
      ]
    },
    {
      "cell_type": "code",
      "execution_count": null,
      "metadata": {
        "kernel": "Pollyglot"
      },
      "outputs": [],
      "source": [
        "All_Metadata_col.to_csv('PharmacoDB_CCLE.csv')"
      ]
    },
    {
      "cell_type": "code",
      "execution_count": null,
      "metadata": {
        "kernel": "Bash"
      },
      "outputs": [],
      "source": [
        "!polly files copy --workspace-id 8911 --source PharmacoDB_CCLE.csv --destination polly://PharmacoDB_CCLE.csv"
      ]
    },
    {
      "cell_type": "markdown",
      "metadata": {
        "kernel": "Bash"
      },
      "source": [
        "# Extracting all the gCSI Datasets From PharmacoDB"
      ]
    },
    {
      "cell_type": "code",
      "execution_count": null,
      "metadata": {
        "kernel": "Pollyglot"
      },
      "outputs": [],
      "source": [
        "pd.options.display.max_columns = None\n",
        "\n",
        "# quering for more datasets of similar type\n",
        "query = \"\"\"SELECT * FROM pcd.datasets WHERE data_type = 'Drug Response' AND source = 'gCSI' \"\"\"\n",
        "results=omixatlas.query_metadata(query)\n",
        "#  \n",
        "# merging the all datasets and processing them on the basis of samples used in datasets\n",
        "dataset_ids = results[\"dataset_id\"]\n",
        "dataset_ids = dataset_ids.tolist()\n",
        "\n",
        "Parallel(n_jobs=20)(delayed(download_dataset)(\"pcd\", i) for i in dataset_ids)\n",
        "results_gct = read_gcts(dataset_ids)\n",
        "\n",
        "### Merge gcts\n",
        "gct_files = [dataset_id+'.gct' for dataset_id in dataset_ids]\n",
        "\n",
        "# Merging columns information\n",
        "All_Metadata_col = assemble_common_meta([i.col_metadata_df for i in results_gct], \n",
        "                                    fields_to_remove = [], sources = gct_files, \n",
        "                                    remove_all_metadata_fields = False, error_report_file = 'errors')\n",
        "                                    \n",
        "print(\"\\nColumns/Datasets information\")\n",
        "display(All_Metadata_col.head())"
      ]
    },
    {
      "cell_type": "code",
      "execution_count": 28,
      "metadata": {
        "kernel": "Pollyglot"
      },
      "outputs": [],
      "source": [
        "All_Metadata_col.to_csv('PharmacoDB_gCSI.csv')"
      ]
    },
    {
      "cell_type": "code",
      "execution_count": null,
      "metadata": {
        "kernel": "Bash"
      },
      "outputs": [],
      "source": [
        "!polly files copy --workspace-id 8911 --source PharmacoDB_gCSI.csv --destination polly://PharmacoDB_gCSI.csv"
      ]
    },
    {
      "cell_type": "markdown",
      "metadata": {
        "kernel": "Bash"
      },
      "source": [
        "# Extracting all the ALL Datasets From PharmacoDB"
      ]
    },
    {
      "cell_type": "code",
      "execution_count": null,
      "metadata": {
        "kernel": "Pollyglot"
      },
      "outputs": [],
      "source": [
        "pd.options.display.max_columns = None\n",
        "\n",
        "# quering for more datasets of similar type\n",
        "query = \"\"\"SELECT * FROM pcd.datasets WHERE data_type = 'Drug Response' \"\"\"\n",
        "results=omixatlas.query_metadata(query)\n",
        "#  \n",
        "# merging the all datasets and processing them on the basis of samples used in datasets\n",
        "dataset_ids = results[\"dataset_id\"]\n",
        "dataset_ids = dataset_ids.tolist()\n",
        "\n",
        "Parallel(n_jobs=20)(delayed(download_dataset)(\"pcd\", i) for i in dataset_ids)\n",
        "results_gct = read_gcts(dataset_ids)\n",
        "\n",
        "### Merge gcts\n",
        "gct_files = [dataset_id+'.gct' for dataset_id in dataset_ids]\n",
        "\n",
        "# Merging columns information\n",
        "All_Metadata_col = assemble_common_meta([i.col_metadata_df for i in results_gct], \n",
        "                                    fields_to_remove = [], sources = gct_files, \n",
        "                                    remove_all_metadata_fields = False, error_report_file = 'errors')\n",
        "                                    \n",
        "print(\"\\nColumns/Datasets information\")\n",
        "display(All_Metadata_col.head())"
      ]
    },
    {
      "cell_type": "code",
      "execution_count": 32,
      "metadata": {
        "kernel": "Pollyglot"
      },
      "outputs": [
        {
          "data": {
            "text/plain": [
              "array(['GDSC1000', 'CTRPv2', 'CCLE', 'GRAY', 'FIMM', 'UHNBreast', 'gCSI'],\n",
              "      dtype=object)"
            ]
          },
          "execution_count": 32,
          "metadata": {},
          "output_type": "execute_result"
        }
      ],
      "source": [
        "All_Metadata_col[\"source\"].unique()"
      ]
    },
    {
      "cell_type": "code",
      "execution_count": 33,
      "metadata": {
        "kernel": "Pollyglot"
      },
      "outputs": [],
      "source": [
        "All_Metadata_col.to_csv('PharmacoDB_alldata.csv')"
      ]
    },
    {
      "cell_type": "code",
      "execution_count": 34,
      "metadata": {
        "kernel": "Bash"
      },
      "outputs": [
        {
          "name": "stdout",
          "output_type": "stream",
          "text": [
            "/bin/bash: warning: setlocale: LC_ALL: cannot change locale (en_US.UTF-8)\n",
            "\u001b[32m\u001b[1mRefreshing session...\u001b[22m\u001b[39m\n",
            "\u001b[32m\u001b[1mSession refreshed!\u001b[22m\u001b[39m\n",
            "PharmacoDB_alldata.csv\n",
            "polly://PharmacoDB_alldata.csv\n",
            "\u001b[31m\u001b[1mError: 'NoneType' object has no attribute 'get'\u001b[22m\u001b[39m\n"
          ]
        }
      ],
      "source": [
        "!polly files copy --workspace-id 8911 --source PharmacoDB_alldata.csv --destination polly://PharmacoDB_alldata.csv"
      ]
    },
    {
      "cell_type": "code",
      "execution_count": null,
      "metadata": {
        "kernel": "Bash"
      },
      "outputs": [],
      "source": [
        "!polly files copy --workspace-id 8911 --source polly://PharmacoDB_alldata.csv --destination PharmacoDB_alldata.csv"
      ]
    },
    {
      "cell_type": "code",
      "execution_count": 36,
      "metadata": {
        "kernel": "Pollyglot"
      },
      "outputs": [
        {
          "data": {
            "text/html": [
              "<div>\n",
              "<style scoped>\n",
              "    .dataframe tbody tr th:only-of-type {\n",
              "        vertical-align: middle;\n",
              "    }\n",
              "\n",
              "    .dataframe tbody tr th {\n",
              "        vertical-align: top;\n",
              "    }\n",
              "\n",
              "    .dataframe thead th {\n",
              "        text-align: right;\n",
              "    }\n",
              "</style>\n",
              "<table border=\"1\" class=\"dataframe\">\n",
              "  <thead>\n",
              "    <tr style=\"text-align: right;\">\n",
              "      <th></th>\n",
              "      <th>cid</th>\n",
              "      <th>AAC</th>\n",
              "      <th>DSS1</th>\n",
              "      <th>DSS2</th>\n",
              "      <th>DSS3</th>\n",
              "      <th>EC50</th>\n",
              "      <th>Einf</th>\n",
              "      <th>HS</th>\n",
              "      <th>IC50</th>\n",
              "      <th>cell_name</th>\n",
              "      <th>drug_name</th>\n",
              "      <th>experiment_id</th>\n",
              "      <th>kw_curated_cell_line</th>\n",
              "      <th>kw_curated_cell_type</th>\n",
              "      <th>kw_curated_disease</th>\n",
              "      <th>kw_curated_drug</th>\n",
              "      <th>kw_curated_genetic_mod_type</th>\n",
              "      <th>kw_curated_modified_gene</th>\n",
              "      <th>kw_curated_tissue</th>\n",
              "      <th>source</th>\n",
              "      <th>tissue_name</th>\n",
              "    </tr>\n",
              "  </thead>\n",
              "  <tbody>\n",
              "    <tr>\n",
              "      <th>0</th>\n",
              "      <td>(5Z)-7-Oxozeaenol_22RV1_GDSC1000_response</td>\n",
              "      <td>0.099063</td>\n",
              "      <td>0.000000</td>\n",
              "      <td>0.000000</td>\n",
              "      <td>0.000000</td>\n",
              "      <td>1.562500</td>\n",
              "      <td>0.025</td>\n",
              "      <td>0.406250</td>\n",
              "      <td>1.617330</td>\n",
              "      <td>22RV1</td>\n",
              "      <td>(5Z)-7-Oxozeaenol</td>\n",
              "      <td>159758</td>\n",
              "      <td>22Rv1</td>\n",
              "      <td>none</td>\n",
              "      <td>Prostatic Neoplasms</td>\n",
              "      <td>5z-7-oxozeaenol</td>\n",
              "      <td>none</td>\n",
              "      <td>none</td>\n",
              "      <td>prostate gland</td>\n",
              "      <td>GDSC1000</td>\n",
              "      <td>prostate</td>\n",
              "    </tr>\n",
              "    <tr>\n",
              "      <th>1</th>\n",
              "      <td>(5Z)-7-Oxozeaenol_23132-87_GDSC1000_response</td>\n",
              "      <td>0.131264</td>\n",
              "      <td>0.097841</td>\n",
              "      <td>0.021246</td>\n",
              "      <td>0.006879</td>\n",
              "      <td>0.530166</td>\n",
              "      <td>0.000</td>\n",
              "      <td>0.875827</td>\n",
              "      <td>0.530166</td>\n",
              "      <td>23132-87</td>\n",
              "      <td>(5Z)-7-Oxozeaenol</td>\n",
              "      <td>204845</td>\n",
              "      <td>23132/87</td>\n",
              "      <td>none</td>\n",
              "      <td>Stomach Neoplasms</td>\n",
              "      <td>5z-7-oxozeaenol</td>\n",
              "      <td>none</td>\n",
              "      <td>none</td>\n",
              "      <td>stomach</td>\n",
              "      <td>GDSC1000</td>\n",
              "      <td>stomach</td>\n",
              "    </tr>\n",
              "    <tr>\n",
              "      <th>2</th>\n",
              "      <td>(5Z)-7-Oxozeaenol_42-MG-BA_GDSC1000_response</td>\n",
              "      <td>0.184227</td>\n",
              "      <td>0.146488</td>\n",
              "      <td>0.031809</td>\n",
              "      <td>0.012929</td>\n",
              "      <td>0.228140</td>\n",
              "      <td>0.000</td>\n",
              "      <td>0.804737</td>\n",
              "      <td>0.228140</td>\n",
              "      <td>42-MG-BA</td>\n",
              "      <td>(5Z)-7-Oxozeaenol</td>\n",
              "      <td>176388</td>\n",
              "      <td>42-MG-BA</td>\n",
              "      <td>none</td>\n",
              "      <td>Glioblastoma</td>\n",
              "      <td>5z-7-oxozeaenol</td>\n",
              "      <td>none</td>\n",
              "      <td>none</td>\n",
              "      <td>central nervous system</td>\n",
              "      <td>GDSC1000</td>\n",
              "      <td>central_nervous_system</td>\n",
              "    </tr>\n",
              "    <tr>\n",
              "      <th>3</th>\n",
              "      <td>(5Z)-7-Oxozeaenol_451Lu_GDSC1000_response</td>\n",
              "      <td>0.686878</td>\n",
              "      <td>0.652087</td>\n",
              "      <td>0.141599</td>\n",
              "      <td>0.141599</td>\n",
              "      <td>-4.552750</td>\n",
              "      <td>0.000</td>\n",
              "      <td>0.111777</td>\n",
              "      <td>-4.552750</td>\n",
              "      <td>451Lu</td>\n",
              "      <td>(5Z)-7-Oxozeaenol</td>\n",
              "      <td>178362</td>\n",
              "      <td>451Lu</td>\n",
              "      <td>none</td>\n",
              "      <td>Melanoma</td>\n",
              "      <td>5z-7-oxozeaenol</td>\n",
              "      <td>none</td>\n",
              "      <td>none</td>\n",
              "      <td>skin</td>\n",
              "      <td>GDSC1000</td>\n",
              "      <td>skin</td>\n",
              "    </tr>\n",
              "    <tr>\n",
              "      <th>4</th>\n",
              "      <td>(5Z)-7-Oxozeaenol_5637_GDSC1000_response</td>\n",
              "      <td>0.060415</td>\n",
              "      <td>0.052311</td>\n",
              "      <td>0.011359</td>\n",
              "      <td>0.001240</td>\n",
              "      <td>0.717281</td>\n",
              "      <td>0.000</td>\n",
              "      <td>3.926500</td>\n",
              "      <td>0.717281</td>\n",
              "      <td>5637</td>\n",
              "      <td>(5Z)-7-Oxozeaenol</td>\n",
              "      <td>203010</td>\n",
              "      <td>5637</td>\n",
              "      <td>none</td>\n",
              "      <td>Urinary Bladder Neoplasms</td>\n",
              "      <td>5z-7-oxozeaenol</td>\n",
              "      <td>none</td>\n",
              "      <td>none</td>\n",
              "      <td>urinary tract</td>\n",
              "      <td>GDSC1000</td>\n",
              "      <td>urinary_tract</td>\n",
              "    </tr>\n",
              "  </tbody>\n",
              "</table>\n",
              "</div>"
            ],
            "text/plain": [
              "                                            cid       AAC      DSS1      DSS2  \\\n",
              "0     (5Z)-7-Oxozeaenol_22RV1_GDSC1000_response  0.099063  0.000000  0.000000   \n",
              "1  (5Z)-7-Oxozeaenol_23132-87_GDSC1000_response  0.131264  0.097841  0.021246   \n",
              "2  (5Z)-7-Oxozeaenol_42-MG-BA_GDSC1000_response  0.184227  0.146488  0.031809   \n",
              "3     (5Z)-7-Oxozeaenol_451Lu_GDSC1000_response  0.686878  0.652087  0.141599   \n",
              "4      (5Z)-7-Oxozeaenol_5637_GDSC1000_response  0.060415  0.052311  0.011359   \n",
              "\n",
              "       DSS3      EC50   Einf        HS      IC50 cell_name          drug_name  \\\n",
              "0  0.000000  1.562500  0.025  0.406250  1.617330     22RV1  (5Z)-7-Oxozeaenol   \n",
              "1  0.006879  0.530166  0.000  0.875827  0.530166  23132-87  (5Z)-7-Oxozeaenol   \n",
              "2  0.012929  0.228140  0.000  0.804737  0.228140  42-MG-BA  (5Z)-7-Oxozeaenol   \n",
              "3  0.141599 -4.552750  0.000  0.111777 -4.552750     451Lu  (5Z)-7-Oxozeaenol   \n",
              "4  0.001240  0.717281  0.000  3.926500  0.717281      5637  (5Z)-7-Oxozeaenol   \n",
              "\n",
              "   experiment_id kw_curated_cell_line kw_curated_cell_type  \\\n",
              "0         159758                22Rv1                 none   \n",
              "1         204845             23132/87                 none   \n",
              "2         176388             42-MG-BA                 none   \n",
              "3         178362                451Lu                 none   \n",
              "4         203010                 5637                 none   \n",
              "\n",
              "          kw_curated_disease  kw_curated_drug kw_curated_genetic_mod_type  \\\n",
              "0        Prostatic Neoplasms  5z-7-oxozeaenol                        none   \n",
              "1          Stomach Neoplasms  5z-7-oxozeaenol                        none   \n",
              "2               Glioblastoma  5z-7-oxozeaenol                        none   \n",
              "3                   Melanoma  5z-7-oxozeaenol                        none   \n",
              "4  Urinary Bladder Neoplasms  5z-7-oxozeaenol                        none   \n",
              "\n",
              "  kw_curated_modified_gene       kw_curated_tissue    source  \\\n",
              "0                     none          prostate gland  GDSC1000   \n",
              "1                     none                 stomach  GDSC1000   \n",
              "2                     none  central nervous system  GDSC1000   \n",
              "3                     none                    skin  GDSC1000   \n",
              "4                     none           urinary tract  GDSC1000   \n",
              "\n",
              "              tissue_name  \n",
              "0                prostate  \n",
              "1                 stomach  \n",
              "2  central_nervous_system  \n",
              "3                    skin  \n",
              "4           urinary_tract  "
            ]
          },
          "execution_count": 36,
          "metadata": {},
          "output_type": "execute_result"
        }
      ],
      "source": [
        "data = pd.read_csv(\"PharmacoDB_alldata.csv\")\n",
        "data.head()"
      ]
    },
    {
      "cell_type": "code",
      "execution_count": 37,
      "metadata": {
        "kernel": "Pollyglot"
      },
      "outputs": [],
      "source": [
        "df2 = data[[\"HS\",\"Einf\",\"EC50\",\"AAC\",\"IC50\",\"DSS1\",\"DSS2\",\"DSS3\",\"cell_name\",\"drug_name\"]]\n",
        "#df2 = df2.set_index('cell_name')\n",
        "#df2.quantile([.25, .5, .75], axis = 0)"
      ]
    },
    {
      "cell_type": "code",
      "execution_count": 38,
      "metadata": {
        "kernel": "Pollyglot"
      },
      "outputs": [
        {
          "data": {
            "text/plain": [
              "<AxesSubplot:>"
            ]
          },
          "execution_count": 38,
          "metadata": {},
          "output_type": "execute_result"
        },
        {
          "data": {
            "image/png": "[encoded data removed]",
            "text/plain": [
              "<Figure size 432x288 with 1 Axes>"
            ]
          },
          "metadata": {
            "needs_background": "light"
          },
          "output_type": "display_data"
        }
      ],
      "source": [
        "df2.boxplot()"
      ]
    },
    {
      "cell_type": "code",
      "execution_count": 39,
      "metadata": {
        "kernel": "Pollyglot"
      },
      "outputs": [
        {
          "data": {
            "text/html": [
              "<div>\n",
              "<style scoped>\n",
              "    .dataframe tbody tr th:only-of-type {\n",
              "        vertical-align: middle;\n",
              "    }\n",
              "\n",
              "    .dataframe tbody tr th {\n",
              "        vertical-align: top;\n",
              "    }\n",
              "\n",
              "    .dataframe thead th {\n",
              "        text-align: right;\n",
              "    }\n",
              "</style>\n",
              "<table border=\"1\" class=\"dataframe\">\n",
              "  <thead>\n",
              "    <tr style=\"text-align: right;\">\n",
              "      <th></th>\n",
              "      <th>cid</th>\n",
              "      <th>AAC</th>\n",
              "      <th>DSS1</th>\n",
              "      <th>DSS2</th>\n",
              "      <th>DSS3</th>\n",
              "      <th>EC50</th>\n",
              "      <th>Einf</th>\n",
              "      <th>HS</th>\n",
              "      <th>IC50</th>\n",
              "      <th>cell_name</th>\n",
              "      <th>drug_name</th>\n",
              "      <th>experiment_id</th>\n",
              "      <th>kw_curated_cell_line</th>\n",
              "      <th>kw_curated_cell_type</th>\n",
              "      <th>kw_curated_disease</th>\n",
              "      <th>kw_curated_drug</th>\n",
              "      <th>kw_curated_genetic_mod_type</th>\n",
              "      <th>kw_curated_modified_gene</th>\n",
              "      <th>kw_curated_tissue</th>\n",
              "      <th>source</th>\n",
              "      <th>tissue_name</th>\n",
              "    </tr>\n",
              "  </thead>\n",
              "  <tbody>\n",
              "    <tr>\n",
              "      <th>972</th>\n",
              "      <td>16-beta-bromoandrosterone_A375_CTRPv2_rep_2_re...</td>\n",
              "      <td>0.013780</td>\n",
              "      <td>0.0</td>\n",
              "      <td>0.0</td>\n",
              "      <td>0.0</td>\n",
              "      <td>-0.21662</td>\n",
              "      <td>0.965049</td>\n",
              "      <td>4.0</td>\n",
              "      <td>NaN</td>\n",
              "      <td>A375</td>\n",
              "      <td>16-beta-bromoandrosterone</td>\n",
              "      <td>437053</td>\n",
              "      <td>A-375</td>\n",
              "      <td>none</td>\n",
              "      <td>Melanoma, Amelanotic</td>\n",
              "      <td>16-beta-bromoandrosterone</td>\n",
              "      <td>none</td>\n",
              "      <td>none</td>\n",
              "      <td>skin</td>\n",
              "      <td>CTRPv2</td>\n",
              "      <td>skin</td>\n",
              "    </tr>\n",
              "    <tr>\n",
              "      <th>973</th>\n",
              "      <td>16-beta-bromoandrosterone_A375_CTRPv2_response</td>\n",
              "      <td>0.000232</td>\n",
              "      <td>0.0</td>\n",
              "      <td>0.0</td>\n",
              "      <td>0.0</td>\n",
              "      <td>1.91199</td>\n",
              "      <td>0.766006</td>\n",
              "      <td>4.0</td>\n",
              "      <td>NaN</td>\n",
              "      <td>A375</td>\n",
              "      <td>16-beta-bromoandrosterone</td>\n",
              "      <td>273336</td>\n",
              "      <td>A-375</td>\n",
              "      <td>none</td>\n",
              "      <td>Melanoma, Amelanotic</td>\n",
              "      <td>16-beta-bromoandrosterone</td>\n",
              "      <td>none</td>\n",
              "      <td>none</td>\n",
              "      <td>skin</td>\n",
              "      <td>CTRPv2</td>\n",
              "      <td>skin</td>\n",
              "    </tr>\n",
              "  </tbody>\n",
              "</table>\n",
              "</div>"
            ],
            "text/plain": [
              "                                                   cid       AAC  DSS1  DSS2  \\\n",
              "972  16-beta-bromoandrosterone_A375_CTRPv2_rep_2_re...  0.013780   0.0   0.0   \n",
              "973     16-beta-bromoandrosterone_A375_CTRPv2_response  0.000232   0.0   0.0   \n",
              "\n",
              "     DSS3     EC50      Einf   HS  IC50 cell_name                  drug_name  \\\n",
              "972   0.0 -0.21662  0.965049  4.0   NaN      A375  16-beta-bromoandrosterone   \n",
              "973   0.0  1.91199  0.766006  4.0   NaN      A375  16-beta-bromoandrosterone   \n",
              "\n",
              "     experiment_id kw_curated_cell_line kw_curated_cell_type  \\\n",
              "972         437053                A-375                 none   \n",
              "973         273336                A-375                 none   \n",
              "\n",
              "       kw_curated_disease            kw_curated_drug  \\\n",
              "972  Melanoma, Amelanotic  16-beta-bromoandrosterone   \n",
              "973  Melanoma, Amelanotic  16-beta-bromoandrosterone   \n",
              "\n",
              "    kw_curated_genetic_mod_type kw_curated_modified_gene kw_curated_tissue  \\\n",
              "972                        none                     none              skin   \n",
              "973                        none                     none              skin   \n",
              "\n",
              "     source tissue_name  \n",
              "972  CTRPv2        skin  \n",
              "973  CTRPv2        skin  "
            ]
          },
          "execution_count": 39,
          "metadata": {},
          "output_type": "execute_result"
        }
      ],
      "source": [
        "df_new = data[data[\"cell_name\"]== \"A375\"]\n",
        "df_new = df_new[df_new[\"drug_name\"] == \"16-beta-bromoandrosterone\"]\n",
        "df_new"
      ]
    },
    {
      "cell_type": "code",
      "execution_count": 40,
      "metadata": {
        "kernel": "Pollyglot"
      },
      "outputs": [
        {
          "data": {
            "text/plain": [
              "HS                0\n",
              "Einf              0\n",
              "EC50              0\n",
              "AAC               0\n",
              "IC50         231503\n",
              "DSS1              0\n",
              "DSS2              0\n",
              "DSS3              0\n",
              "cell_name         0\n",
              "drug_name         0\n",
              "dtype: int64"
            ]
          },
          "execution_count": 40,
          "metadata": {},
          "output_type": "execute_result"
        }
      ],
      "source": [
        "data[[\"HS\",\"Einf\",\"EC50\",\"AAC\",\"IC50\",\"DSS1\",\"DSS2\",\"DSS3\",\"cell_name\",\"drug_name\"]].isnull().sum()"
      ]
    },
    {
      "cell_type": "code",
      "execution_count": 41,
      "metadata": {
        "kernel": "Pollyglot"
      },
      "outputs": [
        {
          "data": {
            "text/plain": [
              "649870"
            ]
          },
          "execution_count": 41,
          "metadata": {},
          "output_type": "execute_result"
        }
      ],
      "source": [
        "len(data)"
      ]
    },
    {
      "cell_type": "code",
      "execution_count": 42,
      "metadata": {
        "kernel": "Pollyglot"
      },
      "outputs": [
        {
          "data": {
            "text/html": [
              "<div>\n",
              "<style scoped>\n",
              "    .dataframe tbody tr th:only-of-type {\n",
              "        vertical-align: middle;\n",
              "    }\n",
              "\n",
              "    .dataframe tbody tr th {\n",
              "        vertical-align: top;\n",
              "    }\n",
              "\n",
              "    .dataframe thead th {\n",
              "        text-align: right;\n",
              "    }\n",
              "</style>\n",
              "<table border=\"1\" class=\"dataframe\">\n",
              "  <thead>\n",
              "    <tr style=\"text-align: right;\">\n",
              "      <th></th>\n",
              "      <th>cid</th>\n",
              "      <th>AAC</th>\n",
              "      <th>DSS1</th>\n",
              "      <th>DSS2</th>\n",
              "      <th>DSS3</th>\n",
              "      <th>EC50</th>\n",
              "      <th>Einf</th>\n",
              "      <th>HS</th>\n",
              "      <th>IC50</th>\n",
              "      <th>cell_name</th>\n",
              "      <th>drug_name</th>\n",
              "      <th>experiment_id</th>\n",
              "      <th>kw_curated_cell_line</th>\n",
              "      <th>kw_curated_cell_type</th>\n",
              "      <th>kw_curated_disease</th>\n",
              "      <th>kw_curated_drug</th>\n",
              "      <th>kw_curated_genetic_mod_type</th>\n",
              "      <th>kw_curated_modified_gene</th>\n",
              "      <th>kw_curated_tissue</th>\n",
              "      <th>source</th>\n",
              "      <th>tissue_name</th>\n",
              "    </tr>\n",
              "  </thead>\n",
              "  <tbody>\n",
              "    <tr>\n",
              "      <th>973</th>\n",
              "      <td>16-beta-bromoandrosterone_A375_CTRPv2_response</td>\n",
              "      <td>0.000232</td>\n",
              "      <td>0.000000</td>\n",
              "      <td>0.000000</td>\n",
              "      <td>0.000000</td>\n",
              "      <td>1.911990</td>\n",
              "      <td>0.766006</td>\n",
              "      <td>4.000000</td>\n",
              "      <td>NaN</td>\n",
              "      <td>A375</td>\n",
              "      <td>16-beta-bromoandrosterone</td>\n",
              "      <td>273336</td>\n",
              "      <td>A-375</td>\n",
              "      <td>none</td>\n",
              "      <td>Melanoma, Amelanotic</td>\n",
              "      <td>16-beta-bromoandrosterone</td>\n",
              "      <td>none</td>\n",
              "      <td>none</td>\n",
              "      <td>skin</td>\n",
              "      <td>CTRPv2</td>\n",
              "      <td>skin</td>\n",
              "    </tr>\n",
              "    <tr>\n",
              "      <th>977</th>\n",
              "      <td>16-beta-bromoandrosterone_A549_CTRPv2_rep_3_re...</td>\n",
              "      <td>0.008180</td>\n",
              "      <td>0.000000</td>\n",
              "      <td>0.000000</td>\n",
              "      <td>0.000000</td>\n",
              "      <td>3.494720</td>\n",
              "      <td>0.908716</td>\n",
              "      <td>0.266276</td>\n",
              "      <td>NaN</td>\n",
              "      <td>A549</td>\n",
              "      <td>16-beta-bromoandrosterone</td>\n",
              "      <td>419671</td>\n",
              "      <td>A-549</td>\n",
              "      <td>none</td>\n",
              "      <td>Adenocarcinoma of Lung</td>\n",
              "      <td>16-beta-bromoandrosterone</td>\n",
              "      <td>none</td>\n",
              "      <td>none</td>\n",
              "      <td>lung</td>\n",
              "      <td>CTRPv2</td>\n",
              "      <td>lung</td>\n",
              "    </tr>\n",
              "    <tr>\n",
              "      <th>978</th>\n",
              "      <td>16-beta-bromoandrosterone_A549_CTRPv2_response</td>\n",
              "      <td>0.027774</td>\n",
              "      <td>0.000000</td>\n",
              "      <td>0.000000</td>\n",
              "      <td>0.000000</td>\n",
              "      <td>3.118170</td>\n",
              "      <td>0.881447</td>\n",
              "      <td>0.140207</td>\n",
              "      <td>NaN</td>\n",
              "      <td>A549</td>\n",
              "      <td>16-beta-bromoandrosterone</td>\n",
              "      <td>273803</td>\n",
              "      <td>A-549</td>\n",
              "      <td>none</td>\n",
              "      <td>Adenocarcinoma of Lung</td>\n",
              "      <td>16-beta-bromoandrosterone</td>\n",
              "      <td>none</td>\n",
              "      <td>none</td>\n",
              "      <td>lung</td>\n",
              "      <td>CTRPv2</td>\n",
              "      <td>lung</td>\n",
              "    </tr>\n",
              "    <tr>\n",
              "      <th>990</th>\n",
              "      <td>16-beta-bromoandrosterone_AsPC-1_CTRPv2_response</td>\n",
              "      <td>0.026001</td>\n",
              "      <td>0.000000</td>\n",
              "      <td>0.000000</td>\n",
              "      <td>0.000000</td>\n",
              "      <td>1.035780</td>\n",
              "      <td>0.916573</td>\n",
              "      <td>0.218795</td>\n",
              "      <td>NaN</td>\n",
              "      <td>AsPC-1</td>\n",
              "      <td>16-beta-bromoandrosterone</td>\n",
              "      <td>529173</td>\n",
              "      <td>AsPC-1</td>\n",
              "      <td>none</td>\n",
              "      <td>Carcinoma, Pancreatic Ductal</td>\n",
              "      <td>16-beta-bromoandrosterone</td>\n",
              "      <td>none</td>\n",
              "      <td>none</td>\n",
              "      <td>pancreas</td>\n",
              "      <td>CTRPv2</td>\n",
              "      <td>pancreas</td>\n",
              "    </tr>\n",
              "    <tr>\n",
              "      <th>1055</th>\n",
              "      <td>16-beta-bromoandrosterone_CAL-51_CTRPv2_response</td>\n",
              "      <td>0.001653</td>\n",
              "      <td>0.000000</td>\n",
              "      <td>0.000000</td>\n",
              "      <td>0.000000</td>\n",
              "      <td>0.211683</td>\n",
              "      <td>0.995373</td>\n",
              "      <td>0.354378</td>\n",
              "      <td>NaN</td>\n",
              "      <td>CAL-51</td>\n",
              "      <td>16-beta-bromoandrosterone</td>\n",
              "      <td>351182</td>\n",
              "      <td>CAL-51</td>\n",
              "      <td>none</td>\n",
              "      <td>Breast Neoplasms</td>\n",
              "      <td>16-beta-bromoandrosterone</td>\n",
              "      <td>none</td>\n",
              "      <td>none</td>\n",
              "      <td>breast</td>\n",
              "      <td>CTRPv2</td>\n",
              "      <td>breast</td>\n",
              "    </tr>\n",
              "    <tr>\n",
              "      <th>...</th>\n",
              "      <td>...</td>\n",
              "      <td>...</td>\n",
              "      <td>...</td>\n",
              "      <td>...</td>\n",
              "      <td>...</td>\n",
              "      <td>...</td>\n",
              "      <td>...</td>\n",
              "      <td>...</td>\n",
              "      <td>...</td>\n",
              "      <td>...</td>\n",
              "      <td>...</td>\n",
              "      <td>...</td>\n",
              "      <td>...</td>\n",
              "      <td>...</td>\n",
              "      <td>...</td>\n",
              "      <td>...</td>\n",
              "      <td>...</td>\n",
              "      <td>...</td>\n",
              "      <td>...</td>\n",
              "      <td>...</td>\n",
              "      <td>...</td>\n",
              "    </tr>\n",
              "    <tr>\n",
              "      <th>649545</th>\n",
              "      <td>vorinostat:navitoclax (4:1 mol/mol)_NCI-H1869_...</td>\n",
              "      <td>0.088441</td>\n",
              "      <td>0.079658</td>\n",
              "      <td>0.017386</td>\n",
              "      <td>0.002471</td>\n",
              "      <td>1.111990</td>\n",
              "      <td>0.023079</td>\n",
              "      <td>4.000000</td>\n",
              "      <td>1.117120</td>\n",
              "      <td>NCI-H1869</td>\n",
              "      <td>vorinostat:navitoclax (4:1 mol/mol)</td>\n",
              "      <td>467735</td>\n",
              "      <td>NCI-H1869</td>\n",
              "      <td>none</td>\n",
              "      <td>Neoplasms, Squamous Cell</td>\n",
              "      <td>vorinostat:navitoclax (4:1 mol/mol)</td>\n",
              "      <td>none</td>\n",
              "      <td>none</td>\n",
              "      <td>lung</td>\n",
              "      <td>CTRPv2</td>\n",
              "      <td>lung</td>\n",
              "    </tr>\n",
              "    <tr>\n",
              "      <th>649580</th>\n",
              "      <td>vorinostat:navitoclax (4:1 mol/mol)_NCI-H460_C...</td>\n",
              "      <td>0.046259</td>\n",
              "      <td>0.030928</td>\n",
              "      <td>0.006716</td>\n",
              "      <td>0.000881</td>\n",
              "      <td>1.425180</td>\n",
              "      <td>0.000000</td>\n",
              "      <td>1.910140</td>\n",
              "      <td>1.425180</td>\n",
              "      <td>NCI-H460</td>\n",
              "      <td>vorinostat:navitoclax (4:1 mol/mol)</td>\n",
              "      <td>334159</td>\n",
              "      <td>NCI-H460</td>\n",
              "      <td>none</td>\n",
              "      <td>Carcinoma, Large Cell</td>\n",
              "      <td>vorinostat:navitoclax (4:1 mol/mol)</td>\n",
              "      <td>none</td>\n",
              "      <td>none</td>\n",
              "      <td>lung</td>\n",
              "      <td>CTRPv2</td>\n",
              "      <td>lung</td>\n",
              "    </tr>\n",
              "    <tr>\n",
              "      <th>649582</th>\n",
              "      <td>vorinostat:navitoclax (4:1 mol/mol)_NCI-H520_C...</td>\n",
              "      <td>0.175547</td>\n",
              "      <td>0.162652</td>\n",
              "      <td>0.037000</td>\n",
              "      <td>0.009809</td>\n",
              "      <td>0.540745</td>\n",
              "      <td>0.188770</td>\n",
              "      <td>3.871290</td>\n",
              "      <td>0.593929</td>\n",
              "      <td>NCI-H520</td>\n",
              "      <td>vorinostat:navitoclax (4:1 mol/mol)</td>\n",
              "      <td>401771</td>\n",
              "      <td>NCI-H520</td>\n",
              "      <td>none</td>\n",
              "      <td>Neoplasms, Squamous Cell</td>\n",
              "      <td>vorinostat:navitoclax (4:1 mol/mol)</td>\n",
              "      <td>none</td>\n",
              "      <td>none</td>\n",
              "      <td>lung</td>\n",
              "      <td>CTRPv2</td>\n",
              "      <td>lung</td>\n",
              "    </tr>\n",
              "    <tr>\n",
              "      <th>649633</th>\n",
              "      <td>vorinostat:navitoclax (4:1 mol/mol)_P3HR-1_CTR...</td>\n",
              "      <td>0.189486</td>\n",
              "      <td>0.177306</td>\n",
              "      <td>0.040010</td>\n",
              "      <td>0.010944</td>\n",
              "      <td>0.500000</td>\n",
              "      <td>0.159375</td>\n",
              "      <td>4.000000</td>\n",
              "      <td>0.541673</td>\n",
              "      <td>P3HR-1</td>\n",
              "      <td>vorinostat:navitoclax (4:1 mol/mol)</td>\n",
              "      <td>382506</td>\n",
              "      <td>P3HR-1</td>\n",
              "      <td>none</td>\n",
              "      <td>Burkitt Lymphoma</td>\n",
              "      <td>vorinostat:navitoclax (4:1 mol/mol)</td>\n",
              "      <td>none</td>\n",
              "      <td>none</td>\n",
              "      <td>lymphoid tissue</td>\n",
              "      <td>CTRPv2</td>\n",
              "      <td>haematopoietic_and_lymphoid_tissue</td>\n",
              "    </tr>\n",
              "    <tr>\n",
              "      <th>649777</th>\n",
              "      <td>vorinostat:navitoclax (4:1 mol/mol)_SUIT-2_CTR...</td>\n",
              "      <td>0.145517</td>\n",
              "      <td>0.126846</td>\n",
              "      <td>0.028717</td>\n",
              "      <td>0.007611</td>\n",
              "      <td>0.729361</td>\n",
              "      <td>0.171409</td>\n",
              "      <td>2.111520</td>\n",
              "      <td>0.815704</td>\n",
              "      <td>SUIT-2</td>\n",
              "      <td>vorinostat:navitoclax (4:1 mol/mol)</td>\n",
              "      <td>275428</td>\n",
              "      <td>SUIT-2</td>\n",
              "      <td>none</td>\n",
              "      <td>Carcinoma, Pancreatic Ductal</td>\n",
              "      <td>vorinostat:navitoclax (4:1 mol/mol)</td>\n",
              "      <td>none</td>\n",
              "      <td>none</td>\n",
              "      <td>pancreas</td>\n",
              "      <td>CTRPv2</td>\n",
              "      <td>pancreas</td>\n",
              "    </tr>\n",
              "  </tbody>\n",
              "</table>\n",
              "<p>79197 rows \u00d7 21 columns</p>\n",
              "</div>"
            ],
            "text/plain": [
              "                                                      cid       AAC      DSS1  \\\n",
              "973        16-beta-bromoandrosterone_A375_CTRPv2_response  0.000232  0.000000   \n",
              "977     16-beta-bromoandrosterone_A549_CTRPv2_rep_3_re...  0.008180  0.000000   \n",
              "978        16-beta-bromoandrosterone_A549_CTRPv2_response  0.027774  0.000000   \n",
              "990      16-beta-bromoandrosterone_AsPC-1_CTRPv2_response  0.026001  0.000000   \n",
              "1055     16-beta-bromoandrosterone_CAL-51_CTRPv2_response  0.001653  0.000000   \n",
              "...                                                   ...       ...       ...   \n",
              "649545  vorinostat:navitoclax (4:1 mol/mol)_NCI-H1869_...  0.088441  0.079658   \n",
              "649580  vorinostat:navitoclax (4:1 mol/mol)_NCI-H460_C...  0.046259  0.030928   \n",
              "649582  vorinostat:navitoclax (4:1 mol/mol)_NCI-H520_C...  0.175547  0.162652   \n",
              "649633  vorinostat:navitoclax (4:1 mol/mol)_P3HR-1_CTR...  0.189486  0.177306   \n",
              "649777  vorinostat:navitoclax (4:1 mol/mol)_SUIT-2_CTR...  0.145517  0.126846   \n",
              "\n",
              "            DSS2      DSS3      EC50      Einf        HS      IC50  cell_name  \\\n",
              "973     0.000000  0.000000  1.911990  0.766006  4.000000       NaN       A375   \n",
              "977     0.000000  0.000000  3.494720  0.908716  0.266276       NaN       A549   \n",
              "978     0.000000  0.000000  3.118170  0.881447  0.140207       NaN       A549   \n",
              "990     0.000000  0.000000  1.035780  0.916573  0.218795       NaN     AsPC-1   \n",
              "1055    0.000000  0.000000  0.211683  0.995373  0.354378       NaN     CAL-51   \n",
              "...          ...       ...       ...       ...       ...       ...        ...   \n",
              "649545  0.017386  0.002471  1.111990  0.023079  4.000000  1.117120  NCI-H1869   \n",
              "649580  0.006716  0.000881  1.425180  0.000000  1.910140  1.425180   NCI-H460   \n",
              "649582  0.037000  0.009809  0.540745  0.188770  3.871290  0.593929   NCI-H520   \n",
              "649633  0.040010  0.010944  0.500000  0.159375  4.000000  0.541673     P3HR-1   \n",
              "649777  0.028717  0.007611  0.729361  0.171409  2.111520  0.815704     SUIT-2   \n",
              "\n",
              "                                  drug_name  experiment_id  \\\n",
              "973               16-beta-bromoandrosterone         273336   \n",
              "977               16-beta-bromoandrosterone         419671   \n",
              "978               16-beta-bromoandrosterone         273803   \n",
              "990               16-beta-bromoandrosterone         529173   \n",
              "1055              16-beta-bromoandrosterone         351182   \n",
              "...                                     ...            ...   \n",
              "649545  vorinostat:navitoclax (4:1 mol/mol)         467735   \n",
              "649580  vorinostat:navitoclax (4:1 mol/mol)         334159   \n",
              "649582  vorinostat:navitoclax (4:1 mol/mol)         401771   \n",
              "649633  vorinostat:navitoclax (4:1 mol/mol)         382506   \n",
              "649777  vorinostat:navitoclax (4:1 mol/mol)         275428   \n",
              "\n",
              "       kw_curated_cell_line kw_curated_cell_type  \\\n",
              "973                   A-375                 none   \n",
              "977                   A-549                 none   \n",
              "978                   A-549                 none   \n",
              "990                  AsPC-1                 none   \n",
              "1055                 CAL-51                 none   \n",
              "...                     ...                  ...   \n",
              "649545            NCI-H1869                 none   \n",
              "649580             NCI-H460                 none   \n",
              "649582             NCI-H520                 none   \n",
              "649633               P3HR-1                 none   \n",
              "649777               SUIT-2                 none   \n",
              "\n",
              "                  kw_curated_disease                      kw_curated_drug  \\\n",
              "973             Melanoma, Amelanotic            16-beta-bromoandrosterone   \n",
              "977           Adenocarcinoma of Lung            16-beta-bromoandrosterone   \n",
              "978           Adenocarcinoma of Lung            16-beta-bromoandrosterone   \n",
              "990     Carcinoma, Pancreatic Ductal            16-beta-bromoandrosterone   \n",
              "1055                Breast Neoplasms            16-beta-bromoandrosterone   \n",
              "...                              ...                                  ...   \n",
              "649545      Neoplasms, Squamous Cell  vorinostat:navitoclax (4:1 mol/mol)   \n",
              "649580         Carcinoma, Large Cell  vorinostat:navitoclax (4:1 mol/mol)   \n",
              "649582      Neoplasms, Squamous Cell  vorinostat:navitoclax (4:1 mol/mol)   \n",
              "649633              Burkitt Lymphoma  vorinostat:navitoclax (4:1 mol/mol)   \n",
              "649777  Carcinoma, Pancreatic Ductal  vorinostat:navitoclax (4:1 mol/mol)   \n",
              "\n",
              "       kw_curated_genetic_mod_type kw_curated_modified_gene kw_curated_tissue  \\\n",
              "973                           none                     none              skin   \n",
              "977                           none                     none              lung   \n",
              "978                           none                     none              lung   \n",
              "990                           none                     none          pancreas   \n",
              "1055                          none                     none            breast   \n",
              "...                            ...                      ...               ...   \n",
              "649545                        none                     none              lung   \n",
              "649580                        none                     none              lung   \n",
              "649582                        none                     none              lung   \n",
              "649633                        none                     none   lymphoid tissue   \n",
              "649777                        none                     none          pancreas   \n",
              "\n",
              "        source                         tissue_name  \n",
              "973     CTRPv2                                skin  \n",
              "977     CTRPv2                                lung  \n",
              "978     CTRPv2                                lung  \n",
              "990     CTRPv2                            pancreas  \n",
              "1055    CTRPv2                              breast  \n",
              "...        ...                                 ...  \n",
              "649545  CTRPv2                                lung  \n",
              "649580  CTRPv2                                lung  \n",
              "649582  CTRPv2                                lung  \n",
              "649633  CTRPv2  haematopoietic_and_lymphoid_tissue  \n",
              "649777  CTRPv2                            pancreas  \n",
              "\n",
              "[79197 rows x 21 columns]"
            ]
          },
          "execution_count": 42,
          "metadata": {},
          "output_type": "execute_result"
        }
      ],
      "source": [
        "duplicate = data[data.duplicated([\"cell_name\",\"drug_name\"])]\n",
        "duplicate"
      ]
    },
    {
      "cell_type": "code",
      "execution_count": null,
      "metadata": {},
      "outputs": [],
      "source": []
    }
  ],
  "metadata": {
    "kernelspec": {
      "display_name": "Python 3 (ipykernel)",
      "language": "python",
      "name": "python3"
    },
    "language_info": {
      "codemirror_mode": {
        "name": "ipython",
        "version": 3
      },
      "file_extension": ".py",
      "mimetype": "text/x-python",
      "name": "python",
      "nbconvert_exporter": "python",
      "pygments_lexer": "ipython3",
      "version": "3.10.2"
    },
    "sos": {
      "kernels": [
        [
          "Bash",
          "bash",
          "Bash",
          "#E6EEFF",
          "shell"
        ],
        [
          "Pollyglot",
          "sos",
          "",
          "",
          "sos"
        ],
        [
          "R",
          "ir",
          "R",
          "#DCDCDA",
          "r"
        ]
      ],
      "panel": {
        "displayed": true,
        "height": 0
      },
      "version": "1.0.0"
    }
  },
  "nbformat": 4,
  "nbformat_minor": 2
}