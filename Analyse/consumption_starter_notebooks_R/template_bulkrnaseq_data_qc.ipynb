{
 "cells": [
  {
   "cell_type": "markdown",
   "metadata": {
    "kernel": "SoS"
   },
   "source": [
    "# *Data QC of bulk RNA-seq data in R* \n",
    "Info | Value\n",
    "---- | ----\n",
    "Implemented by | Elucidata\n",
    "Docker | RNASeq Downstream:For transcriptomics analysis\n",
    "Tag(s) | edgeR - pca - counts distribution - raw counts "
   ]
  },
  {
   "cell_type": "markdown",
   "metadata": {
    "kernel": "Pollyglot"
   },
   "source": [
    "## Initiate and configure the notebook"
   ]
  },
  {
   "cell_type": "code",
   "execution_count": null,
   "metadata": {
    "kernel": "Pollyglot"
   },
   "outputs": [],
   "source": [
    "# please do not modify\n",
    "from IPython.display import display_html\n",
    "def restartkernel() :\n",
    "    display_html(\"<script>Jupyter.notebook.kernel.restart()</script>\",raw=True)"
   ]
  },
  {
   "cell_type": "code",
   "execution_count": null,
   "metadata": {
    "kernel": "Pollyglot"
   },
   "outputs": [],
   "source": [
    "!sudo pip3 install polly-python --quiet"
   ]
  },
  {
   "cell_type": "code",
   "execution_count": null,
   "metadata": {
    "kernel": "Pollyglot"
   },
   "outputs": [],
   "source": [
    "restartkernel() #Pause for a few seconds before the kernel is refreshed"
   ]
  },
  {
   "cell_type": "code",
   "execution_count": null,
   "metadata": {
    "kernel": "Pollyglot"
   },
   "outputs": [],
   "source": [
    "# please do not modify\n",
    "from IPython.display import HTML\n",
    "HTML('''<script type=\"text/javascript\"> Jupyter.notebook.kernel.execute(\"url = '\" + window.location + \"'\", {}, {}); </script>''')"
   ]
  },
  {
   "cell_type": "markdown",
   "metadata": {
    "kernel": "Python3"
   },
   "source": [
    "## Fetch OmixAtlas ID and Dataset ID\n",
    "\n",
    "- **OmixAtlas ID**: Target repository identifier which is required for downloading the dataset\n",
    "- **Dataset ID**: Identifier for the dataset on the atlas which is to be analysed "
   ]
  },
  {
   "cell_type": "code",
   "execution_count": null,
   "metadata": {
    "kernel": "Pollyglot"
   },
   "outputs": [],
   "source": [
    "import urllib.parse as urlparse\n",
    "from urllib.parse import parse_qs\n",
    "\n",
    "parsed_url     = urlparse.urlparse(url)\n",
    "repo_vars_list = [parse_qs(parsed_url.query).get(query_url)[0] for query_url in ['repo_id', 'repo_name', 'dataset_id']]\n",
    "repo_id        = repo_vars_list[0]\n",
    "dataset_id     = repo_vars_list[2]"
   ]
  },
  {
   "cell_type": "markdown",
   "metadata": {
    "kernel": "Python3"
   },
   "source": [
    "## Download dataset from the OmixAtlas"
   ]
  },
  {
   "cell_type": "code",
   "execution_count": null,
   "metadata": {
    "kernel": "Pollyglot"
   },
   "outputs": [],
   "source": [
    "from polly.omixatlas import OmixAtlas\n",
    "import os"
   ]
  },
  {
   "cell_type": "code",
   "execution_count": null,
   "metadata": {
    "kernel": "Pollyglot"
   },
   "outputs": [],
   "source": [
    "omix_atlas = OmixAtlas(os.environ['POLLY_REFRESH_TOKEN'])"
   ]
  },
  {
   "cell_type": "code",
   "execution_count": null,
   "metadata": {
    "kernel": "Pollyglot"
   },
   "outputs": [],
   "source": [
    "def download_dataset(repo_id, dataset_id):\n",
    "    \"\"\"\n",
    "    Downloads a single dataset with given repo_id and dataset_id\n",
    "    \"\"\"\n",
    "    file_name = f\"{dataset_id}.gct\"\n",
    "    data = omix_atlas.download_data(repo_id, dataset_id)\n",
    "    url = data.get('data').get('attributes').get('download_url')\n",
    "    status = os.system(f\"wget -O '{file_name}' '{url}'\")\n",
    "    if status == 0:\n",
    "        print(\"Downloaded data successfully\")\n",
    "    else:\n",
    "        raise Exception(\"Download not successful\")"
   ]
  },
  {
   "cell_type": "code",
   "execution_count": null,
   "metadata": {
    "kernel": "Pollyglot"
   },
   "outputs": [],
   "source": [
    "download_dataset(repo_id, dataset_id)"
   ]
  },
  {
   "cell_type": "markdown",
   "metadata": {
    "kernel": "Bash"
   },
   "source": [
    "## Read dataset"
   ]
  },
  {
   "cell_type": "code",
   "execution_count": null,
   "metadata": {
    "kernel": "R"
   },
   "outputs": [],
   "source": [
    "%get dataset_id --from python3\n",
    "dataset_id"
   ]
  },
  {
   "cell_type": "code",
   "execution_count": null,
   "metadata": {
    "kernel": "R"
   },
   "outputs": [],
   "source": [
    "library(mapGCT)"
   ]
  },
  {
   "cell_type": "code",
   "execution_count": null,
   "metadata": {
    "kernel": "R"
   },
   "outputs": [],
   "source": [
    "gctFile <- paste0(dataset_id, '.gct')\n",
    "gctObj  <- parse_gct(gctFile)"
   ]
  },
  {
   "cell_type": "code",
   "execution_count": null,
   "metadata": {
    "kernel": "R"
   },
   "outputs": [],
   "source": [
    "counts  <- gctObj@mat\n",
    "coldata <- gctObj@cdesc\n",
    "rowdata <- gctObj@rdesc"
   ]
  },
  {
   "cell_type": "code",
   "execution_count": null,
   "metadata": {
    "kernel": "R"
   },
   "outputs": [],
   "source": [
    "dim(counts)\n",
    "head(counts)"
   ]
  },
  {
   "cell_type": "code",
   "execution_count": null,
   "metadata": {
    "kernel": "R"
   },
   "outputs": [],
   "source": [
    "dim(coldata)\n",
    "head(coldata)"
   ]
  },
  {
   "cell_type": "code",
   "execution_count": null,
   "metadata": {
    "kernel": "R"
   },
   "outputs": [],
   "source": [
    "dim(rowdata)\n",
    "head(rowdata)"
   ]
  },
  {
   "cell_type": "markdown",
   "metadata": {
    "kernel": "R"
   },
   "source": [
    "## Distributionn of reads mapped to each sample"
   ]
  },
  {
   "cell_type": "code",
   "execution_count": null,
   "metadata": {
    "kernel": "R"
   },
   "outputs": [],
   "source": [
    "reads.data.frame <- data.frame(\n",
    "    sample = colnames(counts),\n",
    "    totalCounts = colSums(counts)\n",
    ")\n",
    "reads.data.frame <- reads.data.frame[order(reads.data.frame$totalCounts), ,F]\n",
    "dim(reads.data.frame)\n",
    "head(reads.data.frame)"
   ]
  },
  {
   "cell_type": "code",
   "execution_count": null,
   "metadata": {
    "kernel": "R"
   },
   "outputs": [],
   "source": [
    "library(ggplot2)\n",
    "library(RColorBrewer)\n",
    "options(repr.plot.width=15, repr.plot.height=9)\n",
    "\n",
    "p <- ggplot(data=reads.data.frame, aes(x=sample, y=totalCounts)) +\n",
    "        geom_bar(stat=\"identity\")+\n",
    "        labs(\n",
    "            title=paste0(dataset_id, \": mapped reads distribution\"),\n",
    "            x = \"Samples\",\n",
    "            y = \"Reads mapped\",\n",
    "            caption = paste0(\"Source: \", dataset_id)\n",
    "        )+\n",
    "        scale_fill_brewer(palette=\"Dark2\")+\n",
    "        scale_x_discrete(limits = reads.data.frame$sample)+\n",
    "        theme(\n",
    "          axis.line = element_line(size = 1, colour = \"grey\"),\n",
    "          panel.grid.major = element_blank(),\n",
    "          panel.grid.minor = element_blank(),\n",
    "          panel.border = element_blank(),\n",
    "          panel.background = element_blank()\n",
    "        ) +\n",
    "        theme(\n",
    "          legend.position = \"right\", legend.direction = \"vertical\", # legend positioned at the bottom, horizantal direction,\n",
    "          axis.line = element_line(size=1, colour = \"black\"), # axis line of size 1 inch in black color\n",
    "          panel.grid.major = element_blank(), # major grids included\n",
    "          panel.grid.minor = element_blank(), # no minor grids\n",
    "          panel.border = element_blank(), panel.background = element_blank(), # no borders and background color\n",
    "          plot.title = element_text(color = \"black\", size = 25, face=\"bold\"),\n",
    "          axis.title = element_text(colour=\"black\", size = 20, face = \"bold\"), # axis title\n",
    "          axis.text.x = element_text(colour=\"black\", size = 15, angle=90, margin=unit(c(0.5,0.5,0.1,0.1), \"cm\"), face = \"bold\"), # x-axis text in fontsize 20\n",
    "          axis.text.y = element_text(colour=\"black\", size = 15, margin=unit(c(0.5,0.5,0.1,0.1), \"cm\"), face = \"bold\"), # y-axis text in fontsize 20\n",
    "          legend.text = element_text(size = 20, face = \"bold\"),\n",
    "          legend.title = element_text(colour=\"black\", size=22, face=\"bold\"),\n",
    "          axis.ticks.length = unit(-0.25, \"cm\"))\n",
    "p"
   ]
  },
  {
   "cell_type": "markdown",
   "metadata": {
    "kernel": "R"
   },
   "source": [
    "## Create DGEList"
   ]
  },
  {
   "cell_type": "code",
   "execution_count": null,
   "metadata": {
    "kernel": "R"
   },
   "outputs": [],
   "source": [
    "library(edgeR)"
   ]
  },
  {
   "cell_type": "code",
   "execution_count": null,
   "metadata": {
    "kernel": "R"
   },
   "outputs": [],
   "source": [
    "COHORT_COL <- 'kw_curated_cell_type'"
   ]
  },
  {
   "cell_type": "code",
   "execution_count": null,
   "metadata": {
    "kernel": "R"
   },
   "outputs": [],
   "source": [
    "all(colnames(counts) == rownames(coldata))"
   ]
  },
  {
   "cell_type": "code",
   "execution_count": null,
   "metadata": {
    "kernel": "R"
   },
   "outputs": [],
   "source": [
    "y <- DGEList(counts=counts, samples = coldata, group = coldata[, COHORT_COL])"
   ]
  },
  {
   "cell_type": "markdown",
   "metadata": {
    "kernel": "R"
   },
   "source": [
    "## Filter out low expression genes"
   ]
  },
  {
   "cell_type": "code",
   "execution_count": null,
   "metadata": {
    "kernel": "R"
   },
   "outputs": [],
   "source": [
    "keep_genes <- filterByExpr(y)\n",
    "y <- y[keep_genes, ]\n",
    "dim(y$counts)"
   ]
  },
  {
   "cell_type": "markdown",
   "metadata": {
    "kernel": "R"
   },
   "source": [
    "## Normalisation"
   ]
  },
  {
   "cell_type": "code",
   "execution_count": null,
   "metadata": {
    "kernel": "R"
   },
   "outputs": [],
   "source": [
    "y <- calcNormFactors(y)\n",
    "head(y$samples)"
   ]
  },
  {
   "cell_type": "code",
   "execution_count": null,
   "metadata": {
    "kernel": "R"
   },
   "outputs": [],
   "source": [
    "norm.data <- cpm(y, log = TRUE)\n",
    "head(norm.data)"
   ]
  },
  {
   "cell_type": "markdown",
   "metadata": {
    "kernel": "R"
   },
   "source": [
    "## Expression distribution"
   ]
  },
  {
   "cell_type": "code",
   "execution_count": null,
   "metadata": {
    "kernel": "R"
   },
   "outputs": [],
   "source": [
    "df <- reshape2::melt(norm.data)\n",
    "colnames(df) <- c('gene','sample','expression')\n",
    "head(df)"
   ]
  },
  {
   "cell_type": "code",
   "execution_count": null,
   "metadata": {
    "kernel": "R"
   },
   "outputs": [],
   "source": [
    "df <- merge(df, coldata[, COHORT_COL, F], by.x='sample', by.y='row.names')\n",
    "df <- df[order(df[, COHORT_COL]), ]\n",
    "head(df)"
   ]
  },
  {
   "cell_type": "code",
   "execution_count": null,
   "metadata": {
    "kernel": "R"
   },
   "outputs": [],
   "source": [
    "options(repr.plot.width=15, repr.plot.height=9)\n",
    "\n",
    "p <- ggplot(data=df, aes_string(x=\"sample\", y=\"expression\", fill=COHORT_COL)) +\n",
    "        geom_boxplot()+\n",
    "        labs(\n",
    "            title=paste0(dataset_id, \": expression distribution\"),\n",
    "            x = \"Samples\",\n",
    "            y = \"logCPM\",\n",
    "            caption = paste0(\"Source: \", dataset_id)\n",
    "        )+\n",
    "        scale_fill_brewer(palette=\"Dark2\")+\n",
    "        scale_x_discrete(limits = unique(df$sample))+\n",
    "        theme(\n",
    "          axis.line = element_line(size = 1, colour = \"grey\"),\n",
    "          panel.grid.major = element_blank(),\n",
    "          panel.grid.minor = element_blank(),\n",
    "          panel.border = element_blank(),\n",
    "          panel.background = element_blank()\n",
    "        ) +\n",
    "        theme(\n",
    "          legend.position = \"right\", legend.direction = \"vertical\", # legend positioned at the bottom, horizantal direction,\n",
    "          axis.line = element_line(size=1, colour = \"black\"), # axis line of size 1 inch in black color\n",
    "          panel.grid.major = element_blank(), # major grids included\n",
    "          panel.grid.minor = element_blank(), # no minor grids\n",
    "          panel.border = element_blank(), panel.background = element_blank(), # no borders and background color\n",
    "          plot.title = element_text(color = \"black\", size = 25, face=\"bold\"),\n",
    "          axis.title = element_text(colour=\"black\", size = 20, face = \"bold\"), # axis title\n",
    "          axis.text.x = element_text(colour=\"black\", size = 15, angle=90, margin=unit(c(0.5,0.5,0.1,0.1), \"cm\"), face = \"bold\"), # x-axis text in fontsize 20\n",
    "          axis.text.y = element_text(colour=\"black\", size = 15, margin=unit(c(0.5,0.5,0.1,0.1), \"cm\"), face = \"bold\"), # y-axis text in fontsize 20\n",
    "          legend.text = element_text(size = 20, face = \"bold\"),\n",
    "          legend.title = element_text(colour=\"black\", size=22, face=\"bold\"),\n",
    "          axis.ticks.length = unit(-0.25, \"cm\"))\n",
    "p"
   ]
  },
  {
   "cell_type": "markdown",
   "metadata": {
    "kernel": "R"
   },
   "source": [
    "## PCA"
   ]
  },
  {
   "cell_type": "code",
   "execution_count": null,
   "metadata": {
    "kernel": "R"
   },
   "outputs": [],
   "source": [
    "compute_pca <- function(input_matrix, metadata, ntop_variable_genes = 100){\n",
    "    input_matrix <- as.data.frame(input_matrix)\n",
    "    input_matrix$mad <- apply(input_matrix, 1, mad)\n",
    "    input_matrix <- input_matrix[order(input_matrix$mad, decreasing = T), ]\n",
    "    input_matrix <- input_matrix[1:ntop_variable_genes, ]\n",
    "    input_matrix$mad <- NULL\n",
    "    \n",
    "    PCAObj <- prcomp(as.data.frame(t(input_matrix)), scale = T)\n",
    "    PCAObj_Summary <- summary(PCAObj)\n",
    "    PCA_scores <- data.frame(PCAObj$x, metadata)\n",
    "    \n",
    "    return(\n",
    "        list(\n",
    "            'scores' = PCA_scores,\n",
    "            'summary' = PCAObj_Summary\n",
    "        )\n",
    "    )\n",
    "}"
   ]
  },
  {
   "cell_type": "code",
   "execution_count": null,
   "metadata": {
    "kernel": "R"
   },
   "outputs": [],
   "source": [
    "pca_plot <- function(pca, cohortCol, pc_x='PC1', pc_y='PC2', title='PCA', subtitle=''){\n",
    "    require(ggplot2)\n",
    "    require(ggsci)\n",
    "    \n",
    "    p <- ggplot(pca$scores, aes_string(x = pc_x, y = pc_y, fill = cohortCol)) + \n",
    "      geom_point(shape = 21, size = 5, alpha = 0.7) + \n",
    "      labs(title = title, subtitle = subtitle,\n",
    "           x = paste(pc_x, '(', round(pca$summary$importance[2,pc_x]*100, 2), '%)'),\n",
    "           y = paste(pc_y, '(', round(pca$summary$importance[2,pc_y]*100, 2), '%)'), fill = cohortCol) + \n",
    "        scale_fill_brewer(palette=\"Dark2\")+\n",
    "        theme(\n",
    "          axis.line = element_line(size = 1, colour = \"grey\"),\n",
    "          panel.grid.major = element_blank(),\n",
    "          panel.grid.minor = element_blank(),\n",
    "          panel.border = element_blank(),\n",
    "          panel.background = element_blank()\n",
    "        ) +\n",
    "        theme(\n",
    "          legend.position = \"right\", legend.direction = \"vertical\", # legend positioned at the bottom, horizantal direction,\n",
    "          axis.line = element_line(size=1, colour = \"black\"), # axis line of size 1 inch in black color\n",
    "          panel.grid.major = element_blank(), # major grids included\n",
    "          panel.grid.minor = element_blank(), # no minor grids\n",
    "          panel.border = element_blank(), panel.background = element_blank(), # no borders and background color\n",
    "          plot.title = element_text(color = \"black\", size = 25, face=\"bold\"),\n",
    "          axis.title = element_text(colour=\"black\", size = 20, face = \"bold\"), # axis title\n",
    "          axis.text.x = element_text(colour=\"black\", size = 15, angle=90, margin=unit(c(0.5,0.5,0.1,0.1), \"cm\"), face = \"bold\"), # x-axis text in fontsize 20\n",
    "          axis.text.y = element_text(colour=\"black\", size = 15, margin=unit(c(0.5,0.5,0.1,0.1), \"cm\"), face = \"bold\"), # y-axis text in fontsize 20\n",
    "          legend.text = element_text(size = 20, face = \"bold\"),\n",
    "          legend.title = element_text(colour=\"black\", size=22, face=\"bold\"),\n",
    "          axis.ticks.length = unit(-0.25, \"cm\"))\n",
    "    p\n",
    "}"
   ]
  },
  {
   "cell_type": "code",
   "execution_count": null,
   "metadata": {
    "kernel": "R"
   },
   "outputs": [],
   "source": [
    "pca <- compute_pca(norm.data, coldata, nrow(norm.data))\n",
    "head(pca$scores)"
   ]
  },
  {
   "cell_type": "code",
   "execution_count": null,
   "metadata": {
    "kernel": "R"
   },
   "outputs": [],
   "source": [
    "options(repr.plot.width=15, repr.plot.height=9)\n",
    "pca_plot(pca, COHORT_COL, pc_x='PC1', pc_y='PC2', title='PCA')"
   ]
  }
 ],
 "metadata": {
  "kernelspec": {
   "display_name": "Pollyglot",
   "language": "sos",
   "name": "sos"
  },
  "language_info": {
   "codemirror_mode": "sos",
   "file_extension": ".sos",
   "mimetype": "text/x-sos",
   "name": "sos",
   "nbconvert_exporter": "sos_notebook.converter.SoS_Exporter",
   "pygments_lexer": "sos"
  },
  "sos": {
   "kernels": [
    [
     "Pollyglot",
     "sos",
     "",
     "",
     "sos"
    ],
    [
     "R",
     "ir",
     "R",
     "#DCDCDA",
     "r"
    ]
   ],
   "panel": {
    "displayed": true,
    "height": 0
   },
   "version": "1.0.0"
  }
 },
 "nbformat": 4,
 "nbformat_minor": 2
}
