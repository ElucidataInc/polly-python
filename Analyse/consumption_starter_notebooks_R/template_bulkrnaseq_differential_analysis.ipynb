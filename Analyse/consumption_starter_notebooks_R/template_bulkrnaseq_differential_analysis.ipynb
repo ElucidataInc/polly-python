{
 "cells": [
  {
   "cell_type": "markdown",
   "metadata": {
    "kernel": "SoS"
   },
   "source": [
    "# *Differential Gene Expression Analysis using edgeR* \n",
    "Info | Value\n",
    "---- | ----\n",
    "Implemented by | Elucidata\n",
    "Docker | RNASeq Downstream:For transcriptomics analysis\n",
    "Tag(s) | edgeR - differential expression - pathway analysis"
   ]
  },
  {
   "cell_type": "markdown",
   "metadata": {
    "kernel": "Pollyglot"
   },
   "source": [
    "## Initiate and configure the notebook"
   ]
  },
  {
   "cell_type": "code",
   "execution_count": null,
   "metadata": {
    "kernel": "Pollyglot"
   },
   "outputs": [],
   "source": [
    "# please do not modify\n",
    "from IPython.display import display_html\n",
    "def restartkernel() :\n",
    "    display_html(\"<script>Jupyter.notebook.kernel.restart()</script>\",raw=True)"
   ]
  },
  {
   "cell_type": "code",
   "execution_count": null,
   "metadata": {
    "kernel": "Pollyglot"
   },
   "outputs": [],
   "source": [
    "!sudo pip3 install polly-python --quiet"
   ]
  },
  {
   "cell_type": "code",
   "execution_count": null,
   "metadata": {
    "kernel": "Pollyglot"
   },
   "outputs": [],
   "source": [
    "restartkernel() #Pause for a few seconds before the kernel is refreshed"
   ]
  },
  {
   "cell_type": "code",
   "execution_count": null,
   "metadata": {
    "kernel": "Pollyglot"
   },
   "outputs": [],
   "source": [
    "# please do not modify\n",
    "from IPython.display import HTML\n",
    "HTML('''<script type=\"text/javascript\"> Jupyter.notebook.kernel.execute(\"url = '\" + window.location + \"'\", {}, {}); </script>''')"
   ]
  },
  {
   "cell_type": "markdown",
   "metadata": {
    "kernel": "Python3"
   },
   "source": [
    "## Fetch OmixAtlas ID and Dataset ID\n",
    "\n",
    "- **OmixAtlas ID**: Target repository identifier which is required for downloading the dataset\n",
    "- **Dataset ID**: Identifier for the dataset on the atlas which is to be analysed "
   ]
  },
  {
   "cell_type": "code",
   "execution_count": null,
   "metadata": {
    "kernel": "Pollyglot"
   },
   "outputs": [],
   "source": [
    "import urllib.parse as urlparse\n",
    "from urllib.parse import parse_qs\n",
    "\n",
    "parsed_url     = urlparse.urlparse(url)\n",
    "repo_vars_list = [parse_qs(parsed_url.query).get(query_url)[0] for query_url in ['repo_id', 'repo_name', 'dataset_id']]\n",
    "repo_id        = repo_vars_list[0]\n",
    "dataset_id     = repo_vars_list[2]"
   ]
  },
  {
   "cell_type": "markdown",
   "metadata": {
    "kernel": "Python3"
   },
   "source": [
    "## Download dataset from the OmixAtlas"
   ]
  },
  {
   "cell_type": "code",
   "execution_count": null,
   "metadata": {
    "kernel": "Pollyglot"
   },
   "outputs": [],
   "source": [
    "from polly.omixatlas import OmixAtlas\n",
    "import os"
   ]
  },
  {
   "cell_type": "code",
   "execution_count": null,
   "metadata": {
    "kernel": "Pollyglot"
   },
   "outputs": [],
   "source": [
    "omix_atlas = OmixAtlas(os.environ['POLLY_REFRESH_TOKEN'])"
   ]
  },
  {
   "cell_type": "code",
   "execution_count": null,
   "metadata": {
    "kernel": "Pollyglot"
   },
   "outputs": [],
   "source": [
    "def download_dataset(repo_id, dataset_id):\n",
    "    \"\"\"\n",
    "    Downloads a single dataset with given repo_id and dataset_id\n",
    "    \"\"\"\n",
    "    file_name = f\"{dataset_id}.gct\"\n",
    "    data = omix_atlas.download_data(repo_id, dataset_id)\n",
    "    url = data.get('data').get('attributes').get('download_url')\n",
    "    status = os.system(f\"wget -O '{file_name}' '{url}'\")\n",
    "    if status == 0:\n",
    "        print(f\"{file_name}: downloaded successfully\")\n",
    "    else:\n",
    "        raise Exception(\"Download not successful\")"
   ]
  },
  {
   "cell_type": "code",
   "execution_count": null,
   "metadata": {
    "kernel": "Pollyglot"
   },
   "outputs": [],
   "source": [
    "download_dataset(repo_id, dataset_id)"
   ]
  },
  {
   "cell_type": "markdown",
   "metadata": {
    "kernel": "Bash"
   },
   "source": [
    "## Read dataset"
   ]
  },
  {
   "cell_type": "code",
   "execution_count": null,
   "metadata": {
    "kernel": "R"
   },
   "outputs": [],
   "source": [
    "%get dataset_id --from python3\n",
    "dataset_id"
   ]
  },
  {
   "cell_type": "code",
   "execution_count": null,
   "metadata": {
    "kernel": "R"
   },
   "outputs": [],
   "source": [
    "library(mapGCT)"
   ]
  },
  {
   "cell_type": "code",
   "execution_count": null,
   "metadata": {
    "kernel": "R"
   },
   "outputs": [],
   "source": [
    "gctFile <- paste0(dataset_id, '.gct')\n",
    "gctObj  <- parse_gct(gctFile)"
   ]
  },
  {
   "cell_type": "code",
   "execution_count": null,
   "metadata": {
    "kernel": "R"
   },
   "outputs": [],
   "source": [
    "counts  <- gctObj@mat\n",
    "coldata <- gctObj@cdesc\n",
    "rowdata <- gctObj@rdesc"
   ]
  },
  {
   "cell_type": "code",
   "execution_count": null,
   "metadata": {
    "kernel": "R"
   },
   "outputs": [],
   "source": [
    "dim(counts)\n",
    "head(counts)"
   ]
  },
  {
   "cell_type": "code",
   "execution_count": null,
   "metadata": {
    "kernel": "R"
   },
   "outputs": [],
   "source": [
    "dim(coldata)\n",
    "head(coldata)"
   ]
  },
  {
   "cell_type": "code",
   "execution_count": null,
   "metadata": {
    "kernel": "R"
   },
   "outputs": [],
   "source": [
    "dim(rowdata)\n",
    "head(rowdata)"
   ]
  },
  {
   "cell_type": "markdown",
   "metadata": {
    "kernel": "R"
   },
   "source": [
    "## Load libraries"
   ]
  },
  {
   "cell_type": "code",
   "execution_count": null,
   "metadata": {
    "kernel": "R"
   },
   "outputs": [],
   "source": [
    "suppressMessages(library(edgeR))\n",
    "suppressMessages(library(mapGCT))\n",
    "suppressMessages(library(ggplot2))\n",
    "suppressMessages(library(ggrepel))\n",
    "suppressMessages(library(dplyr))\n",
    "suppressMessages(library(clusterProfiler))\n",
    "suppressMessages(library(org.Hs.eg.db))"
   ]
  },
  {
   "cell_type": "markdown",
   "metadata": {
    "kernel": "R"
   },
   "source": [
    "## Define parameters"
   ]
  },
  {
   "cell_type": "code",
   "execution_count": null,
   "metadata": {
    "kernel": "R"
   },
   "outputs": [],
   "source": [
    "%get dataset_id --from python3\n",
    "dataset_id"
   ]
  },
  {
   "cell_type": "code",
   "execution_count": null,
   "metadata": {
    "kernel": "R"
   },
   "outputs": [],
   "source": [
    "params = list(\n",
    "    'WORKSPACE' = 8526,\n",
    "    'ANALYSIS_NAME' = paste0(dataset_id,'_CASE_VS_CONTROL'),\n",
    "    'COHORT_COL' = 'kw_curated_cell_type',\n",
    "    'COHORT_CONTROL' = 'HSC',\n",
    "    'COHORT_CASE' = 'CMP',\n",
    "    'GSEA_GMT_FILEPATH' = 'polly://data/gmts/h.all.v7.5.1.symbols.gmt',\n",
    "    'OUTPUT_DIR' = 'polly://results/example',\n",
    "    'REPORT_FILEPATH' = 'polly://reports/differential_analysis_sample_report.html'\n",
    ")\n",
    "params"
   ]
  },
  {
   "cell_type": "markdown",
   "metadata": {
    "kernel": "R"
   },
   "source": [
    "## Define plot theme"
   ]
  },
  {
   "cell_type": "code",
   "execution_count": null,
   "metadata": {
    "kernel": "R"
   },
   "outputs": [],
   "source": [
    "## Define theme for all plots\n",
    "custom_theme <- function(base_size=10){\n",
    "    ggplot2::theme(\n",
    "        legend.position = \"right\", legend.direction = \"vertical\", \n",
    "        panel.grid.major = element_blank(),\t# major grids included\n",
    "        panel.grid.minor = element_blank(),\t# no minor grids\n",
    "        plot.title = element_text(color=\"black\", size=base_size*1.5, hjust = 0.5, face=\"bold\"),\n",
    "        panel.border = element_blank(), panel.background = element_blank(), # no borders and background color\n",
    "        legend.text = element_text(size = base_size*1.0, face = \"bold\"),\n",
    "        legend.title = element_text(size = base_size*1.5, face=\"bold\"),\n",
    "        axis.title = element_text(colour=\"black\", size = base_size*1.5, face = \"bold\"), # axis title \n",
    "        axis.text.x = element_text(colour=\"black\", size = base_size*1.0, margin=unit(c(0.5,0.5,0.1,0.1), \"cm\"), face = \"bold\"), # x-axis text in fontsize 10\n",
    "        axis.text.y = element_text(colour=\"black\", size = base_size*1.0, margin=unit(c(0.5,0.5,0.1,0.1), \"cm\"), face = \"bold\"), # y-axis text in fontsize 10\n",
    "    ) \n",
    "}"
   ]
  },
  {
   "cell_type": "markdown",
   "metadata": {
    "kernel": "R"
   },
   "source": [
    "## Subset the data for cohorts of interest"
   ]
  },
  {
   "cell_type": "code",
   "execution_count": null,
   "metadata": {
    "kernel": "R"
   },
   "outputs": [],
   "source": [
    "samples_to_keep <- row.names(coldata[coldata[,params$COHORT_COL] %in% c(params$COHORT_CONTROL,params$COHORT_CASE),])\n",
    "length(samples_to_keep)"
   ]
  },
  {
   "cell_type": "code",
   "execution_count": null,
   "metadata": {
    "kernel": "R"
   },
   "outputs": [],
   "source": [
    "counts_subset <- counts[,samples_to_keep]\n",
    "coldata_subset<- coldata[samples_to_keep,]\n",
    "dim(counts_subset)\n",
    "dim(coldata_subset)"
   ]
  },
  {
   "cell_type": "markdown",
   "metadata": {
    "kernel": "R"
   },
   "source": [
    "## Create DGEList"
   ]
  },
  {
   "cell_type": "code",
   "execution_count": null,
   "metadata": {
    "kernel": "R"
   },
   "outputs": [],
   "source": [
    "all(colnames(counts_subset) == rownames(coldata_subset))"
   ]
  },
  {
   "cell_type": "code",
   "execution_count": null,
   "metadata": {
    "kernel": "R"
   },
   "outputs": [],
   "source": [
    "y <- DGEList(counts=counts_subset, samples = coldata_subset, group = coldata_subset[, params$COHORT_COL])\n",
    "head(y$samples)"
   ]
  },
  {
   "cell_type": "markdown",
   "metadata": {
    "kernel": "R"
   },
   "source": [
    "## Filter out low expression genes"
   ]
  },
  {
   "cell_type": "code",
   "execution_count": null,
   "metadata": {
    "kernel": "R"
   },
   "outputs": [],
   "source": [
    "keep_genes <- filterByExpr(y)\n",
    "y <- y[keep_genes, ]\n",
    "dim(y$counts)"
   ]
  },
  {
   "cell_type": "markdown",
   "metadata": {
    "kernel": "R"
   },
   "source": [
    "## Normalisation"
   ]
  },
  {
   "cell_type": "code",
   "execution_count": null,
   "metadata": {
    "kernel": "R"
   },
   "outputs": [],
   "source": [
    "y <- calcNormFactors(y)\n",
    "head(y$samples)"
   ]
  },
  {
   "cell_type": "code",
   "execution_count": null,
   "metadata": {
    "kernel": "R"
   },
   "outputs": [],
   "source": [
    "norm.data <- cpm(y, log = TRUE)\n",
    "head(norm.data)"
   ]
  },
  {
   "cell_type": "markdown",
   "metadata": {
    "kernel": "R"
   },
   "source": [
    "## PCA"
   ]
  },
  {
   "cell_type": "code",
   "execution_count": null,
   "metadata": {
    "kernel": "R"
   },
   "outputs": [],
   "source": [
    "compute_pca <- function(input_matrix, metadata, ntop_variable_genes = 100){\n",
    "    input_matrix <- as.data.frame(input_matrix)\n",
    "    input_matrix$mad <- apply(input_matrix, 1, mad)\n",
    "    input_matrix <- input_matrix[order(input_matrix$mad, decreasing = T), ]\n",
    "    input_matrix <- input_matrix[1:ntop_variable_genes, ]\n",
    "    input_matrix$mad <- NULL\n",
    "    \n",
    "    PCAObj <- prcomp(as.data.frame(t(input_matrix)), scale = T)\n",
    "    PCAObj_Summary <- summary(PCAObj)\n",
    "    PCA_scores <- data.frame(PCAObj$x, metadata)\n",
    "    \n",
    "    return(\n",
    "        list(\n",
    "            'scores' = PCA_scores,\n",
    "            'summary' = PCAObj_Summary\n",
    "        )\n",
    "    )\n",
    "}"
   ]
  },
  {
   "cell_type": "code",
   "execution_count": null,
   "metadata": {
    "kernel": "R"
   },
   "outputs": [],
   "source": [
    "pca_plot <- function(pca, cohortCol, pc_x='PC1', pc_y='PC2', title='PCA', subtitle=''){\n",
    "    require(ggplot2)\n",
    "    require(ggsci)\n",
    "    \n",
    "    p <- ggplot(pca$scores, aes_string(x = pc_x, y = pc_y, fill = cohortCol)) + \n",
    "      geom_point(shape = 21, size = 7, alpha = 0.7) + \n",
    "      labs(title = title, subtitle = subtitle,\n",
    "           x = paste(pc_x, '(', round(pca$summary$importance[2,pc_x]*100, 2), '%)'),\n",
    "           y = paste(pc_y, '(', round(pca$summary$importance[2,pc_y]*100, 2), '%)'), fill = cohortCol) + \n",
    "        scale_fill_brewer(palette=\"Dark2\")+\n",
    "      custom_theme(base_size = 10)+\n",
    "      theme(axis.line = element_line(size = 1, colour = \"black\"))\n",
    "    p\n",
    "}"
   ]
  },
  {
   "cell_type": "code",
   "execution_count": null,
   "metadata": {
    "kernel": "R"
   },
   "outputs": [],
   "source": [
    "pca <- compute_pca(norm.data, coldata_subset, nrow(norm.data))\n",
    "head(pca$scores)"
   ]
  },
  {
   "cell_type": "code",
   "execution_count": null,
   "metadata": {
    "kernel": "R"
   },
   "outputs": [],
   "source": [
    "options(repr.plot.width=12, repr.plot.height=7)\n",
    "pca_plot(pca, params$COHORT_COL, pc_x='PC1', pc_y='PC2', title='PCA')"
   ]
  },
  {
   "cell_type": "markdown",
   "metadata": {
    "kernel": "R"
   },
   "source": [
    "## Define the design matrix"
   ]
  },
  {
   "cell_type": "code",
   "execution_count": null,
   "metadata": {
    "kernel": "R"
   },
   "outputs": [],
   "source": [
    "group <- y$samples$group\n",
    "design <- model.matrix(~ group)\n",
    "head(design)"
   ]
  },
  {
   "cell_type": "markdown",
   "metadata": {
    "kernel": "R"
   },
   "source": [
    "## Estimate dispersion"
   ]
  },
  {
   "cell_type": "code",
   "execution_count": null,
   "metadata": {
    "kernel": "R"
   },
   "outputs": [],
   "source": [
    "!sudo Rscript -e \"install.packages('statmod', repos='http://cran.us.r-project.org')\""
   ]
  },
  {
   "cell_type": "code",
   "execution_count": null,
   "metadata": {
    "kernel": "R"
   },
   "outputs": [],
   "source": [
    "y <- estimateDisp(y, design, robust=TRUE)"
   ]
  },
  {
   "cell_type": "code",
   "execution_count": null,
   "metadata": {
    "kernel": "R"
   },
   "outputs": [],
   "source": [
    "options(repr.plot.width = 12, repr.plot.height = 7)\n",
    "plotBCV(y)"
   ]
  },
  {
   "cell_type": "markdown",
   "metadata": {
    "kernel": "R"
   },
   "source": [
    "## Differential expression"
   ]
  },
  {
   "cell_type": "code",
   "execution_count": null,
   "metadata": {
    "kernel": "R"
   },
   "outputs": [],
   "source": [
    "et <- exactTest(y, pair = c(params$COHORT_CONTROL, params$COHORT_CASE))\n",
    "res <- topTags(et, n = nrow(y$counts))$table\n",
    "res <- res[order(res$FDR), ]\n",
    "head(res) "
   ]
  },
  {
   "cell_type": "code",
   "execution_count": null,
   "metadata": {
    "kernel": "R"
   },
   "outputs": [],
   "source": [
    "print(paste0('No. of genes with logFC > 0 and FDR < 0.05: ', nrow(res[(res$logFC>0)&(res$FDR<0.05),])))\n",
    "print(paste0('No. of genes with logFC < 0 and FDR < 0.05: ', nrow(res[(res$logFC<0)&(res$FDR<0.05),])))"
   ]
  },
  {
   "cell_type": "code",
   "execution_count": null,
   "metadata": {
    "kernel": "Bash"
   },
   "outputs": [],
   "source": [
    "mkdir -p results/"
   ]
  },
  {
   "cell_type": "code",
   "execution_count": null,
   "metadata": {
    "kernel": "R"
   },
   "outputs": [],
   "source": [
    "write.csv(res, 'results/der.csv')"
   ]
  },
  {
   "cell_type": "markdown",
   "metadata": {
    "kernel": "R"
   },
   "source": [
    "## Volcano plot"
   ]
  },
  {
   "cell_type": "code",
   "execution_count": null,
   "metadata": {
    "kernel": "R"
   },
   "outputs": [],
   "source": [
    "volcano_plot <- function(de_result, log2fc_cutoff=1.0, padj_cutoff=0.05, genes_to_label = NULL, title='Volcano', \n",
    "                         base_size = 10) {\n",
    "    \n",
    "    # Add logical vector as a column (significant) to the res_tableOE\n",
    "    de_result$significance <- \"non-DEG\"\n",
    "    de_result[(abs(de_result$logFC) > log2fc_cutoff) & (de_result$FDR <= padj_cutoff), \"significance\"] <- \"DEG\"\n",
    "    de_result$significance <- factor(de_result$significance, levels=c('DEG','non-DEG'))\n",
    "    \n",
    "\n",
    "    ## Create a column to indicate which genes to label\n",
    "    de_result$genelabels <- \"\"\n",
    "    de_result[genes_to_label,'genelabels'] <- genes_to_label\n",
    "\n",
    "    ## Volcano plot\n",
    "    p <- ggplot(de_result %>% arrange(desc(significance)), aes(x = logFC, y = -log10(FDR), fill = significance, color = significance, \n",
    "                label=genelabels)) +\n",
    "            geom_point(shape = 21, alpha = 1) +\n",
    "            geom_hline(yintercept=-log10(padj_cutoff), linetype=\"dashed\", color = \"grey\") + \n",
    "            geom_vline(xintercept=-log2fc_cutoff, linetype=\"dashed\", color = \"grey\") + \n",
    "            geom_vline(xintercept=log2fc_cutoff, linetype=\"dashed\", color = \"grey\") + \n",
    "            geom_text_repel(min.segment.length = 0, color='black', force = 0.05) + \n",
    "            ggtitle(title)+\n",
    "            xlab(\"log2FC\") + \n",
    "            ylab(\"-log10 (padj)\") +\n",
    "            scale_color_manual(values=c(\"#FF0000\", \"#dbd9d9\"))+\n",
    "            scale_fill_manual(values=c(\"#FF0000\", \"#dbd9d9\"))+\n",
    "            theme(legend.position = \"right\", legend.direction = \"vertical\")+\n",
    "            custom_theme(base_size)+\n",
    "            theme(axis.line = element_line(size = 1, colour = \"black\"))\n",
    "    p\n",
    "}"
   ]
  },
  {
   "cell_type": "code",
   "execution_count": null,
   "metadata": {
    "kernel": "R"
   },
   "outputs": [],
   "source": [
    "options(repr.plot.width = 12, repr.plot.height = 8)\n",
    "genes_to_label <- row.names(res[1:5, ])\n",
    "p_volcano <- volcano_plot(res, log2fc_cutoff=1, padj_cutoff=0.05, title=params$ANALYSIS_NAME, genes_to_label = genes_to_label)\n",
    "p_volcano"
   ]
  },
  {
   "cell_type": "markdown",
   "metadata": {
    "kernel": "R"
   },
   "source": [
    "## Gene Ontology Biological Processes on upregulated genes"
   ]
  },
  {
   "cell_type": "code",
   "execution_count": null,
   "metadata": {
    "kernel": "R"
   },
   "outputs": [],
   "source": [
    "ontology = 'BP'\n",
    "gene_direction = 'up'\n",
    "fdr_cutoff = 0.05\n",
    "logFC_cutoff = 1.0\n",
    "\n",
    "## Create background dataset for hypergeometric testing using all genes tested for significance in the results                 \n",
    "all_genes <- row.names(res)\n",
    "\n",
    "## Extract significant results\n",
    "sig_genes <- row.names(res[(res$FDR < fdr_cutoff), ])\n",
    "if(gene_direction=='up'){\n",
    "    sig_genes <- row.names(res[(res$FDR < fdr_cutoff) & (res$logFC > logFC_cutoff), ])\n",
    "}\n",
    "if(gene_direction=='down'){\n",
    "    sig_genes <- row.names(res[(res$FDR < fdr_cutoff) & (res$logFC < -logFC_cutoff), ])\n",
    "}\n",
    "\n",
    "## Run GO enrichment analysis \n",
    "ego.bp.up <- enrichGO(gene = sig_genes, \n",
    "                   universe = all_genes,\n",
    "                   keyType = \"SYMBOL\",\n",
    "                   OrgDb = org.Hs.eg.db, \n",
    "                   ont = ontology, \n",
    "                   pAdjustMethod = \"BH\", \n",
    "                   qvalueCutoff = 0.05, \n",
    "                   readable = FALSE)\n",
    "\n",
    "## Store the results in a dataframe\n",
    "ego.bp.up.cluster_summary <- data.frame(ego.bp.up)\n",
    "dim(ego.bp.up.cluster_summary)\n",
    "head(ego.bp.up.cluster_summary, 5)"
   ]
  },
  {
   "cell_type": "code",
   "execution_count": null,
   "metadata": {
    "kernel": "R"
   },
   "outputs": [],
   "source": [
    "## Dotplot\n",
    "if(nrow(ego.bp.up.cluster_summary) > 0){\n",
    "    showCategory <- 30\n",
    "    if (nrow(ego.bp.up.cluster_summary) < 30){\n",
    "        showCategory <- nrow(ego.bp.up.cluster_summary)\n",
    "    }\n",
    "    options(repr.plot.width = 16, repr.plot.height = 8)\n",
    "\n",
    "    ego.bp.up.dotplot <- dotplot(ego.bp.up, showCategory=showCategory)\n",
    "    ego.bp.up.dotplot +\n",
    "    ggtitle(paste0(params$ANALYSIS_NAME, ' GO', ontology, ' ',gene_direction, 'regulated genes'))+\n",
    "    custom_theme()\n",
    "}"
   ]
  },
  {
   "cell_type": "code",
   "execution_count": null,
   "metadata": {
    "kernel": "R"
   },
   "outputs": [],
   "source": [
    "## Enrichment map\n",
    "if(nrow(ego.bp.up.cluster_summary) > 0){\n",
    "    options(repr.plot.width = 16, repr.plot.height = 8)\n",
    "\n",
    "    ego.bp.up.emapplot <- emapplot(ego.bp.up, showCategory = showCategory)\n",
    "    ego.bp.up.emapplot+\n",
    "    ggtitle(paste0(params$ANALYSIS_NAME, ' GO', ontology, ' ',gene_direction, 'regulated genes'))+\n",
    "    ggplot2::theme(\n",
    "        plot.title = element_text(color=\"black\", size=15, hjust = 0.5, face=\"bold\")\n",
    "    )\n",
    "}"
   ]
  },
  {
   "cell_type": "code",
   "execution_count": null,
   "metadata": {
    "kernel": "R"
   },
   "outputs": [],
   "source": [
    "if(nrow(ego.bp.up.cluster_summary) > 0){\n",
    "    options(repr.plot.width = 16, repr.plot.height = 8)\n",
    "\n",
    "    ego.bp.up.goplot <- goplot(ego.bp.up)\n",
    "    ego.bp.up.goplot+\n",
    "    ggtitle(paste0(params$ANALYSIS_NAME, ' GO', ontology, ' ',gene_direction, 'regulated genes'))+\n",
    "    ggplot2::theme(\n",
    "        plot.title = element_text(color=\"black\", size=15, hjust = 0.5, face=\"bold\")\n",
    "    )\n",
    "}"
   ]
  },
  {
   "cell_type": "markdown",
   "metadata": {
    "kernel": "R"
   },
   "source": [
    "## Gene Ontology Biological Processes on downregulated genes"
   ]
  },
  {
   "cell_type": "code",
   "execution_count": null,
   "metadata": {
    "kernel": "R"
   },
   "outputs": [],
   "source": [
    "ontology = 'BP'\n",
    "gene_direction = 'down'\n",
    "fdr_cutoff = 0.05\n",
    "logFC_cutoff = 1.0\n",
    "\n",
    "## Create background dataset for hypergeometric testing using all genes tested for significance in the results                 \n",
    "all_genes <- row.names(res)\n",
    "\n",
    "## Extract significant results\n",
    "sig_genes <- row.names(res[(res$FDR < fdr_cutoff), ])\n",
    "if(gene_direction=='up'){\n",
    "    sig_genes <- row.names(res[(res$FDR < fdr_cutoff) & (res$logFC > logFC_cutoff), ])\n",
    "}\n",
    "if(gene_direction=='down'){\n",
    "    sig_genes <- row.names(res[(res$FDR < fdr_cutoff) & (res$logFC < -logFC_cutoff), ])\n",
    "}\n",
    "\n",
    "## Run GO enrichment analysis \n",
    "ego.bp.down <- enrichGO(gene = sig_genes, \n",
    "                   universe = all_genes,\n",
    "                   keyType = \"SYMBOL\",\n",
    "                   OrgDb = org.Hs.eg.db, \n",
    "                   ont = ontology, \n",
    "                   pAdjustMethod = \"BH\", \n",
    "                   qvalueCutoff = 0.05, \n",
    "                   readable = FALSE)\n",
    "\n",
    "## Store the results in a dataframe\n",
    "ego.bp.down.cluster_summary <- data.frame(ego.bp.down)\n",
    "dim(ego.bp.down.cluster_summary)\n",
    "head(ego.bp.down.cluster_summary, 5)"
   ]
  },
  {
   "cell_type": "code",
   "execution_count": null,
   "metadata": {
    "kernel": "R"
   },
   "outputs": [],
   "source": [
    "## Dotplot\n",
    "if(nrow(ego.bp.down.cluster_summary) > 0){\n",
    "    showCategory <- 30\n",
    "    if (nrow(ego.bp.down.cluster_summary) < 30){\n",
    "        showCategory <- nrow(ego.bp.down.cluster_summary)\n",
    "    }\n",
    "    options(repr.plot.width = 16, repr.plot.height = 8)\n",
    "\n",
    "    ego.bp.down.dotplot <- dotplot(ego.bp.down, showCategory=showCategory)\n",
    "    ego.bp.down.dotplot +\n",
    "    ggtitle(paste0(params$ANALYSIS_NAME, ' GO', ontology, ' ',gene_direction, 'regulated genes'))+\n",
    "    custom_theme()\n",
    "}"
   ]
  },
  {
   "cell_type": "code",
   "execution_count": null,
   "metadata": {
    "kernel": "R"
   },
   "outputs": [],
   "source": [
    "## Enrichment map\n",
    "if(nrow(ego.bp.down.cluster_summary) > 0){\n",
    "    options(repr.plot.width = 16, repr.plot.height = 8)\n",
    "\n",
    "    ego.bp.down.emapplot <- emapplot(ego.bp.down, showCategory = showCategory)\n",
    "    ego.bp.down.emapplot+\n",
    "    ggtitle(paste0(params$ANALYSIS_NAME, ' GO', ontology, ' ',gene_direction, 'regulated genes'))+\n",
    "    ggplot2::theme(\n",
    "        plot.title = element_text(color=\"black\", size=15, hjust = 0.5, face=\"bold\")\n",
    "    )\n",
    "}"
   ]
  },
  {
   "cell_type": "code",
   "execution_count": null,
   "metadata": {
    "kernel": "R"
   },
   "outputs": [],
   "source": [
    "if(nrow(ego.bp.down.cluster_summary) > 0){\n",
    "    options(repr.plot.width = 16, repr.plot.height = 8)\n",
    "\n",
    "    ego.bp.down.goplot <- goplot(ego.bp.down)\n",
    "    ego.bp.down.goplot+\n",
    "    ggtitle(paste0(params$ANALYSIS_NAME, ' GO', ontology, ' ',gene_direction, 'regulated genes'))+\n",
    "    ggplot2::theme(\n",
    "        plot.title = element_text(color=\"black\", size=15, hjust = 0.5, face=\"bold\")\n",
    "    )\n",
    "}"
   ]
  },
  {
   "cell_type": "markdown",
   "metadata": {
    "kernel": "R"
   },
   "source": [
    "## Gene Ontology Molecular Functions on upregulated genes"
   ]
  },
  {
   "cell_type": "code",
   "execution_count": null,
   "metadata": {
    "kernel": "R"
   },
   "outputs": [],
   "source": [
    "ontology = 'MF'\n",
    "gene_direction = 'up'\n",
    "fdr_cutoff = 0.05\n",
    "logFC_cutoff = 1.0\n",
    "\n",
    "## Create background dataset for hypergeometric testing using all genes tested for significance in the results                 \n",
    "all_genes <- row.names(res)\n",
    "\n",
    "## Extract significant results\n",
    "sig_genes <- row.names(res[(res$FDR < fdr_cutoff), ])\n",
    "if(gene_direction=='up'){\n",
    "    sig_genes <- row.names(res[(res$FDR < fdr_cutoff) & (res$logFC > logFC_cutoff), ])\n",
    "}\n",
    "if(gene_direction=='down'){\n",
    "    sig_genes <- row.names(res[(res$FDR < fdr_cutoff) & (res$logFC < -logFC_cutoff), ])\n",
    "}\n",
    "\n",
    "## Run GO enrichment analysis \n",
    "ego.mf.up <- enrichGO(gene = sig_genes, \n",
    "                   universe = all_genes,\n",
    "                   keyType = \"SYMBOL\",\n",
    "                   OrgDb = org.Hs.eg.db, \n",
    "                   ont = ontology, \n",
    "                   pAdjustMethod = \"BH\", \n",
    "                   qvalueCutoff = 0.05, \n",
    "                   readable = FALSE)\n",
    "\n",
    "## Store the results in a dataframe\n",
    "ego.mf.up.cluster_summary <- data.frame(ego.mf.up)\n",
    "dim(ego.mf.up.cluster_summary)\n",
    "head(ego.mf.up.cluster_summary, 5)"
   ]
  },
  {
   "cell_type": "code",
   "execution_count": null,
   "metadata": {
    "kernel": "R"
   },
   "outputs": [],
   "source": [
    "## Dotplot\n",
    "if(nrow(ego.mf.up.cluster_summary) > 0){\n",
    "    showCategory <- 30\n",
    "    if (nrow(ego.mf.up.cluster_summary) < 30){\n",
    "        showCategory <- nrow(ego.cluster_summary)\n",
    "    }\n",
    "    options(repr.plot.width = 16, repr.plot.height = 8)\n",
    "\n",
    "    ego.mf.up.dotplot <- dotplot(ego.mf.up, showCategory=showCategory)\n",
    "    ego.mf.up.dotplot +\n",
    "    ggtitle(paste0(params$ANALYSIS_NAME, ' GO', ontology, ' ',gene_direction, 'regulated genes'))+\n",
    "    custom_theme()\n",
    "}"
   ]
  },
  {
   "cell_type": "code",
   "execution_count": null,
   "metadata": {
    "kernel": "R"
   },
   "outputs": [],
   "source": [
    "## Enrichment map\n",
    "if(nrow(ego.mf.up.cluster_summary) > 0){\n",
    "    options(repr.plot.width = 16, repr.plot.height = 8)\n",
    "\n",
    "    ego.mf.up.emapplot <- emapplot(ego.mf.up, showCategory = showCategory)\n",
    "    ego.mf.up.emapplot+\n",
    "    ggtitle(paste0(params$ANALYSIS_NAME, ' GO', ontology, ' ',gene_direction, 'regulated genes'))+\n",
    "    ggplot2::theme(\n",
    "        plot.title = element_text(color=\"black\", size=15, hjust = 0.5, face=\"bold\")\n",
    "    )\n",
    "}"
   ]
  },
  {
   "cell_type": "code",
   "execution_count": null,
   "metadata": {
    "kernel": "R"
   },
   "outputs": [],
   "source": [
    "if(nrow(ego.mf.up.cluster_summary) > 0){\n",
    "    options(repr.plot.width = 16, repr.plot.height = 8)\n",
    "\n",
    "    ego.mf.up.goplot <- goplot(ego.mf.up)\n",
    "    ego.mf.up.goplot+\n",
    "    ggtitle(paste0(params$ANALYSIS_NAME, ' GO', ontology, ' ',gene_direction, 'regulated genes'))+\n",
    "    ggplot2::theme(\n",
    "        plot.title = element_text(color=\"black\", size=15, hjust = 0.5, face=\"bold\")\n",
    "    )\n",
    "}"
   ]
  },
  {
   "cell_type": "markdown",
   "metadata": {
    "kernel": "R"
   },
   "source": [
    "## Gene Ontology Molecular Functions on downregulated genes"
   ]
  },
  {
   "cell_type": "code",
   "execution_count": null,
   "metadata": {
    "kernel": "R"
   },
   "outputs": [],
   "source": [
    "ontology = 'MF'\n",
    "gene_direction = 'down'\n",
    "fdr_cutoff = 0.05\n",
    "logFC_cutoff = 1.0\n",
    "\n",
    "## Create background dataset for hypergeometric testing using all genes tested for significance in the results                 \n",
    "all_genes <- row.names(res)\n",
    "\n",
    "## Extract significant results\n",
    "sig_genes <- row.names(res[(res$FDR < fdr_cutoff), ])\n",
    "if(gene_direction=='up'){\n",
    "    sig_genes <- row.names(res[(res$FDR < fdr_cutoff) & (res$logFC > logFC_cutoff), ])\n",
    "}\n",
    "if(gene_direction=='down'){\n",
    "    sig_genes <- row.names(res[(res$FDR < fdr_cutoff) & (res$logFC < -logFC_cutoff), ])\n",
    "}\n",
    "\n",
    "## Run GO enrichment analysis \n",
    "ego.mf.down <- enrichGO(gene = sig_genes, \n",
    "                   universe = all_genes,\n",
    "                   keyType = \"SYMBOL\",\n",
    "                   OrgDb = org.Hs.eg.db, \n",
    "                   ont = ontology, \n",
    "                   pAdjustMethod = \"BH\", \n",
    "                   qvalueCutoff = 0.05, \n",
    "                   readable = FALSE)\n",
    "\n",
    "## Store the results in a dataframe\n",
    "ego.mf.down.cluster_summary <- data.frame(ego.mf.down)\n",
    "dim(ego.mf.down.cluster_summary)\n",
    "head(ego.mf.down.cluster_summary, 5)"
   ]
  },
  {
   "cell_type": "code",
   "execution_count": null,
   "metadata": {
    "kernel": "R"
   },
   "outputs": [],
   "source": [
    "## Dotplot\n",
    "if(nrow(ego.mf.down.cluster_summary) > 0){\n",
    "    showCategory <- 30\n",
    "    if (nrow(ego.mf.down.cluster_summary) < 30){\n",
    "        showCategory <- nrow(ego.mf.down.cluster_summary)\n",
    "    }\n",
    "    options(repr.plot.width = 16, repr.plot.height = 8)\n",
    "\n",
    "    ego.mf.down.dotplot <- dotplot(ego.mf.down, showCategory=showCategory)\n",
    "    ego.mf.down.dotplot +\n",
    "    ggtitle(paste0(params$ANALYSIS_NAME, ' GO', ontology, ' ',gene_direction, 'regulated genes'))+\n",
    "    custom_theme()\n",
    "}"
   ]
  },
  {
   "cell_type": "code",
   "execution_count": null,
   "metadata": {
    "kernel": "R"
   },
   "outputs": [],
   "source": [
    "## Enrichment map\n",
    "if(nrow(ego.mf.down.cluster_summary) > 0){\n",
    "    options(repr.plot.width = 16, repr.plot.height = 8)\n",
    "\n",
    "    ego.mf.down.emapplot <- emapplot(ego.mf.down, showCategory = showCategory)\n",
    "    ego.mf.down.emapplot+\n",
    "    ggtitle(paste0(params$ANALYSIS_NAME, ' GO', ontology, ' ',gene_direction, 'regulated genes'))+\n",
    "    ggplot2::theme(\n",
    "        plot.title = element_text(color=\"black\", size=15, hjust = 0.5, face=\"bold\")\n",
    "    )\n",
    "}"
   ]
  },
  {
   "cell_type": "code",
   "execution_count": null,
   "metadata": {
    "kernel": "R"
   },
   "outputs": [],
   "source": [
    "if(nrow(ego.mf.down.cluster_summary) > 0){\n",
    "    options(repr.plot.width = 16, repr.plot.height = 8)\n",
    "\n",
    "    ego.mf.down.goplot <- goplot(ego.mf.down)\n",
    "    ego.mf.down.goplot+\n",
    "    ggtitle(paste0(params$ANALYSIS_NAME, ' GO', ontology, ' ',gene_direction, 'regulated genes'))+\n",
    "    ggplot2::theme(\n",
    "        plot.title = element_text(color=\"black\", size=15, hjust = 0.5, face=\"bold\")\n",
    "    )\n",
    "}"
   ]
  },
  {
   "cell_type": "markdown",
   "metadata": {
    "kernel": "R"
   },
   "source": [
    "## Gene Ontology Cellular Components on upregulated genes"
   ]
  },
  {
   "cell_type": "code",
   "execution_count": null,
   "metadata": {
    "kernel": "R"
   },
   "outputs": [],
   "source": [
    "ontology = 'CC'\n",
    "gene_direction = 'up'\n",
    "fdr_cutoff = 0.05\n",
    "logFC_cutoff = 1.0\n",
    "\n",
    "## Create background dataset for hypergeometric testing using all genes tested for significance in the results                 \n",
    "all_genes <- row.names(res)\n",
    "\n",
    "## Extract significant results\n",
    "sig_genes <- row.names(res[(res$FDR < fdr_cutoff), ])\n",
    "if(gene_direction=='up'){\n",
    "    sig_genes <- row.names(res[(res$FDR < fdr_cutoff) & (res$logFC > logFC_cutoff), ])\n",
    "}\n",
    "if(gene_direction=='down'){\n",
    "    sig_genes <- row.names(res[(res$FDR < fdr_cutoff) & (res$logFC < -logFC_cutoff), ])\n",
    "}\n",
    "\n",
    "## Run GO enrichment analysis \n",
    "ego.cc.up <- enrichGO(gene = sig_genes, \n",
    "                   universe = all_genes,\n",
    "                   keyType = \"SYMBOL\",\n",
    "                   OrgDb = org.Hs.eg.db, \n",
    "                   ont = ontology, \n",
    "                   pAdjustMethod = \"BH\", \n",
    "                   qvalueCutoff = 0.05, \n",
    "                   readable = FALSE)\n",
    "\n",
    "## Store the results in a dataframe\n",
    "ego.cc.up.cluster_summary <- data.frame(ego.cc.up)\n",
    "dim(ego.cc.up.cluster_summary)\n",
    "head(ego.cc.up.cluster_summary, 5)"
   ]
  },
  {
   "cell_type": "code",
   "execution_count": null,
   "metadata": {
    "kernel": "R"
   },
   "outputs": [],
   "source": [
    "## Dotplot\n",
    "if(nrow(ego.cc.up.cluster_summary) > 0){\n",
    "    showCategory <- 30\n",
    "    if (nrow(ego.cc.up.cluster_summary) < 30){\n",
    "        showCategory <- nrow(ego.cc.up.cluster_summary)\n",
    "    }\n",
    "    options(repr.plot.width = 16, repr.plot.height = 8)\n",
    "\n",
    "    ego.cc.up.dotplot <- dotplot(ego.cc.up, showCategory=showCategory)\n",
    "    ego.cc.up.dotplot +\n",
    "    ggtitle(paste0(params$ANALYSIS_NAME, ' GO', ontology, ' ',gene_direction, 'regulated genes'))+\n",
    "    custom_theme()\n",
    "}"
   ]
  },
  {
   "cell_type": "code",
   "execution_count": null,
   "metadata": {
    "kernel": "R"
   },
   "outputs": [],
   "source": [
    "## Enrichment map\n",
    "if(nrow(ego.cc.up.cluster_summary) > 0){\n",
    "    options(repr.plot.width = 16, repr.plot.height = 8)\n",
    "\n",
    "    ego.cc.up.emapplot <- emapplot(ego.cc.up, showCategory = showCategory)\n",
    "    ego.cc.up.emapplot+\n",
    "    ggtitle(paste0(params$ANALYSIS_NAME, ' GO', ontology, ' ',gene_direction, 'regulated genes'))+\n",
    "    ggplot2::theme(\n",
    "        plot.title = element_text(color=\"black\", size=15, hjust = 0.5, face=\"bold\")\n",
    "    )\n",
    "}"
   ]
  },
  {
   "cell_type": "code",
   "execution_count": null,
   "metadata": {
    "kernel": "R"
   },
   "outputs": [],
   "source": [
    "if(nrow(ego.cc.up.cluster_summary) > 0){\n",
    "    options(repr.plot.width = 16, repr.plot.height = 8)\n",
    "\n",
    "    ego.cc.up.goplot <- goplot(ego.cc.up)\n",
    "    ego.cc.up.goplot+\n",
    "    ggtitle(paste0(params$ANALYSIS_NAME, ' GO', ontology, ' ',gene_direction, 'regulated genes'))+\n",
    "    ggplot2::theme(\n",
    "        plot.title = element_text(color=\"black\", size=15, hjust = 0.5, face=\"bold\")\n",
    "    )\n",
    "}"
   ]
  },
  {
   "cell_type": "markdown",
   "metadata": {
    "kernel": "R"
   },
   "source": [
    "## Gene Ontology Cellular Components on downregulated genes"
   ]
  },
  {
   "cell_type": "code",
   "execution_count": null,
   "metadata": {
    "kernel": "R"
   },
   "outputs": [],
   "source": [
    "ontology = 'CC'\n",
    "gene_direction = 'down'\n",
    "fdr_cutoff = 0.05\n",
    "logFC_cutoff = 1.0\n",
    "\n",
    "## Create background dataset for hypergeometric testing using all genes tested for significance in the results                 \n",
    "all_genes <- row.names(res)\n",
    "\n",
    "## Extract significant results\n",
    "sig_genes <- row.names(res[(res$FDR < fdr_cutoff), ])\n",
    "if(gene_direction=='up'){\n",
    "    sig_genes <- row.names(res[(res$FDR < fdr_cutoff) & (res$logFC > logFC_cutoff), ])\n",
    "}\n",
    "if(gene_direction=='down'){\n",
    "    sig_genes <- row.names(res[(res$FDR < fdr_cutoff) & (res$logFC < -logFC_cutoff), ])\n",
    "}\n",
    "\n",
    "## Run GO enrichment analysis \n",
    "ego.cc.down <- enrichGO(gene = sig_genes, \n",
    "                   universe = all_genes,\n",
    "                   keyType = \"SYMBOL\",\n",
    "                   OrgDb = org.Hs.eg.db, \n",
    "                   ont = ontology, \n",
    "                   pAdjustMethod = \"BH\", \n",
    "                   qvalueCutoff = 0.05, \n",
    "                   readable = FALSE)\n",
    "\n",
    "## Store the results in a dataframe\n",
    "ego.cc.down.cluster_summary <- data.frame(ego.cc.down)\n",
    "dim(ego.cc.down.cluster_summary)\n",
    "head(ego.cc.down.cluster_summary, 5)"
   ]
  },
  {
   "cell_type": "code",
   "execution_count": null,
   "metadata": {
    "kernel": "R"
   },
   "outputs": [],
   "source": [
    "## Dotplot\n",
    "if(nrow(ego.cc.down.cluster_summary) > 0){\n",
    "    showCategory <- 30\n",
    "    if (nrow(ego.cc.down.cluster_summary) < 30){\n",
    "        showCategory <- nrow(ego.cc.down.cluster_summary)\n",
    "    }\n",
    "    options(repr.plot.width = 16, repr.plot.height = 8)\n",
    "\n",
    "    ego.cc.down.dotplot <- dotplot(ego.cc.down, showCategory=showCategory)\n",
    "    ego.cc.down.dotplot +\n",
    "    ggtitle(paste0(params$ANALYSIS_NAME, ' GO', ontology, ' ',gene_direction, 'regulated genes'))+\n",
    "    custom_theme()\n",
    "}"
   ]
  },
  {
   "cell_type": "code",
   "execution_count": null,
   "metadata": {
    "kernel": "R"
   },
   "outputs": [],
   "source": [
    "## Enrichment map\n",
    "if(nrow(ego.cc.down.cluster_summary) > 0){\n",
    "    options(repr.plot.width = 16, repr.plot.height = 8)\n",
    "\n",
    "    ego.cc.down.emapplot <- emapplot(ego.cc.down, showCategory = showCategory)\n",
    "    ego.cc.down.emapplot+\n",
    "    ggtitle(paste0(params$ANALYSIS_NAME, ' GO', ontology, ' ',gene_direction, 'regulated genes'))+\n",
    "    ggplot2::theme(\n",
    "        plot.title = element_text(color=\"black\", size=15, hjust = 0.5, face=\"bold\")\n",
    "    )\n",
    "}"
   ]
  },
  {
   "cell_type": "code",
   "execution_count": null,
   "metadata": {
    "kernel": "R"
   },
   "outputs": [],
   "source": [
    "if(nrow(ego.cc.down.cluster_summary) > 0){\n",
    "    options(repr.plot.width = 16, repr.plot.height = 8)\n",
    "\n",
    "    ego.cc.down.goplot <- goplot(ego.cc.down)\n",
    "    ego.cc.down.goplot+\n",
    "    ggtitle(paste0(params$ANALYSIS_NAME, ' GO', ontology, ' ',gene_direction, 'regulated genes'))+\n",
    "    ggplot2::theme(\n",
    "        plot.title = element_text(color=\"black\", size=15, hjust = 0.5, face=\"bold\")\n",
    "    )\n",
    "}"
   ]
  },
  {
   "cell_type": "markdown",
   "metadata": {
    "kernel": "R"
   },
   "source": [
    "## GSEA"
   ]
  },
  {
   "cell_type": "markdown",
   "metadata": {
    "kernel": "R"
   },
   "source": [
    "### Download Hallmark gene sets"
   ]
  },
  {
   "cell_type": "code",
   "execution_count": null,
   "metadata": {
    "kernel": "R"
   },
   "outputs": [],
   "source": [
    "cmd <- paste0(\"polly files copy --workspace-id \",params$WORKSPACE, \" -s \",params$GSEA_GMT_FILEPATH, \" -d gsea_pathways.gmt\")\n",
    "system(cmd, intern = TRUE)"
   ]
  },
  {
   "cell_type": "code",
   "execution_count": null,
   "metadata": {
    "kernel": "R"
   },
   "outputs": [],
   "source": [
    "library(fgsea)\n",
    "ranks <- res$logFC\n",
    "names(ranks) <- row.names(res)\n",
    "gsea_pathways <- gmtPathways('gsea_pathways.gmt')\n",
    "\n",
    "fgseaRes <- fgsea(pathways = gsea_pathways, \n",
    "                  stats    = ranks,\n",
    "                  minSize  = 15,\n",
    "                  maxSize  = 500,\n",
    "                  nperm = 100)\n",
    "fgseaRes <- fgseaRes[order(fgseaRes$ES), ]\n",
    "\n",
    "dim(fgseaRes)\n",
    "head(fgseaRes)"
   ]
  },
  {
   "cell_type": "code",
   "execution_count": null,
   "metadata": {
    "kernel": "R"
   },
   "outputs": [],
   "source": [
    "top_gsea_results <- as.data.frame(rbind(head(fgseaRes, 10), tail(fgseaRes, 10)))\n",
    "top_gsea_results <- unique(top_gsea_results)\n",
    "top_gsea_results[,1:7]"
   ]
  },
  {
   "cell_type": "code",
   "execution_count": null,
   "metadata": {
    "kernel": "R"
   },
   "outputs": [],
   "source": [
    "min_ngenes <- 2^ceiling(log2(min(top_gsea_results$size)))\n",
    "max_ngenes <- 2^ceiling(log2(max(top_gsea_results$size)))\n",
    "\n",
    "p <- ggplot(top_gsea_results, aes(x = ES, y = pathway, fill=padj, size=size))+\n",
    "        geom_point(shape = 21, alpha = 1.0) +\n",
    "        scale_y_discrete(limits = top_gsea_results$pathway)+\n",
    "        scale_size_continuous(range = c(.1, 24), name=\"No. of genes\", breaks = seq(min_ngenes, max_ngenes, length.out=5)) + \n",
    "        scale_fill_continuous(low=\"red\", high=\"grey\", limits=c(0,0.05)) +\n",
    "        ggtitle(paste0(params$ANALYSIS_NAME, ' GSEA'))+\n",
    "        xlab(\"enrichmentScore\") + \n",
    "        ylab(\"Pathway\") +\n",
    "        theme(legend.position = \"right\", legend.direction = \"vertical\", # legend positioned at the bottom, horizantal direction,\n",
    "              axis.line = element_line(size=1, colour = \"black\"),\t# axis line of size 1 inch in black color\n",
    "              panel.grid.major = element_blank(),\t# major grids included\n",
    "              panel.grid.minor = element_blank(),\t# no minor grids\n",
    "              plot.title = element_text(color=\"black\", size=20, hjust = 0.5, face=\"bold\"),\n",
    "              panel.border = element_blank(), panel.background = element_blank(), # no borders and background color\n",
    "              axis.title = element_text(colour=\"black\", size = 20, face = \"bold\"), # axis title \n",
    "              axis.text.x = element_text(colour=\"black\", size = 15, margin=unit(c(0.5,0.5,0.1,0.1), \"cm\"), face = \"bold\"), # x-axis text in fontsize 10\n",
    "              axis.text.y = element_text(colour=\"black\", size = 15, margin=unit(c(0.5,0.5,0.1,0.1), \"cm\"), face = \"bold\"), # y-axis text in fontsize 10\n",
    "              legend.text = element_text(size = 15, face = \"bold\"),\n",
    "              legend.title = element_text(size = 15, face = \"bold\"),\n",
    "              axis.ticks.length = unit(-0.25, \"cm\")) # ticks facing inward with 0.25cm length\n",
    "p"
   ]
  },
  {
   "cell_type": "markdown",
   "metadata": {
    "kernel": "R"
   },
   "source": [
    "## X2K: Using API"
   ]
  },
  {
   "cell_type": "code",
   "execution_count": null,
   "metadata": {
    "kernel": "Python3"
   },
   "outputs": [],
   "source": [
    "# Import modules\n",
    "import requests\n",
    "import json\n",
    "import pandas as pd\n",
    "import numpy as np\n",
    "import seaborn as sns\n",
    "import matplotlib.pyplot as plt\n",
    "\n",
    "SMALL_SIZE = 10\n",
    "MEDIUM_SIZE = 12\n",
    "BIGGER_SIZE = 14\n",
    "\n",
    "plt.rc('font', size=SMALL_SIZE)          # controls default text sizes\n",
    "plt.rc('axes', titlesize=SMALL_SIZE)     # fontsize of the axes title\n",
    "plt.rc('axes', labelsize=MEDIUM_SIZE)    # fontsize of the x and y labels\n",
    "plt.rc('xtick', labelsize=SMALL_SIZE)    # fontsize of the tick labels\n",
    "plt.rc('ytick', labelsize=SMALL_SIZE)    # fontsize of the tick labels\n",
    "plt.rc('legend', fontsize=SMALL_SIZE)    # legend fontsize\n",
    "plt.rc('figure', titlesize=BIGGER_SIZE)  # fontsize of the figure title\n",
    "\n",
    "##### Function to run X2K\n",
    "### Input: a Python list of gene symbols\n",
    "### Output: a dictionary containing the results of X2K, ChEA, G2N, KEA.\n",
    "\n",
    "def run_X2K(input_genes, options={}):\n",
    "    # Set default options\n",
    "    all_options = {'included_organisms': 'both',\n",
    "                       'TF-target gene background database used for enrichment': 'ChEA & ENCODE Consensus',\n",
    "                       'sort transcription factors by': 'p-value',\n",
    "                       'min_network_size': 10,\n",
    "                       'number of top TFs': 10,\n",
    "                       'path_length': 2,\n",
    "                       'min_number_of_articles_supporting_interaction': 0,\n",
    "                       'max_number_of_interactions_per_protein': 200,\n",
    "                       'max_number_of_interactions_per_article': 100,\n",
    "                       'enable_BioGRID': True,\n",
    "                       'enable_IntAct': True,\n",
    "                       'enable_MINT': True,\n",
    "                       'enable_ppid': True,\n",
    "                       'enable_Stelzl': True,\n",
    "                       'kinase interactions to include': 'kea 2018',\n",
    "                       'sort kinases by': 'p-value'}\n",
    "\n",
    "    # Override defaults with options\n",
    "    all_options.update(options)\n",
    "    all_options['text-genes'] = '\\n'.join(input_genes)\n",
    "\n",
    "    # Perform request & get response\n",
    "    res = requests.post(\n",
    "        'https://maayanlab.cloud/X2K/api',\n",
    "        files=[(k, (None, v)) for k, v in all_options.items()],\n",
    "    )\n",
    "\n",
    "    # Read response\n",
    "    data = res.json()\n",
    "\n",
    "    # Convert to dictionary\n",
    "    x2k_results = {key: json.loads(value) if key != 'input' else value for key, value in data.items()}\n",
    "\n",
    "    # Clean results\n",
    "    x2k_results['ChEA'] = x2k_results['ChEA']['tfs']\n",
    "    x2k_results['G2N'] = x2k_results['G2N']['network']\n",
    "    x2k_results['KEA'] = x2k_results['KEA']['kinases']\n",
    "    x2k_results['X2K'] = x2k_results['X2K']['network']\n",
    "\n",
    "    # Return results\n",
    "    return x2k_results"
   ]
  },
  {
   "cell_type": "markdown",
   "metadata": {
    "kernel": "Python3"
   },
   "source": [
    "### 1. Read DE results"
   ]
  },
  {
   "cell_type": "code",
   "execution_count": null,
   "metadata": {
    "kernel": "Python3"
   },
   "outputs": [],
   "source": [
    "de = pd.read_csv('results/der.csv', index_col=0)\n",
    "de.head()"
   ]
  },
  {
   "cell_type": "markdown",
   "metadata": {
    "kernel": "Python3"
   },
   "source": [
    "### 2. Get The List Of DEGs For Input To X2K"
   ]
  },
  {
   "cell_type": "code",
   "execution_count": null,
   "metadata": {
    "kernel": "Python3"
   },
   "outputs": [],
   "source": [
    "x2k_input_genes = de.loc[de['FDR'] < 0.05].index.values\n",
    "len(x2k_input_genes)"
   ]
  },
  {
   "cell_type": "markdown",
   "metadata": {
    "kernel": "Python3"
   },
   "source": [
    "### 3. Run X2K"
   ]
  },
  {
   "cell_type": "code",
   "execution_count": null,
   "metadata": {
    "kernel": "Python3"
   },
   "outputs": [],
   "source": [
    "x2k_results = run_X2K(x2k_input_genes)"
   ]
  },
  {
   "cell_type": "code",
   "execution_count": null,
   "metadata": {
    "kernel": "Python3"
   },
   "outputs": [],
   "source": [
    "x2k_results.keys()"
   ]
  },
  {
   "cell_type": "markdown",
   "metadata": {
    "kernel": "Python3"
   },
   "source": [
    "### 4. ChEA"
   ]
  },
  {
   "cell_type": "code",
   "execution_count": null,
   "metadata": {
    "kernel": "Python3"
   },
   "outputs": [],
   "source": [
    "chea = pd.DataFrame(x2k_results['ChEA'])\n",
    "chea['neg_log10_pval'] = -np.log10(chea['pvalue'])\n",
    "chea = chea.sort_values(by=['pvalue'])\n",
    "chea.head()"
   ]
  },
  {
   "cell_type": "code",
   "execution_count": null,
   "metadata": {
    "kernel": "Python3"
   },
   "outputs": [],
   "source": [
    "chea.to_csv('results/chea.csv')"
   ]
  },
  {
   "cell_type": "markdown",
   "metadata": {
    "kernel": "Python3"
   },
   "source": [
    "### 5. KEA"
   ]
  },
  {
   "cell_type": "code",
   "execution_count": null,
   "metadata": {
    "kernel": "Python3"
   },
   "outputs": [],
   "source": [
    "kea = pd.DataFrame(x2k_results['KEA'])\n",
    "kea['neg_log10_pval'] = -np.log10(kea['pvalue'])\n",
    "kea = kea.sort_values(by=['pvalue'])\n",
    "kea.head()"
   ]
  },
  {
   "cell_type": "code",
   "execution_count": null,
   "metadata": {
    "kernel": "Python3"
   },
   "outputs": [],
   "source": [
    "kea.to_csv('results/kea.csv')"
   ]
  },
  {
   "cell_type": "markdown",
   "metadata": {
    "kernel": "Python3"
   },
   "source": [
    "### 6. ChEA and KEA visualization"
   ]
  },
  {
   "cell_type": "code",
   "execution_count": null,
   "metadata": {
    "kernel": "Python3"
   },
   "outputs": [],
   "source": [
    "%get params --from R"
   ]
  },
  {
   "cell_type": "code",
   "execution_count": null,
   "metadata": {
    "kernel": "Python3"
   },
   "outputs": [],
   "source": [
    "# Initialize the matplotlib figure\n",
    "\n",
    "fig, (ax1, ax2) = plt.subplots(1, 2, figsize=(16,8))\n",
    "fig.suptitle(params['ANALYSIS_NAME']+' X2K')\n",
    "sns.set_color_codes(\"pastel\")\n",
    "sns.set_theme(style=\"white\")\n",
    "sns.despine(left=True)\n",
    "\n",
    "sns.barplot(y=\"name\", x=\"neg_log10_pval\", data=chea.iloc[0:10], color=\"brown\", ax=ax1)\n",
    "ax1.set(ylabel=\"Transcription factors\", xlabel=\"-log10(pval)\")\n",
    "\n",
    "sns.barplot(y=\"name\", x=\"neg_log10_pval\", data=kea.iloc[0:10], color=\"b\", ax=ax2)\n",
    "ax2.set(ylabel=\"Kinases\", xlabel=\"-log10(pval)\")"
   ]
  },
  {
   "cell_type": "markdown",
   "metadata": {
    "kernel": "Python3"
   },
   "source": [
    "## Write results to workspace"
   ]
  },
  {
   "cell_type": "code",
   "execution_count": null,
   "metadata": {
    "kernel": "R"
   },
   "outputs": [],
   "source": [
    "write.csv(ego.bp.up.cluster_summary, 'results/ego_bp_up_cluster_summary.csv')\n",
    "write.csv(ego.bp.down.cluster_summary, 'results/ego_bp_down_cluster_summary.csv')\n",
    "write.csv(ego.mf.up.cluster_summary, 'results/ego_mf_up_cluster_summary.csv')\n",
    "write.csv(ego.mf.down.cluster_summary, 'results/ego_mf_down_cluster_summary.csv')\n",
    "write.csv(ego.cc.up.cluster_summary, 'results/ego_cc_up_cluster_summary.csv')\n",
    "write.csv(ego.cc.down.cluster_summary, 'results/ego_cc_down_cluster_summary.csv')"
   ]
  },
  {
   "cell_type": "code",
   "execution_count": null,
   "metadata": {
    "kernel": "R"
   },
   "outputs": [],
   "source": [
    "cmd <- paste0(\"polly files sync --workspace-id \", params$WORKSPACE,\n",
    "              \" -s results/ -d \", params$OUTPUT_DIR)\n",
    "system(cmd, intern = TRUE)"
   ]
  },
  {
   "cell_type": "markdown",
   "metadata": {
    "kernel": "R"
   },
   "source": [
    "## Publish an HTML report"
   ]
  },
  {
   "cell_type": "code",
   "execution_count": null,
   "metadata": {
    "kernel": "Python3"
   },
   "outputs": [],
   "source": [
    "def get_notebook_name():\n",
    "    files = os.listdir()\n",
    "    notebook = [file for file in files if '.ipynb' in file][0]\n",
    "    return notebook"
   ]
  },
  {
   "cell_type": "code",
   "execution_count": null,
   "metadata": {
    "kernel": "Python3"
   },
   "outputs": [],
   "source": [
    "notebook_name = get_notebook_name()\n",
    "notebook_name"
   ]
  },
  {
   "cell_type": "code",
   "execution_count": null,
   "metadata": {
    "kernel": "R"
   },
   "outputs": [],
   "source": [
    "%get notebook_name --from python3\n",
    "notebook_name"
   ]
  },
  {
   "cell_type": "code",
   "execution_count": null,
   "metadata": {
    "kernel": "R"
   },
   "outputs": [],
   "source": [
    "cmd <- paste0(\"jupyter nbconvert --to HTML --TemplateExporter.exclude_input=True --no-prompt --output report.html \",\n",
    "              notebook_name)\n",
    "system(cmd, intern = TRUE)"
   ]
  },
  {
   "cell_type": "code",
   "execution_count": null,
   "metadata": {
    "kernel": "R"
   },
   "outputs": [],
   "source": [
    "cmd <- paste0(\"polly files copy --workspace-id \", params$WORKSPACE, \n",
    "             \" -s report.html\",\n",
    "             \" -d \", params$REPORT_FILEPATH)\n",
    "system(cmd, intern=TRUE)"
   ]
  }
 ],
 "metadata": {
  "kernelspec": {
   "display_name": "Pollyglot",
   "language": "sos",
   "name": "sos"
  },
  "language_info": {
   "codemirror_mode": "sos",
   "file_extension": ".sos",
   "mimetype": "text/x-sos",
   "name": "sos",
   "nbconvert_exporter": "sos_notebook.converter.SoS_Exporter",
   "pygments_lexer": "sos"
  },
  "sos": {
   "kernels": [
    [
     "Bash",
     "bash",
     "Bash",
     "#E6EEFF",
     "shell"
    ],
    [
     "Pollyglot",
     "sos",
     "",
     "",
     "sos"
    ],
    [
     "Python3",
     "python3",
     "Python3",
     "#FFD91A",
     {
      "name": "ipython",
      "version": 3
     }
    ],
    [
     "R",
     "ir",
     "R",
     "#DCDCDA",
     "r"
    ]
   ],
   "panel": {
    "displayed": true,
    "height": 0
   },
   "version": "1.0.0"
  }
 },
 "nbformat": 4,
 "nbformat_minor": 2
}
