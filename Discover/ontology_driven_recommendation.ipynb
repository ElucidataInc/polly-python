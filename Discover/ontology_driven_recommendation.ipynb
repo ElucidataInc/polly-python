{
 "cells": [
  {
   "cell_type": "markdown",
   "metadata": {
    "colab_type": "text",
    "id": "view-in-github"
   },
   "source": [
    "<a href=\"https://polly.elucidata.io/manage/workspaces?action=open_polly_notebook&amp;source=github&amp;path=ElucidataInc%2Fpolly-python%2Fblob%2Fmain%2FDiscover%2Fontology_recommendations_disease_tissue.ipynb&amp;kernel=elucidata%2FPython+3.10&amp;machine=medium\" target=\"_parent\"><img alt=\"Open in Polly\" src=\"https://elucidatainc.github.io/PublicAssets/open_polly.svg\"/></a>\n"
   ]
  },
  {
   "cell_type": "markdown",
   "metadata": {},
   "source": [
    "# Ontology-driven recommendations using polly-python"
   ]
  },
  {
   "cell_type": "markdown",
   "metadata": {},
   "source": [
    "### What is Ontology-driven Recommendation?\n",
    "\n",
    "Ontology-driven recommendation is a feature that enables users to find similar or related suggestions for a given input term. The word \"ontology\" means that the feature is able to leverage the synonyms and relationships that exist between different related terms described in the ontology."
   ]
  },
  {
   "cell_type": "markdown",
   "metadata": {},
   "source": [
    "### Which biomedical entities are currently enabled for recommendations?\n",
    "\n",
    "The feature is currently enabled on the **curated fields** on Polly, as mentioned below:\n",
    "1. Disease\n",
    "2. Tissue\n",
    "3. Cell-line\n",
    "4. Drug\n",
    "5. Cell-Type *(coming soon)*"
   ]
  },
  {
   "cell_type": "markdown",
   "metadata": {},
   "source": [
    "### Special features that are introduced for cell-line and drug recommendation\n",
    "\n",
    "1. **Find cell-lines using disease and tissue**:\n",
    "   \n",
    "   **Why is this useful?**\n",
    "       A user may not be aware of all the cell-lines that have been studied in the context of a disease. Or all cell-lines that have been sampled from a tissue.\n",
    "   \n",
    "   **How is this used?**\n",
    "       A user can simply enter a disease or tissue for which they are interested in knowing all the related cell-lines.  Semantic Enrichment of the input is performed and specific terms are recommended\n",
    "       \n",
    "2. **Finding related cell-lines**:\n",
    "        \n",
    "   **How is this used?**\n",
    "       A user can simply enter a cell-line for which they are interested in knowing all the related cell-lines. The cell-lines returned are related to the input by a common disease or tissue.\n",
    "   \n",
    "3. **Find drugs using interacting genes:**\n",
    "\n",
    "    **Why is this useful?**\n",
    "       A user may be interested in finding drugs that have known interactions with a particular gene of interest, this can potentially help discover associations that were previously unknown.\n",
    "   \n",
    "   **How is this used?**\n",
    "       A user can simply enter a gene identifier (HUGO Symbol, Entrez ID, Ensembl ID or Gene Alias) for which they are interested in knowing all the related drugs.  Semantic Enrichment of the input is performed and specific terms are recommended.\n",
    "       \n",
    "4. **Find related drugs that are similar in their 3D structure:**\n",
    "    \n",
    "    **Why is this useful?**\n",
    "        The current drug recommendation system can recommend drugs that are similar in structure. This is useful for exploring drugs for repurposing.\n",
    "        \n",
    "    **How is this used?**\n",
    "        When a user enter a drug identifier of interest, similar drugs are recommended which are related by 3D structure."
   ]
  },
  {
   "cell_type": "code",
   "execution_count": 1,
   "metadata": {},
   "outputs": [],
   "source": [
    "# please do not modify\n",
    "from IPython.display import display_html\n",
    "def restartkernel() :\n",
    "    display_html(\"<script>Jupyter.notebook.kernel.restart()</script>\",raw=True)"
   ]
  },
  {
   "cell_type": "markdown",
   "metadata": {},
   "source": [
    "## Install polly-python"
   ]
  },
  {
   "cell_type": "code",
   "execution_count": null,
   "metadata": {},
   "outputs": [],
   "source": [
    "!sudo pip3 install polly-python --quiet #Restart kernel after the cell executes."
   ]
  },
  {
   "cell_type": "code",
   "execution_count": null,
   "metadata": {},
   "outputs": [
    {
     "data": {
      "text/html": [
       "<script>Jupyter.notebook.kernel.restart()</script>"
      ]
     },
     "metadata": {},
     "output_type": "display_data"
    }
   ],
   "source": [
    "restartkernel() #Pause for a few seconds before the kernel is refreshed"
   ]
  },
  {
   "cell_type": "markdown",
   "metadata": {},
   "source": [
    "## Import Dependencies"
   ]
  },
  {
   "cell_type": "code",
   "execution_count": 22,
   "metadata": {},
   "outputs": [],
   "source": [
    "import os\n",
    "import pandas as pd\n",
    "from polly.auth import Polly\n",
    "from polly.omixatlas import OmixAtlas"
   ]
  },
  {
   "cell_type": "markdown",
   "metadata": {},
   "source": [
    "## Authentication"
   ]
  },
  {
   "cell_type": "code",
   "execution_count": 2,
   "metadata": {},
   "outputs": [],
   "source": [
    "POLLY_REFRESH_TOKEN = os.environ['POLLY_REFRESH_TOKEN']\n",
    "omixatlas = OmixAtlas(POLLY_REFRESH_TOKEN)"
   ]
  },
  {
   "cell_type": "markdown",
   "metadata": {},
   "source": [
    "## SQL Query examples for querying datasets using Ontology-driven recommendations"
   ]
  },
  {
   "cell_type": "markdown",
   "metadata": {},
   "source": [
    "## Find datasets using disease and tissue"
   ]
  },
  {
   "cell_type": "markdown",
   "metadata": {},
   "source": [
    "**Query Structure**\n",
    "\n",
    "`field`: the curated field on which to query  \n",
    "`keyword`: the input keyword for which datasets are to be queried  \n",
    "`match|related`: match returns terms where the curated term contains the keyword and related returns terms that are related to the keyword such as hypernyms and hyponyms  \n",
    "\n",
    "`recommend(field, keyword, 'match|related')`"
   ]
  },
  {
   "cell_type": "markdown",
   "metadata": {},
   "source": [
    "### Example 1: Find datasets using disease and tissue"
   ]
  },
  {
   "cell_type": "code",
   "execution_count": 4,
   "metadata": {},
   "outputs": [
    {
     "name": "stdout",
     "output_type": "stream",
     "text": [
      "Query execution succeeded (time taken: 2.48 seconds, data scanned: 1.213 MB)\n",
      "Fetched 2702 rows\n"
     ]
    },
    {
     "data": {
      "text/html": [
       "<div>\n",
       "<style scoped>\n",
       "    .dataframe tbody tr th:only-of-type {\n",
       "        vertical-align: middle;\n",
       "    }\n",
       "\n",
       "    .dataframe tbody tr th {\n",
       "        vertical-align: top;\n",
       "    }\n",
       "\n",
       "    .dataframe thead th {\n",
       "        text-align: right;\n",
       "    }\n",
       "</style>\n",
       "<table border=\"1\" class=\"dataframe\">\n",
       "  <thead>\n",
       "    <tr style=\"text-align: right;\">\n",
       "      <th></th>\n",
       "      <th>dataset_id</th>\n",
       "      <th>curated_disease</th>\n",
       "      <th>curated_tissue</th>\n",
       "    </tr>\n",
       "  </thead>\n",
       "  <tbody>\n",
       "    <tr>\n",
       "      <th>0</th>\n",
       "      <td>GSE95472_GPL6244</td>\n",
       "      <td>[Short Stature, Idiopathic, Autosomal, Triple ...</td>\n",
       "      <td>[breast]</td>\n",
       "    </tr>\n",
       "    <tr>\n",
       "      <th>1</th>\n",
       "      <td>GSE95554_GPL17117</td>\n",
       "      <td>[Breast Neoplasms]</td>\n",
       "      <td>[breast, oil secretion]</td>\n",
       "    </tr>\n",
       "    <tr>\n",
       "      <th>2</th>\n",
       "      <td>GSE95700_GPL570</td>\n",
       "      <td>[Le Marec Bracq Picaud syndrome, Neurologic Di...</td>\n",
       "      <td>[breast]</td>\n",
       "    </tr>\n",
       "    <tr>\n",
       "      <th>3</th>\n",
       "      <td>GSE9574_GPL96</td>\n",
       "      <td>[Breast Neoplasms, Carcinoma in Situ, Genetic ...</td>\n",
       "      <td>[breast epithelium]</td>\n",
       "    </tr>\n",
       "    <tr>\n",
       "      <th>4</th>\n",
       "      <td>GSE96058_GPL11154</td>\n",
       "      <td>[Fusariosis, Neoplasms, Basal Cell, Polyps, Mu...</td>\n",
       "      <td>[breast]</td>\n",
       "    </tr>\n",
       "  </tbody>\n",
       "</table>\n",
       "</div>"
      ],
      "text/plain": [
       "          dataset_id                                    curated_disease  \\\n",
       "0   GSE95472_GPL6244  [Short Stature, Idiopathic, Autosomal, Triple ...   \n",
       "1  GSE95554_GPL17117                                 [Breast Neoplasms]   \n",
       "2    GSE95700_GPL570  [Le Marec Bracq Picaud syndrome, Neurologic Di...   \n",
       "3      GSE9574_GPL96  [Breast Neoplasms, Carcinoma in Situ, Genetic ...   \n",
       "4  GSE96058_GPL11154  [Fusariosis, Neoplasms, Basal Cell, Polyps, Mu...   \n",
       "\n",
       "            curated_tissue  \n",
       "0                 [breast]  \n",
       "1  [breast, oil secretion]  \n",
       "2                 [breast]  \n",
       "3      [breast epithelium]  \n",
       "4                 [breast]  "
      ]
     },
     "execution_count": 4,
     "metadata": {},
     "output_type": "execute_result"
    }
   ],
   "source": [
    "sql_query = \"\"\"SELECT dataset_id, curated_disease, curated_tissue FROM geo.datasets WHERE \n",
    "        CONTAINS(curated_disease, recommend('curated_disease', 'breast neoplasms', 'related')) AND \n",
    "        CONTAINS(curated_tissue, recommend('curated_tissue', 'breast', 'related'))\"\"\" \n",
    "result = omixatlas.query_metadata(sql_query)\n",
    "result.head()"
   ]
  },
  {
   "cell_type": "markdown",
   "metadata": {},
   "source": [
    "### Example 2"
   ]
  },
  {
   "cell_type": "code",
   "execution_count": 14,
   "metadata": {
    "scrolled": true
   },
   "outputs": [
    {
     "name": "stdout",
     "output_type": "stream",
     "text": [
      "Query execution succeeded (time taken: 2.38 seconds, data scanned: 1.023 MB)\n",
      "Fetched 675 rows\n"
     ]
    },
    {
     "data": {
      "text/html": [
       "<div>\n",
       "<style scoped>\n",
       "    .dataframe tbody tr th:only-of-type {\n",
       "        vertical-align: middle;\n",
       "    }\n",
       "\n",
       "    .dataframe tbody tr th {\n",
       "        vertical-align: top;\n",
       "    }\n",
       "\n",
       "    .dataframe thead th {\n",
       "        text-align: right;\n",
       "    }\n",
       "</style>\n",
       "<table border=\"1\" class=\"dataframe\">\n",
       "  <thead>\n",
       "    <tr style=\"text-align: right;\">\n",
       "      <th></th>\n",
       "      <th>dataset_id</th>\n",
       "      <th>curated_disease</th>\n",
       "    </tr>\n",
       "  </thead>\n",
       "  <tbody>\n",
       "    <tr>\n",
       "      <th>0</th>\n",
       "      <td>GSE95403_GPL14844</td>\n",
       "      <td>[Hepatitis, Alcoholic, Albinism deafness syndr...</td>\n",
       "    </tr>\n",
       "    <tr>\n",
       "      <th>1</th>\n",
       "      <td>GSE95424_GPL21103</td>\n",
       "      <td>[Liver Neoplasms, Liver Cirrhosis, Hepatitis B...</td>\n",
       "    </tr>\n",
       "    <tr>\n",
       "      <th>2</th>\n",
       "      <td>GSE96851_GPL570</td>\n",
       "      <td>[Acute-On-Chronic Liver Failure, Hepatitis B, ...</td>\n",
       "    </tr>\n",
       "    <tr>\n",
       "      <th>3</th>\n",
       "      <td>GSE97098_GPL11154</td>\n",
       "      <td>[CATSHL syndrome, Cornea Plana 1, Liver and in...</td>\n",
       "    </tr>\n",
       "    <tr>\n",
       "      <th>4</th>\n",
       "      <td>GSE97098_GPL20301</td>\n",
       "      <td>[CATSHL syndrome, Cornea Plana 1, Liver and in...</td>\n",
       "    </tr>\n",
       "  </tbody>\n",
       "</table>\n",
       "</div>"
      ],
      "text/plain": [
       "          dataset_id                                    curated_disease\n",
       "0  GSE95403_GPL14844  [Hepatitis, Alcoholic, Albinism deafness syndr...\n",
       "1  GSE95424_GPL21103  [Liver Neoplasms, Liver Cirrhosis, Hepatitis B...\n",
       "2    GSE96851_GPL570  [Acute-On-Chronic Liver Failure, Hepatitis B, ...\n",
       "3  GSE97098_GPL11154  [CATSHL syndrome, Cornea Plana 1, Liver and in...\n",
       "4  GSE97098_GPL20301  [CATSHL syndrome, Cornea Plana 1, Liver and in..."
      ]
     },
     "execution_count": 14,
     "metadata": {},
     "output_type": "execute_result"
    }
   ],
   "source": [
    "sql_query = \"\"\"SELECT dataset_id, curated_disease FROM geo.datasets WHERE \n",
    "                CONTAINS(curated_disease, recommend('curated_disease', 'hepatitis', 'match'))\"\"\"\n",
    "result = omixatlas.query_metadata(sql_query)\n",
    "result.head()"
   ]
  },
  {
   "cell_type": "markdown",
   "metadata": {},
   "source": [
    "### Example 3"
   ]
  },
  {
   "cell_type": "code",
   "execution_count": 13,
   "metadata": {
    "scrolled": true
   },
   "outputs": [
    {
     "name": "stdout",
     "output_type": "stream",
     "text": [
      "Query execution succeeded (time taken: 3.00 seconds, data scanned: 0.629 MB)\n",
      "Fetched 8185 rows\n"
     ]
    },
    {
     "data": {
      "text/html": [
       "<div>\n",
       "<style scoped>\n",
       "    .dataframe tbody tr th:only-of-type {\n",
       "        vertical-align: middle;\n",
       "    }\n",
       "\n",
       "    .dataframe tbody tr th {\n",
       "        vertical-align: top;\n",
       "    }\n",
       "\n",
       "    .dataframe thead th {\n",
       "        text-align: right;\n",
       "    }\n",
       "</style>\n",
       "<table border=\"1\" class=\"dataframe\">\n",
       "  <thead>\n",
       "    <tr style=\"text-align: right;\">\n",
       "      <th></th>\n",
       "      <th>dataset_id</th>\n",
       "      <th>curated_tissue</th>\n",
       "    </tr>\n",
       "  </thead>\n",
       "  <tbody>\n",
       "    <tr>\n",
       "      <th>0</th>\n",
       "      <td>GSE95341_GPL19057</td>\n",
       "      <td>[liver]</td>\n",
       "    </tr>\n",
       "    <tr>\n",
       "      <th>1</th>\n",
       "      <td>GSE95345_GPL6885</td>\n",
       "      <td>[liver]</td>\n",
       "    </tr>\n",
       "    <tr>\n",
       "      <th>2</th>\n",
       "      <td>GSE95359_GPL19057</td>\n",
       "      <td>[liver]</td>\n",
       "    </tr>\n",
       "    <tr>\n",
       "      <th>3</th>\n",
       "      <td>GSE9536_GPL96</td>\n",
       "      <td>[liver]</td>\n",
       "    </tr>\n",
       "    <tr>\n",
       "      <th>4</th>\n",
       "      <td>GSE95401_GPL17021</td>\n",
       "      <td>[lung, kidney, adult, spinal cord, brain, liver]</td>\n",
       "    </tr>\n",
       "  </tbody>\n",
       "</table>\n",
       "</div>"
      ],
      "text/plain": [
       "          dataset_id                                    curated_tissue\n",
       "0  GSE95341_GPL19057                                           [liver]\n",
       "1   GSE95345_GPL6885                                           [liver]\n",
       "2  GSE95359_GPL19057                                           [liver]\n",
       "3      GSE9536_GPL96                                           [liver]\n",
       "4  GSE95401_GPL17021  [lung, kidney, adult, spinal cord, brain, liver]"
      ]
     },
     "execution_count": 13,
     "metadata": {},
     "output_type": "execute_result"
    }
   ],
   "source": [
    "sql_query = \"\"\"SELECT dataset_id, curated_tissue FROM geo.datasets WHERE \n",
    "            CONTAINS(curated_tissue, recommend('curated_tissue', 'liver', 'related'))\"\"\"\n",
    "result = omixatlas.query_metadata(sql_query)\n",
    "result.head()"
   ]
  },
  {
   "cell_type": "markdown",
   "metadata": {},
   "source": [
    "## Find datasets using cell-lines\n",
    "\n",
    "### Query Structure\n",
    "\n",
    "`field`: the curated field on which to query   \n",
    "`keyword`: the input keyword for which datasets are to be queried  \n",
    "`keyword_field`: the field using which cell-lines are recommended. default = `cell_line`  \n",
    "        - `match|related disease`: find cell-lines using match or related disease  \n",
    "        - `match|related tissue`: find cell-lines using match or related tissue  \n",
    "        \n",
    "`recommend(field, keyword, keyword_field)`"
   ]
  },
  {
   "cell_type": "markdown",
   "metadata": {},
   "source": [
    "### Example 1: Find datasets using cell-lines that match the keyword"
   ]
  },
  {
   "cell_type": "code",
   "execution_count": 23,
   "metadata": {},
   "outputs": [
    {
     "name": "stdout",
     "output_type": "stream",
     "text": [
      "Query execution succeeded (time taken: 2.45 seconds, data scanned: 0.593 MB)\n",
      "Fetched 954 rows\n"
     ]
    },
    {
     "data": {
      "text/html": [
       "<div>\n",
       "<style scoped>\n",
       "    .dataframe tbody tr th:only-of-type {\n",
       "        vertical-align: middle;\n",
       "    }\n",
       "\n",
       "    .dataframe tbody tr th {\n",
       "        vertical-align: top;\n",
       "    }\n",
       "\n",
       "    .dataframe thead th {\n",
       "        text-align: right;\n",
       "    }\n",
       "</style>\n",
       "<table border=\"1\" class=\"dataframe\">\n",
       "  <thead>\n",
       "    <tr style=\"text-align: right;\">\n",
       "      <th></th>\n",
       "      <th>dataset_id</th>\n",
       "      <th>curated_cell_line</th>\n",
       "    </tr>\n",
       "  </thead>\n",
       "  <tbody>\n",
       "    <tr>\n",
       "      <th>0</th>\n",
       "      <td>GSE96649_GPL18573</td>\n",
       "      <td>[A-549]</td>\n",
       "    </tr>\n",
       "    <tr>\n",
       "      <th>1</th>\n",
       "      <td>GSE96677_GPL17021</td>\n",
       "      <td>[A-549]</td>\n",
       "    </tr>\n",
       "    <tr>\n",
       "      <th>2</th>\n",
       "      <td>GSE96774_GPL18573</td>\n",
       "      <td>[A-549]</td>\n",
       "    </tr>\n",
       "    <tr>\n",
       "      <th>3</th>\n",
       "      <td>GSE96779_GPL18573</td>\n",
       "      <td>[A-549]</td>\n",
       "    </tr>\n",
       "    <tr>\n",
       "      <th>4</th>\n",
       "      <td>GSE96781_GPL18573</td>\n",
       "      <td>[A-549]</td>\n",
       "    </tr>\n",
       "  </tbody>\n",
       "</table>\n",
       "</div>"
      ],
      "text/plain": [
       "          dataset_id curated_cell_line\n",
       "0  GSE96649_GPL18573           [A-549]\n",
       "1  GSE96677_GPL17021           [A-549]\n",
       "2  GSE96774_GPL18573           [A-549]\n",
       "3  GSE96779_GPL18573           [A-549]\n",
       "4  GSE96781_GPL18573           [A-549]"
      ]
     },
     "execution_count": 23,
     "metadata": {},
     "output_type": "execute_result"
    }
   ],
   "source": [
    "sql_query = \"\"\"SELECT dataset_id, curated_cell_line FROM geo.datasets \n",
    "    WHERE CONTAINS(curated_cell_line, recommend('curated_cell_line', 'a549', 'match'))\"\"\"\n",
    "result = pd.DataFrame(omixatlas.query_metadata(sql_query))\n",
    "result.head()"
   ]
  },
  {
   "cell_type": "markdown",
   "metadata": {},
   "source": [
    "### Example 2: Find datasets using cell-lines that are related to the keyword"
   ]
  },
  {
   "cell_type": "code",
   "execution_count": 36,
   "metadata": {},
   "outputs": [
    {
     "name": "stdout",
     "output_type": "stream",
     "text": [
      "Query execution succeeded (time taken: 5.11 seconds, data scanned: 0.593 MB)\n",
      "Fetched 1703 rows\n"
     ]
    },
    {
     "data": {
      "text/html": [
       "<div>\n",
       "<style scoped>\n",
       "    .dataframe tbody tr th:only-of-type {\n",
       "        vertical-align: middle;\n",
       "    }\n",
       "\n",
       "    .dataframe tbody tr th {\n",
       "        vertical-align: top;\n",
       "    }\n",
       "\n",
       "    .dataframe thead th {\n",
       "        text-align: right;\n",
       "    }\n",
       "</style>\n",
       "<table border=\"1\" class=\"dataframe\">\n",
       "  <thead>\n",
       "    <tr style=\"text-align: right;\">\n",
       "      <th></th>\n",
       "      <th>dataset_id</th>\n",
       "      <th>curated_cell_line</th>\n",
       "    </tr>\n",
       "  </thead>\n",
       "  <tbody>\n",
       "    <tr>\n",
       "      <th>0</th>\n",
       "      <td>GSE95558_GPL11154</td>\n",
       "      <td>[None, HCC827]</td>\n",
       "    </tr>\n",
       "    <tr>\n",
       "      <th>1</th>\n",
       "      <td>GSE95592_GPL11154</td>\n",
       "      <td>[HCC827]</td>\n",
       "    </tr>\n",
       "    <tr>\n",
       "      <th>2</th>\n",
       "      <td>GSE95856_GPL4134</td>\n",
       "      <td>[MLE-12]</td>\n",
       "    </tr>\n",
       "    <tr>\n",
       "      <th>3</th>\n",
       "      <td>GSE96649_GPL18573</td>\n",
       "      <td>[A-549]</td>\n",
       "    </tr>\n",
       "    <tr>\n",
       "      <th>4</th>\n",
       "      <td>GSE96677_GPL17021</td>\n",
       "      <td>[A-549]</td>\n",
       "    </tr>\n",
       "  </tbody>\n",
       "</table>\n",
       "</div>"
      ],
      "text/plain": [
       "          dataset_id curated_cell_line\n",
       "0  GSE95558_GPL11154    [None, HCC827]\n",
       "1  GSE95592_GPL11154          [HCC827]\n",
       "2   GSE95856_GPL4134          [MLE-12]\n",
       "3  GSE96649_GPL18573           [A-549]\n",
       "4  GSE96677_GPL17021           [A-549]"
      ]
     },
     "execution_count": 36,
     "metadata": {},
     "output_type": "execute_result"
    }
   ],
   "source": [
    "sql_query = \"\"\"SELECT dataset_id, curated_cell_line FROM geo.datasets \n",
    "    WHERE CONTAINS(curated_cell_line, recommend('curated_cell_line', 'a549', 'related'))\"\"\"\n",
    "result = omixatlas.query_metadata(sql_query)\n",
    "result.head()"
   ]
  },
  {
   "cell_type": "markdown",
   "metadata": {},
   "source": [
    "*As a result, more cell-lines related to the input will be returned when using the `related` argument*"
   ]
  },
  {
   "cell_type": "markdown",
   "metadata": {},
   "source": [
    "### Example 3: Find datasets using cell-lines that are related to the disease"
   ]
  },
  {
   "cell_type": "code",
   "execution_count": 38,
   "metadata": {},
   "outputs": [
    {
     "name": "stdout",
     "output_type": "stream",
     "text": [
      "Query execution succeeded (time taken: 2.65 seconds, data scanned: 1.177 MB)\n",
      "Fetched 35 rows\n"
     ]
    },
    {
     "data": {
      "text/html": [
       "<div>\n",
       "<style scoped>\n",
       "    .dataframe tbody tr th:only-of-type {\n",
       "        vertical-align: middle;\n",
       "    }\n",
       "\n",
       "    .dataframe tbody tr th {\n",
       "        vertical-align: top;\n",
       "    }\n",
       "\n",
       "    .dataframe thead th {\n",
       "        text-align: right;\n",
       "    }\n",
       "</style>\n",
       "<table border=\"1\" class=\"dataframe\">\n",
       "  <thead>\n",
       "    <tr style=\"text-align: right;\">\n",
       "      <th></th>\n",
       "      <th>dataset_id</th>\n",
       "      <th>curated_cell_line</th>\n",
       "      <th>curated_disease</th>\n",
       "    </tr>\n",
       "  </thead>\n",
       "  <tbody>\n",
       "    <tr>\n",
       "      <th>0</th>\n",
       "      <td>GSE97002_GPL10332</td>\n",
       "      <td>[B-CPAP, 8505C]</td>\n",
       "      <td>[Thyroid Carcinoma, Anaplastic, Thyroid Neopla...</td>\n",
       "    </tr>\n",
       "    <tr>\n",
       "      <th>1</th>\n",
       "      <td>GSE97028_GPL10332</td>\n",
       "      <td>[B-CPAP, 8505C]</td>\n",
       "      <td>[Alzheimer Disease, Familial, 1, Alzheimer dis...</td>\n",
       "    </tr>\n",
       "    <tr>\n",
       "      <th>2</th>\n",
       "      <td>GSE97030_GPL10332</td>\n",
       "      <td>[B-CPAP, 8505C]</td>\n",
       "      <td>[Saprochaete clavata infection, Bipolar Disord...</td>\n",
       "    </tr>\n",
       "    <tr>\n",
       "      <th>3</th>\n",
       "      <td>GSE97031_GPL10332</td>\n",
       "      <td>[B-CPAP, 8505C]</td>\n",
       "      <td>[Thyroid Neoplasms, Atkin syndrome, Thyroid Ca...</td>\n",
       "    </tr>\n",
       "    <tr>\n",
       "      <th>4</th>\n",
       "      <td>GSE97427_GPL10332</td>\n",
       "      <td>[B-CPAP, 8505C]</td>\n",
       "      <td>[Thyroid Carcinoma, Anaplastic, Thyroid Neopla...</td>\n",
       "    </tr>\n",
       "  </tbody>\n",
       "</table>\n",
       "</div>"
      ],
      "text/plain": [
       "          dataset_id curated_cell_line  \\\n",
       "0  GSE97002_GPL10332   [B-CPAP, 8505C]   \n",
       "1  GSE97028_GPL10332   [B-CPAP, 8505C]   \n",
       "2  GSE97030_GPL10332   [B-CPAP, 8505C]   \n",
       "3  GSE97031_GPL10332   [B-CPAP, 8505C]   \n",
       "4  GSE97427_GPL10332   [B-CPAP, 8505C]   \n",
       "\n",
       "                                     curated_disease  \n",
       "0  [Thyroid Carcinoma, Anaplastic, Thyroid Neopla...  \n",
       "1  [Alzheimer Disease, Familial, 1, Alzheimer dis...  \n",
       "2  [Saprochaete clavata infection, Bipolar Disord...  \n",
       "3  [Thyroid Neoplasms, Atkin syndrome, Thyroid Ca...  \n",
       "4  [Thyroid Carcinoma, Anaplastic, Thyroid Neopla...  "
      ]
     },
     "execution_count": 38,
     "metadata": {},
     "output_type": "execute_result"
    }
   ],
   "source": [
    "sql_query = \"\"\"SELECT dataset_id, curated_cell_line, curated_disease FROM geo.datasets \n",
    "    WHERE CONTAINS(curated_cell_line, recommend('curated_cell_line', 'thyroid cancer', 'related disease'))\"\"\"\n",
    "result = omixatlas.query_metadata(sql_query)\n",
    "result.head()"
   ]
  },
  {
   "cell_type": "markdown",
   "metadata": {},
   "source": [
    "### Example 4: Find datasets using cell-lines that are related to the tissue"
   ]
  },
  {
   "cell_type": "code",
   "execution_count": 41,
   "metadata": {},
   "outputs": [
    {
     "name": "stdout",
     "output_type": "stream",
     "text": [
      "Query execution succeeded (time taken: 3.25 seconds, data scanned: 0.782 MB)\n",
      "Fetched 1413 rows\n"
     ]
    },
    {
     "data": {
      "text/html": [
       "<div>\n",
       "<style scoped>\n",
       "    .dataframe tbody tr th:only-of-type {\n",
       "        vertical-align: middle;\n",
       "    }\n",
       "\n",
       "    .dataframe tbody tr th {\n",
       "        vertical-align: top;\n",
       "    }\n",
       "\n",
       "    .dataframe thead th {\n",
       "        text-align: right;\n",
       "    }\n",
       "</style>\n",
       "<table border=\"1\" class=\"dataframe\">\n",
       "  <thead>\n",
       "    <tr style=\"text-align: right;\">\n",
       "      <th></th>\n",
       "      <th>dataset_id</th>\n",
       "      <th>curated_cell_line</th>\n",
       "      <th>curated_tissue</th>\n",
       "    </tr>\n",
       "  </thead>\n",
       "  <tbody>\n",
       "    <tr>\n",
       "      <th>0</th>\n",
       "      <td>GSE9539_GPL6087</td>\n",
       "      <td>[Hep-G2]</td>\n",
       "      <td>[None]</td>\n",
       "    </tr>\n",
       "    <tr>\n",
       "      <th>1</th>\n",
       "      <td>GSE95406_GPL6246</td>\n",
       "      <td>[Hepa 1-6]</td>\n",
       "      <td>[liver]</td>\n",
       "    </tr>\n",
       "    <tr>\n",
       "      <th>2</th>\n",
       "      <td>GSE95698_GPL17077</td>\n",
       "      <td>[Hep-G2, L-02]</td>\n",
       "      <td>[liver]</td>\n",
       "    </tr>\n",
       "    <tr>\n",
       "      <th>3</th>\n",
       "      <td>GSE96760_GPL16791</td>\n",
       "      <td>[H-STS]</td>\n",
       "      <td>[None]</td>\n",
       "    </tr>\n",
       "    <tr>\n",
       "      <th>4</th>\n",
       "      <td>GSE96792_GPL10558</td>\n",
       "      <td>[SNU-761, Huh-7, Hep 3B2.1-7, Hep-G2]</td>\n",
       "      <td>[None]</td>\n",
       "    </tr>\n",
       "  </tbody>\n",
       "</table>\n",
       "</div>"
      ],
      "text/plain": [
       "          dataset_id                      curated_cell_line curated_tissue\n",
       "0    GSE9539_GPL6087                               [Hep-G2]         [None]\n",
       "1   GSE95406_GPL6246                             [Hepa 1-6]        [liver]\n",
       "2  GSE95698_GPL17077                         [Hep-G2, L-02]        [liver]\n",
       "3  GSE96760_GPL16791                                [H-STS]         [None]\n",
       "4  GSE96792_GPL10558  [SNU-761, Huh-7, Hep 3B2.1-7, Hep-G2]         [None]"
      ]
     },
     "execution_count": 41,
     "metadata": {},
     "output_type": "execute_result"
    }
   ],
   "source": [
    "sql_query = \"\"\"SELECT dataset_id, curated_cell_line, curated_tissue FROM geo.datasets \n",
    "    WHERE CONTAINS(curated_cell_line, recommend('curated_cell_line', 'liver', 'related tissue'))\"\"\"\n",
    "result = omixatlas.query_metadata(sql_query)\n",
    "result.head()"
   ]
  },
  {
   "cell_type": "markdown",
   "metadata": {},
   "source": [
    "## Find datasets using drugs\n",
    "\n",
    "### Query Structure\n",
    "\n",
    "`field`: the curated field on which to query   \n",
    "`keyword`: the input keyword for which datasets are to be queried  \n",
    "`keyword_field`: the field using which drugs are recommended, default = `drug`       \n",
    "        - `match|related by structure`: find drugs using drugs that match or a related by 3D structure.  \n",
    "        - `match gene`: find drugs that interact with the input gene identifier.    \n",
    "        *(Enter a HUGO Symbol, Alias, Entrez ID or Ensembl ID)*  \n",
    "\n",
    "`recommend(field, keyword, keyword_field)`"
   ]
  },
  {
   "cell_type": "markdown",
   "metadata": {},
   "source": [
    "### Example 1: Find datasets using drugs that match the keyword"
   ]
  },
  {
   "cell_type": "code",
   "execution_count": 52,
   "metadata": {},
   "outputs": [
    {
     "name": "stdout",
     "output_type": "stream",
     "text": [
      "Query execution succeeded (time taken: 3.30 seconds, data scanned: 0.259 MB)\n",
      "Fetched 2 rows\n"
     ]
    },
    {
     "data": {
      "text/html": [
       "<div>\n",
       "<style scoped>\n",
       "    .dataframe tbody tr th:only-of-type {\n",
       "        vertical-align: middle;\n",
       "    }\n",
       "\n",
       "    .dataframe tbody tr th {\n",
       "        vertical-align: top;\n",
       "    }\n",
       "\n",
       "    .dataframe thead th {\n",
       "        text-align: right;\n",
       "    }\n",
       "</style>\n",
       "<table border=\"1\" class=\"dataframe\">\n",
       "  <thead>\n",
       "    <tr style=\"text-align: right;\">\n",
       "      <th></th>\n",
       "      <th>dataset_id</th>\n",
       "      <th>curated_drug</th>\n",
       "    </tr>\n",
       "  </thead>\n",
       "  <tbody>\n",
       "    <tr>\n",
       "      <th>0</th>\n",
       "      <td>GSE2083_GPL891</td>\n",
       "      <td>[krypton(0), Paraffin, argon(0), 4-(azidoanili...</td>\n",
       "    </tr>\n",
       "    <tr>\n",
       "      <th>1</th>\n",
       "      <td>GSE109211_GPL13938</td>\n",
       "      <td>[sorafenib, formaldehyde, L-tyrosine]</td>\n",
       "    </tr>\n",
       "  </tbody>\n",
       "</table>\n",
       "</div>"
      ],
      "text/plain": [
       "           dataset_id                                       curated_drug\n",
       "0      GSE2083_GPL891  [krypton(0), Paraffin, argon(0), 4-(azidoanili...\n",
       "1  GSE109211_GPL13938              [sorafenib, formaldehyde, L-tyrosine]"
      ]
     },
     "execution_count": 52,
     "metadata": {},
     "output_type": "execute_result"
    }
   ],
   "source": [
    "sql_query = \"\"\"SELECT dataset_id, curated_drug FROM geo.datasets \n",
    "    WHERE CONTAINS(curated_drug, recommend('curated_drug', 'formaldehyde', 'match'))\"\"\"\n",
    "result = omixatlas.query_metadata(sql_query)\n",
    "result.head()"
   ]
  },
  {
   "cell_type": "markdown",
   "metadata": {},
   "source": [
    "### Example 2: Find datasets using drugs that are related by structure to the keyword"
   ]
  },
  {
   "cell_type": "code",
   "execution_count": 53,
   "metadata": {},
   "outputs": [
    {
     "name": "stdout",
     "output_type": "stream",
     "text": [
      "Query execution succeeded (time taken: 2.61 seconds, data scanned: 0.364 MB)\n",
      "Fetched 5 rows\n"
     ]
    },
    {
     "data": {
      "text/html": [
       "<div>\n",
       "<style scoped>\n",
       "    .dataframe tbody tr th:only-of-type {\n",
       "        vertical-align: middle;\n",
       "    }\n",
       "\n",
       "    .dataframe tbody tr th {\n",
       "        vertical-align: top;\n",
       "    }\n",
       "\n",
       "    .dataframe thead th {\n",
       "        text-align: right;\n",
       "    }\n",
       "</style>\n",
       "<table border=\"1\" class=\"dataframe\">\n",
       "  <thead>\n",
       "    <tr style=\"text-align: right;\">\n",
       "      <th></th>\n",
       "      <th>dataset_id</th>\n",
       "      <th>curated_drug</th>\n",
       "    </tr>\n",
       "  </thead>\n",
       "  <tbody>\n",
       "    <tr>\n",
       "      <th>0</th>\n",
       "      <td>GSE109211_GPL13938</td>\n",
       "      <td>[sorafenib, formaldehyde, L-tyrosine]</td>\n",
       "    </tr>\n",
       "    <tr>\n",
       "      <th>1</th>\n",
       "      <td>GSE7171_GPL4733</td>\n",
       "      <td>[amine, histaminium, gamma-aminobutyric acid, ...</td>\n",
       "    </tr>\n",
       "    <tr>\n",
       "      <th>2</th>\n",
       "      <td>GSE2083_GPL891</td>\n",
       "      <td>[krypton(0), Paraffin, argon(0), 4-(azidoanili...</td>\n",
       "    </tr>\n",
       "    <tr>\n",
       "      <th>3</th>\n",
       "      <td>GSE158613_GPL23038</td>\n",
       "      <td>[isoflurane]</td>\n",
       "    </tr>\n",
       "    <tr>\n",
       "      <th>4</th>\n",
       "      <td>GSE158614_GPL23038</td>\n",
       "      <td>[isoflurane, phosphate(3-)]</td>\n",
       "    </tr>\n",
       "  </tbody>\n",
       "</table>\n",
       "</div>"
      ],
      "text/plain": [
       "           dataset_id                                       curated_drug\n",
       "0  GSE109211_GPL13938              [sorafenib, formaldehyde, L-tyrosine]\n",
       "1     GSE7171_GPL4733  [amine, histaminium, gamma-aminobutyric acid, ...\n",
       "2      GSE2083_GPL891  [krypton(0), Paraffin, argon(0), 4-(azidoanili...\n",
       "3  GSE158613_GPL23038                                       [isoflurane]\n",
       "4  GSE158614_GPL23038                        [isoflurane, phosphate(3-)]"
      ]
     },
     "execution_count": 53,
     "metadata": {},
     "output_type": "execute_result"
    }
   ],
   "source": [
    "sql_query = \"\"\"SELECT dataset_id, curated_drug FROM geo.datasets \n",
    "    WHERE CONTAINS(curated_drug, recommend('curated_drug', 'chembl1255', 'related by structure'))\"\"\"\n",
    "result = omixatlas.query_metadata(sql_query)\n",
    "result.head()"
   ]
  },
  {
   "cell_type": "markdown",
   "metadata": {},
   "source": [
    "### Example 3: Find datasets for drugs using gene that are known interact"
   ]
  },
  {
   "cell_type": "code",
   "execution_count": 56,
   "metadata": {},
   "outputs": [
    {
     "name": "stdout",
     "output_type": "stream",
     "text": [
      "Query execution succeeded (time taken: 3.12 seconds, data scanned: 0.289 MB)\n",
      "Fetched 1 rows\n"
     ]
    },
    {
     "data": {
      "text/html": [
       "<div>\n",
       "<style scoped>\n",
       "    .dataframe tbody tr th:only-of-type {\n",
       "        vertical-align: middle;\n",
       "    }\n",
       "\n",
       "    .dataframe tbody tr th {\n",
       "        vertical-align: top;\n",
       "    }\n",
       "\n",
       "    .dataframe thead th {\n",
       "        text-align: right;\n",
       "    }\n",
       "</style>\n",
       "<table border=\"1\" class=\"dataframe\">\n",
       "  <thead>\n",
       "    <tr style=\"text-align: right;\">\n",
       "      <th></th>\n",
       "      <th>dataset_id</th>\n",
       "      <th>curated_drug</th>\n",
       "      <th>curated_gene</th>\n",
       "    </tr>\n",
       "  </thead>\n",
       "  <tbody>\n",
       "    <tr>\n",
       "      <th>0</th>\n",
       "      <td>GSE3068_GPL85</td>\n",
       "      <td>[streptozocin, vanadium(0), sulfate, vanadyl s...</td>\n",
       "      <td>[]</td>\n",
       "    </tr>\n",
       "  </tbody>\n",
       "</table>\n",
       "</div>"
      ],
      "text/plain": [
       "      dataset_id                                       curated_drug  \\\n",
       "0  GSE3068_GPL85  [streptozocin, vanadium(0), sulfate, vanadyl s...   \n",
       "\n",
       "  curated_gene  \n",
       "0           []  "
      ]
     },
     "execution_count": 56,
     "metadata": {},
     "output_type": "execute_result"
    }
   ],
   "source": [
    "sql_query = \"\"\"SELECT dataset_id, curated_drug, curated_gene FROM geo.datasets \n",
    "    WHERE CONTAINS(curated_drug, recommend('curated_drug', 'egfr', 'match gene'))\"\"\"\n",
    "result = omixatlas.query_metadata(sql_query)\n",
    "result.head()"
   ]
  },
  {
   "cell_type": "markdown",
   "metadata": {},
   "source": [
    "## Examples of Ontology Recommendation for Sample-level queries"
   ]
  },
  {
   "cell_type": "markdown",
   "metadata": {},
   "source": [
    "### Example 1: Find samples using disease and tissue"
   ]
  },
  {
   "cell_type": "code",
   "execution_count": 60,
   "metadata": {
    "scrolled": true
   },
   "outputs": [
    {
     "name": "stdout",
     "output_type": "stream",
     "text": [
      "Query execution succeeded (time taken: 3.36 seconds, data scanned: 8.737 MB)\n",
      "Fetched 191 rows\n"
     ]
    },
    {
     "data": {
      "text/html": [
       "<div>\n",
       "<style scoped>\n",
       "    .dataframe tbody tr th:only-of-type {\n",
       "        vertical-align: middle;\n",
       "    }\n",
       "\n",
       "    .dataframe tbody tr th {\n",
       "        vertical-align: top;\n",
       "    }\n",
       "\n",
       "    .dataframe thead th {\n",
       "        text-align: right;\n",
       "    }\n",
       "</style>\n",
       "<table border=\"1\" class=\"dataframe\">\n",
       "  <thead>\n",
       "    <tr style=\"text-align: right;\">\n",
       "      <th></th>\n",
       "      <th>curated_cell_line</th>\n",
       "      <th>curated_disease</th>\n",
       "      <th>curated_tissue</th>\n",
       "      <th>sample_id</th>\n",
       "    </tr>\n",
       "  </thead>\n",
       "  <tbody>\n",
       "    <tr>\n",
       "      <th>0</th>\n",
       "      <td>none</td>\n",
       "      <td>[Thyroid Cancer, Papillary]</td>\n",
       "      <td>thyroid gland</td>\n",
       "      <td>GSM831759</td>\n",
       "    </tr>\n",
       "    <tr>\n",
       "      <th>1</th>\n",
       "      <td>none</td>\n",
       "      <td>[Thyroid Cancer, Papillary]</td>\n",
       "      <td>thyroid gland</td>\n",
       "      <td>GSM831760</td>\n",
       "    </tr>\n",
       "    <tr>\n",
       "      <th>2</th>\n",
       "      <td>none</td>\n",
       "      <td>[Thyroid Cancer, Papillary]</td>\n",
       "      <td>thyroid gland</td>\n",
       "      <td>GSM831761</td>\n",
       "    </tr>\n",
       "    <tr>\n",
       "      <th>3</th>\n",
       "      <td>none</td>\n",
       "      <td>[Thyroid Cancer, Papillary]</td>\n",
       "      <td>thyroid gland</td>\n",
       "      <td>GSM831762</td>\n",
       "    </tr>\n",
       "    <tr>\n",
       "      <th>4</th>\n",
       "      <td>none</td>\n",
       "      <td>[Thyroid Cancer, Papillary]</td>\n",
       "      <td>thyroid gland</td>\n",
       "      <td>GSM831763</td>\n",
       "    </tr>\n",
       "  </tbody>\n",
       "</table>\n",
       "</div>"
      ],
      "text/plain": [
       "  curated_cell_line              curated_disease curated_tissue  sample_id\n",
       "0              none  [Thyroid Cancer, Papillary]  thyroid gland  GSM831759\n",
       "1              none  [Thyroid Cancer, Papillary]  thyroid gland  GSM831760\n",
       "2              none  [Thyroid Cancer, Papillary]  thyroid gland  GSM831761\n",
       "3              none  [Thyroid Cancer, Papillary]  thyroid gland  GSM831762\n",
       "4              none  [Thyroid Cancer, Papillary]  thyroid gland  GSM831763"
      ]
     },
     "execution_count": 60,
     "metadata": {},
     "output_type": "execute_result"
    }
   ],
   "source": [
    "sql_query = \"\"\"SELECT sample_id, curated_tissue, curated_disease, curated_cell_line FROM geo.samples\n",
    "WHERE (CONTAINS(curated_disease, recommend('curated_disease', 'thyroid cancer', 'match'))\n",
    "AND CONTAINS(curated_tissue, recommend('curated_tissue', 'thyroid', 'match')))\"\"\"\n",
    "result = omixatlas.query_metadata(sql_query)\n",
    "result.head()"
   ]
  },
  {
   "cell_type": "markdown",
   "metadata": {},
   "source": [
    "### Example 2: Find samples using cell-lines"
   ]
  },
  {
   "cell_type": "code",
   "execution_count": 67,
   "metadata": {
    "scrolled": true
   },
   "outputs": [
    {
     "name": "stdout",
     "output_type": "stream",
     "text": [
      "Query execution succeeded (time taken: 3.96 seconds, data scanned: 8.737 MB)\n",
      "Fetched 2171 rows\n"
     ]
    },
    {
     "data": {
      "text/html": [
       "<div>\n",
       "<style scoped>\n",
       "    .dataframe tbody tr th:only-of-type {\n",
       "        vertical-align: middle;\n",
       "    }\n",
       "\n",
       "    .dataframe tbody tr th {\n",
       "        vertical-align: top;\n",
       "    }\n",
       "\n",
       "    .dataframe thead th {\n",
       "        text-align: right;\n",
       "    }\n",
       "</style>\n",
       "<table border=\"1\" class=\"dataframe\">\n",
       "  <thead>\n",
       "    <tr style=\"text-align: right;\">\n",
       "      <th></th>\n",
       "      <th>curated_cell_line</th>\n",
       "      <th>curated_disease</th>\n",
       "      <th>curated_tissue</th>\n",
       "      <th>sample_id</th>\n",
       "    </tr>\n",
       "  </thead>\n",
       "  <tbody>\n",
       "    <tr>\n",
       "      <th>0</th>\n",
       "      <td>HepaRG</td>\n",
       "      <td>[Hepatitis C]</td>\n",
       "      <td>none</td>\n",
       "      <td>GSM2944963</td>\n",
       "    </tr>\n",
       "    <tr>\n",
       "      <th>1</th>\n",
       "      <td>HepaRG</td>\n",
       "      <td>[Hepatitis C]</td>\n",
       "      <td>none</td>\n",
       "      <td>GSM2944964</td>\n",
       "    </tr>\n",
       "    <tr>\n",
       "      <th>2</th>\n",
       "      <td>HepaRG</td>\n",
       "      <td>[Hepatitis C]</td>\n",
       "      <td>none</td>\n",
       "      <td>GSM2944965</td>\n",
       "    </tr>\n",
       "    <tr>\n",
       "      <th>3</th>\n",
       "      <td>HepaRG</td>\n",
       "      <td>[Hepatitis C]</td>\n",
       "      <td>none</td>\n",
       "      <td>GSM2944966</td>\n",
       "    </tr>\n",
       "    <tr>\n",
       "      <th>4</th>\n",
       "      <td>HepaRG</td>\n",
       "      <td>[Hepatitis C]</td>\n",
       "      <td>none</td>\n",
       "      <td>GSM2944967</td>\n",
       "    </tr>\n",
       "  </tbody>\n",
       "</table>\n",
       "</div>"
      ],
      "text/plain": [
       "  curated_cell_line curated_disease curated_tissue   sample_id\n",
       "0            HepaRG   [Hepatitis C]           none  GSM2944963\n",
       "1            HepaRG   [Hepatitis C]           none  GSM2944964\n",
       "2            HepaRG   [Hepatitis C]           none  GSM2944965\n",
       "3            HepaRG   [Hepatitis C]           none  GSM2944966\n",
       "4            HepaRG   [Hepatitis C]           none  GSM2944967"
      ]
     },
     "execution_count": 67,
     "metadata": {},
     "output_type": "execute_result"
    }
   ],
   "source": [
    "sql_query = \"\"\"SELECT sample_id, curated_tissue, curated_disease, curated_cell_line FROM geo.samples \n",
    "    WHERE CONTAINS(curated_cell_line, recommend('curated_cell_line', 'hepatitis', 'match disease'))\"\"\"\n",
    "\n",
    "result = omixatlas.query_metadata(sql_query)\n",
    "result.head()"
   ]
  },
  {
   "cell_type": "markdown",
   "metadata": {},
   "source": [
    "### Example 3: Find samples for drugs "
   ]
  },
  {
   "cell_type": "code",
   "execution_count": 66,
   "metadata": {},
   "outputs": [
    {
     "name": "stdout",
     "output_type": "stream",
     "text": [
      "Query execution succeeded (time taken: 2.28 seconds, data scanned: 7.737 MB)\n",
      "Fetched 42 rows\n"
     ]
    },
    {
     "data": {
      "text/html": [
       "<div>\n",
       "<style scoped>\n",
       "    .dataframe tbody tr th:only-of-type {\n",
       "        vertical-align: middle;\n",
       "    }\n",
       "\n",
       "    .dataframe tbody tr th {\n",
       "        vertical-align: top;\n",
       "    }\n",
       "\n",
       "    .dataframe thead th {\n",
       "        text-align: right;\n",
       "    }\n",
       "</style>\n",
       "<table border=\"1\" class=\"dataframe\">\n",
       "  <thead>\n",
       "    <tr style=\"text-align: right;\">\n",
       "      <th></th>\n",
       "      <th>curated_disease</th>\n",
       "      <th>curated_drug</th>\n",
       "      <th>curated_tissue</th>\n",
       "      <th>sample_id</th>\n",
       "    </tr>\n",
       "  </thead>\n",
       "  <tbody>\n",
       "    <tr>\n",
       "      <th>0</th>\n",
       "      <td>[Carcinoma, Hepatocellular]</td>\n",
       "      <td>[sorafenib]</td>\n",
       "      <td>none</td>\n",
       "      <td>GSM2544170</td>\n",
       "    </tr>\n",
       "    <tr>\n",
       "      <th>1</th>\n",
       "      <td>[Carcinoma, Hepatocellular]</td>\n",
       "      <td>[sorafenib]</td>\n",
       "      <td>none</td>\n",
       "      <td>GSM2544171</td>\n",
       "    </tr>\n",
       "    <tr>\n",
       "      <th>2</th>\n",
       "      <td>[Carcinoma, Hepatocellular]</td>\n",
       "      <td>[sorafenib]</td>\n",
       "      <td>none</td>\n",
       "      <td>GSM2544172</td>\n",
       "    </tr>\n",
       "    <tr>\n",
       "      <th>3</th>\n",
       "      <td>[Carcinoma, Hepatocellular]</td>\n",
       "      <td>[sorafenib]</td>\n",
       "      <td>none</td>\n",
       "      <td>GSM2544152</td>\n",
       "    </tr>\n",
       "    <tr>\n",
       "      <th>4</th>\n",
       "      <td>[Carcinoma, Hepatocellular]</td>\n",
       "      <td>[sorafenib]</td>\n",
       "      <td>none</td>\n",
       "      <td>GSM2544153</td>\n",
       "    </tr>\n",
       "    <tr>\n",
       "      <th>5</th>\n",
       "      <td>[Carcinoma, Hepatocellular]</td>\n",
       "      <td>[sorafenib]</td>\n",
       "      <td>none</td>\n",
       "      <td>GSM2544154</td>\n",
       "    </tr>\n",
       "    <tr>\n",
       "      <th>6</th>\n",
       "      <td>[Carcinoma, Hepatocellular]</td>\n",
       "      <td>[sorafenib]</td>\n",
       "      <td>none</td>\n",
       "      <td>GSM2544158</td>\n",
       "    </tr>\n",
       "    <tr>\n",
       "      <th>7</th>\n",
       "      <td>[Carcinoma, Hepatocellular]</td>\n",
       "      <td>[sorafenib]</td>\n",
       "      <td>none</td>\n",
       "      <td>GSM2544159</td>\n",
       "    </tr>\n",
       "    <tr>\n",
       "      <th>8</th>\n",
       "      <td>[Carcinoma, Hepatocellular]</td>\n",
       "      <td>[sorafenib]</td>\n",
       "      <td>none</td>\n",
       "      <td>GSM2544160</td>\n",
       "    </tr>\n",
       "    <tr>\n",
       "      <th>9</th>\n",
       "      <td>[Carcinoma, Hepatocellular]</td>\n",
       "      <td>[sorafenib]</td>\n",
       "      <td>none</td>\n",
       "      <td>GSM2544164</td>\n",
       "    </tr>\n",
       "    <tr>\n",
       "      <th>10</th>\n",
       "      <td>[Carcinoma, Hepatocellular]</td>\n",
       "      <td>[sorafenib]</td>\n",
       "      <td>none</td>\n",
       "      <td>GSM2544165</td>\n",
       "    </tr>\n",
       "    <tr>\n",
       "      <th>11</th>\n",
       "      <td>[Carcinoma, Hepatocellular]</td>\n",
       "      <td>[sorafenib]</td>\n",
       "      <td>none</td>\n",
       "      <td>GSM2544166</td>\n",
       "    </tr>\n",
       "    <tr>\n",
       "      <th>12</th>\n",
       "      <td>[Hodgkin Disease]</td>\n",
       "      <td>[sorafenib]</td>\n",
       "      <td>none</td>\n",
       "      <td>GSM1598320</td>\n",
       "    </tr>\n",
       "    <tr>\n",
       "      <th>13</th>\n",
       "      <td>[Hodgkin Disease]</td>\n",
       "      <td>[sorafenib]</td>\n",
       "      <td>none</td>\n",
       "      <td>GSM1598321</td>\n",
       "    </tr>\n",
       "    <tr>\n",
       "      <th>14</th>\n",
       "      <td>[Hodgkin Disease]</td>\n",
       "      <td>[sorafenib]</td>\n",
       "      <td>none</td>\n",
       "      <td>GSM1598322</td>\n",
       "    </tr>\n",
       "    <tr>\n",
       "      <th>15</th>\n",
       "      <td>[Hodgkin Disease]</td>\n",
       "      <td>[sorafenib]</td>\n",
       "      <td>none</td>\n",
       "      <td>GSM1598323</td>\n",
       "    </tr>\n",
       "    <tr>\n",
       "      <th>16</th>\n",
       "      <td>[Hodgkin Disease]</td>\n",
       "      <td>[sorafenib]</td>\n",
       "      <td>none</td>\n",
       "      <td>GSM1598324</td>\n",
       "    </tr>\n",
       "    <tr>\n",
       "      <th>17</th>\n",
       "      <td>[Hodgkin Disease]</td>\n",
       "      <td>[sorafenib]</td>\n",
       "      <td>none</td>\n",
       "      <td>GSM1598325</td>\n",
       "    </tr>\n",
       "    <tr>\n",
       "      <th>18</th>\n",
       "      <td>[Hodgkin Disease]</td>\n",
       "      <td>[sorafenib]</td>\n",
       "      <td>none</td>\n",
       "      <td>GSM1598236</td>\n",
       "    </tr>\n",
       "    <tr>\n",
       "      <th>19</th>\n",
       "      <td>[Hodgkin Disease]</td>\n",
       "      <td>[sorafenib]</td>\n",
       "      <td>none</td>\n",
       "      <td>GSM1598237</td>\n",
       "    </tr>\n",
       "    <tr>\n",
       "      <th>20</th>\n",
       "      <td>[Hodgkin Disease]</td>\n",
       "      <td>[sorafenib]</td>\n",
       "      <td>none</td>\n",
       "      <td>GSM1598238</td>\n",
       "    </tr>\n",
       "    <tr>\n",
       "      <th>21</th>\n",
       "      <td>[Hodgkin Disease]</td>\n",
       "      <td>[sorafenib]</td>\n",
       "      <td>none</td>\n",
       "      <td>GSM1598239</td>\n",
       "    </tr>\n",
       "    <tr>\n",
       "      <th>22</th>\n",
       "      <td>[Hodgkin Disease]</td>\n",
       "      <td>[sorafenib]</td>\n",
       "      <td>none</td>\n",
       "      <td>GSM1598240</td>\n",
       "    </tr>\n",
       "    <tr>\n",
       "      <th>23</th>\n",
       "      <td>[Hodgkin Disease]</td>\n",
       "      <td>[sorafenib]</td>\n",
       "      <td>none</td>\n",
       "      <td>GSM1598241</td>\n",
       "    </tr>\n",
       "    <tr>\n",
       "      <th>24</th>\n",
       "      <td>[Hodgkin Disease]</td>\n",
       "      <td>[sorafenib]</td>\n",
       "      <td>none</td>\n",
       "      <td>GSM769242</td>\n",
       "    </tr>\n",
       "    <tr>\n",
       "      <th>25</th>\n",
       "      <td>[Hodgkin Disease]</td>\n",
       "      <td>[sorafenib]</td>\n",
       "      <td>none</td>\n",
       "      <td>GSM769243</td>\n",
       "    </tr>\n",
       "    <tr>\n",
       "      <th>26</th>\n",
       "      <td>[Hodgkin Disease]</td>\n",
       "      <td>[sorafenib]</td>\n",
       "      <td>none</td>\n",
       "      <td>GSM769244</td>\n",
       "    </tr>\n",
       "    <tr>\n",
       "      <th>27</th>\n",
       "      <td>[Hodgkin Disease]</td>\n",
       "      <td>[sorafenib]</td>\n",
       "      <td>none</td>\n",
       "      <td>GSM769245</td>\n",
       "    </tr>\n",
       "    <tr>\n",
       "      <th>28</th>\n",
       "      <td>[Hodgkin Disease]</td>\n",
       "      <td>[sorafenib]</td>\n",
       "      <td>none</td>\n",
       "      <td>GSM769246</td>\n",
       "    </tr>\n",
       "    <tr>\n",
       "      <th>29</th>\n",
       "      <td>[Hodgkin Disease]</td>\n",
       "      <td>[sorafenib]</td>\n",
       "      <td>none</td>\n",
       "      <td>GSM769247</td>\n",
       "    </tr>\n",
       "    <tr>\n",
       "      <th>30</th>\n",
       "      <td>[Hodgkin Disease]</td>\n",
       "      <td>[sorafenib]</td>\n",
       "      <td>none</td>\n",
       "      <td>GSM769254</td>\n",
       "    </tr>\n",
       "    <tr>\n",
       "      <th>31</th>\n",
       "      <td>[Hodgkin Disease]</td>\n",
       "      <td>[sorafenib]</td>\n",
       "      <td>none</td>\n",
       "      <td>GSM769255</td>\n",
       "    </tr>\n",
       "    <tr>\n",
       "      <th>32</th>\n",
       "      <td>[Hodgkin Disease]</td>\n",
       "      <td>[sorafenib]</td>\n",
       "      <td>none</td>\n",
       "      <td>GSM769256</td>\n",
       "    </tr>\n",
       "    <tr>\n",
       "      <th>33</th>\n",
       "      <td>[Hodgkin Disease]</td>\n",
       "      <td>[sorafenib]</td>\n",
       "      <td>none</td>\n",
       "      <td>GSM769257</td>\n",
       "    </tr>\n",
       "    <tr>\n",
       "      <th>34</th>\n",
       "      <td>[Hodgkin Disease]</td>\n",
       "      <td>[sorafenib]</td>\n",
       "      <td>none</td>\n",
       "      <td>GSM769258</td>\n",
       "    </tr>\n",
       "    <tr>\n",
       "      <th>35</th>\n",
       "      <td>[Hodgkin Disease]</td>\n",
       "      <td>[sorafenib]</td>\n",
       "      <td>none</td>\n",
       "      <td>GSM769259</td>\n",
       "    </tr>\n",
       "    <tr>\n",
       "      <th>36</th>\n",
       "      <td>[Hodgkin Disease]</td>\n",
       "      <td>[sorafenib]</td>\n",
       "      <td>none</td>\n",
       "      <td>GSM769266</td>\n",
       "    </tr>\n",
       "    <tr>\n",
       "      <th>37</th>\n",
       "      <td>[Hodgkin Disease]</td>\n",
       "      <td>[sorafenib]</td>\n",
       "      <td>none</td>\n",
       "      <td>GSM769267</td>\n",
       "    </tr>\n",
       "    <tr>\n",
       "      <th>38</th>\n",
       "      <td>[Hodgkin Disease]</td>\n",
       "      <td>[sorafenib]</td>\n",
       "      <td>none</td>\n",
       "      <td>GSM769268</td>\n",
       "    </tr>\n",
       "    <tr>\n",
       "      <th>39</th>\n",
       "      <td>[Hodgkin Disease]</td>\n",
       "      <td>[sorafenib]</td>\n",
       "      <td>none</td>\n",
       "      <td>GSM769269</td>\n",
       "    </tr>\n",
       "    <tr>\n",
       "      <th>40</th>\n",
       "      <td>[Hodgkin Disease]</td>\n",
       "      <td>[sorafenib]</td>\n",
       "      <td>none</td>\n",
       "      <td>GSM769270</td>\n",
       "    </tr>\n",
       "    <tr>\n",
       "      <th>41</th>\n",
       "      <td>[Hodgkin Disease]</td>\n",
       "      <td>[sorafenib]</td>\n",
       "      <td>none</td>\n",
       "      <td>GSM769271</td>\n",
       "    </tr>\n",
       "  </tbody>\n",
       "</table>\n",
       "</div>"
      ],
      "text/plain": [
       "                curated_disease curated_drug curated_tissue   sample_id\n",
       "0   [Carcinoma, Hepatocellular]  [sorafenib]           none  GSM2544170\n",
       "1   [Carcinoma, Hepatocellular]  [sorafenib]           none  GSM2544171\n",
       "2   [Carcinoma, Hepatocellular]  [sorafenib]           none  GSM2544172\n",
       "3   [Carcinoma, Hepatocellular]  [sorafenib]           none  GSM2544152\n",
       "4   [Carcinoma, Hepatocellular]  [sorafenib]           none  GSM2544153\n",
       "5   [Carcinoma, Hepatocellular]  [sorafenib]           none  GSM2544154\n",
       "6   [Carcinoma, Hepatocellular]  [sorafenib]           none  GSM2544158\n",
       "7   [Carcinoma, Hepatocellular]  [sorafenib]           none  GSM2544159\n",
       "8   [Carcinoma, Hepatocellular]  [sorafenib]           none  GSM2544160\n",
       "9   [Carcinoma, Hepatocellular]  [sorafenib]           none  GSM2544164\n",
       "10  [Carcinoma, Hepatocellular]  [sorafenib]           none  GSM2544165\n",
       "11  [Carcinoma, Hepatocellular]  [sorafenib]           none  GSM2544166\n",
       "12            [Hodgkin Disease]  [sorafenib]           none  GSM1598320\n",
       "13            [Hodgkin Disease]  [sorafenib]           none  GSM1598321\n",
       "14            [Hodgkin Disease]  [sorafenib]           none  GSM1598322\n",
       "15            [Hodgkin Disease]  [sorafenib]           none  GSM1598323\n",
       "16            [Hodgkin Disease]  [sorafenib]           none  GSM1598324\n",
       "17            [Hodgkin Disease]  [sorafenib]           none  GSM1598325\n",
       "18            [Hodgkin Disease]  [sorafenib]           none  GSM1598236\n",
       "19            [Hodgkin Disease]  [sorafenib]           none  GSM1598237\n",
       "20            [Hodgkin Disease]  [sorafenib]           none  GSM1598238\n",
       "21            [Hodgkin Disease]  [sorafenib]           none  GSM1598239\n",
       "22            [Hodgkin Disease]  [sorafenib]           none  GSM1598240\n",
       "23            [Hodgkin Disease]  [sorafenib]           none  GSM1598241\n",
       "24            [Hodgkin Disease]  [sorafenib]           none   GSM769242\n",
       "25            [Hodgkin Disease]  [sorafenib]           none   GSM769243\n",
       "26            [Hodgkin Disease]  [sorafenib]           none   GSM769244\n",
       "27            [Hodgkin Disease]  [sorafenib]           none   GSM769245\n",
       "28            [Hodgkin Disease]  [sorafenib]           none   GSM769246\n",
       "29            [Hodgkin Disease]  [sorafenib]           none   GSM769247\n",
       "30            [Hodgkin Disease]  [sorafenib]           none   GSM769254\n",
       "31            [Hodgkin Disease]  [sorafenib]           none   GSM769255\n",
       "32            [Hodgkin Disease]  [sorafenib]           none   GSM769256\n",
       "33            [Hodgkin Disease]  [sorafenib]           none   GSM769257\n",
       "34            [Hodgkin Disease]  [sorafenib]           none   GSM769258\n",
       "35            [Hodgkin Disease]  [sorafenib]           none   GSM769259\n",
       "36            [Hodgkin Disease]  [sorafenib]           none   GSM769266\n",
       "37            [Hodgkin Disease]  [sorafenib]           none   GSM769267\n",
       "38            [Hodgkin Disease]  [sorafenib]           none   GSM769268\n",
       "39            [Hodgkin Disease]  [sorafenib]           none   GSM769269\n",
       "40            [Hodgkin Disease]  [sorafenib]           none   GSM769270\n",
       "41            [Hodgkin Disease]  [sorafenib]           none   GSM769271"
      ]
     },
     "execution_count": 66,
     "metadata": {},
     "output_type": "execute_result"
    }
   ],
   "source": [
    "sql_query = \"\"\"SELECT sample_id, curated_tissue, curated_disease, curated_drug FROM geo.samples \n",
    "    WHERE CONTAINS(curated_drug, recommend('curated_drug', 'sorafenib', 'match'))\"\"\"\n",
    "\n",
    "result = omixatlas.query_metadata(sql_query)\n",
    "result.head()"
   ]
  },
  {
   "cell_type": "code",
   "execution_count": null,
   "metadata": {},
   "outputs": [],
   "source": []
  }
 ],
 "metadata": {
  "kernelspec": {
   "display_name": "general",
   "language": "python",
   "name": "general"
  },
  "language_info": {
   "codemirror_mode": {
    "name": "ipython",
    "version": 3
   },
   "file_extension": ".py",
   "mimetype": "text/x-python",
   "name": "python",
   "nbconvert_exporter": "python",
   "pygments_lexer": "ipython3",
   "version": "3.8.13"
  }
 },
 "nbformat": 4,
 "nbformat_minor": 2
}
