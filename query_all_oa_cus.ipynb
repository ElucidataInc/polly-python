{
 "cells": [
  {
   "cell_type": "markdown",
   "id": "ab5fc055",
   "metadata": {},
   "source": [
    "# Prototype notebook : Querying data across all Omix Atlas\n",
    "_For internal use only_\n",
    "\n",
    "### Instructions:\n",
    "\n",
    "1. Please run all code cells one by one.\n",
    "2. User is required to enter an SQL query to search for the required datasets."
   ]
  },
  {
   "cell_type": "markdown",
   "id": "8b46c060",
   "metadata": {},
   "source": [
    "## Install polly-python"
   ]
  },
  {
   "cell_type": "code",
   "execution_count": null,
   "id": "b7908fd6",
   "metadata": {},
   "outputs": [],
   "source": [
    "!sudo pip3 install polly-python joblib"
   ]
  },
  {
   "cell_type": "code",
   "execution_count": 11,
   "id": "dd51dc51",
   "metadata": {},
   "outputs": [
    {
     "name": "stdout",
     "output_type": "stream",
     "text": [
      "ERROR! Session/line number was not unique in database. History logging moved to new session 134\n"
     ]
    }
   ],
   "source": [
    "from polly.omixatlas import OmixAtlas\n",
    "from polly.auth import Polly\n",
    "from joblib import Parallel, delayed\n",
    "import pandas as pd\n",
    "import time\n",
    "import re"
   ]
  },
  {
   "cell_type": "markdown",
   "id": "0f86432f",
   "metadata": {},
   "source": [
    "## Authentication with Polly"
   ]
  },
  {
   "cell_type": "code",
   "execution_count": 12,
   "id": "f59144ec",
   "metadata": {},
   "outputs": [],
   "source": [
    "AUTH_TOKEN = \"eyJjdHkiOiJKV1QiLCJlbmMiOiJBMjU2R0NNIiwiYWxnIjoiUlNBLU9BRVAifQ.GrUC4WVU8h6EEo-uUTaI1ESZ0Wx6lBa4kH_xeOyY6Hhg_EFd3aVx7sD6x7rQX21UMqRjvgbITIRXB7ops7ZqkuiWwFZNE9bdHsFhxR67RxtPm4lQImgT7awTpKr4nVt8rY57SNV7ik-Cj_bTg_VSZ6IrFfBZWHCUQlwtEoXRHPPFg6Q51Pn06DRBAUi7P01X28AXD6NRMf4uvUpnx9KmeEHMRCrXHaS2pBA-y0JsWlJKjrM2M5qTbjDC1BKhp9xddIzZ2GD5_XXk4jofSYStKcG8O-QV9m6GQX4Ho0_u3DN9ukWWO8ujOjs1Wn8ZnfhfSsabgaFx21QfRSYW8iU5nw.AFgOMSew5txA6gF0.Kos8yANc2FrZhzqRoqk-SwdKKgsBQZtXKpTE6KwFI-vbAc7rWs04qjaTD1Kqcg7un5nOR_TXpjdn3at0G_dBpPs8Hp1o4Z8LHna847__aQiu06Nmcvld40idJDPxNCouJGRICVZLzTSKt9dtdp0DZnEO5Y1bKWlG7A-3kr8e4Bfa4kxHB5DhujXImYuttQv-Fb8oMFknkn3h1CWaf0rKmZ3fRsKnPUW-TmKc0JEk1A6d0_xIZssBjnpL4Tbd5pdg6ZkdGoy7GDzArE9JEFZBG_BIMiJHT2tkJc_Y67iWl2vWdSZ5OLNpGojgv3j1t-2fuHKcTLo0TFbXBvzAI_eKzy9r4wB5aEH_4k34FPlqh3M8kpYRq0DzmxXFHXLKvS1gfpQbHub5dziwIIOspitBuC4ps963dnE-1WledZTIsfzIiOESW5nKEccwPZ0OlAmcOiCkx67gwV5DIdcJoc9ESZnzLB8c7kqf0cbSMlBp4K36QADe2UwGBt7Nc54a_XsBQ2cpdCbKxK342NbZzqemZNuwBLwATp6-9yWo13gRDMlIJg1dKRwEB5cFlVsPVmQc0jrB1hohjX4rlJiAz5vBFpe8IYVwUKw9yFRh_dw_1ugKZAiMqCAadKZjonAc4QpwMSZLEKpj-r9Sxtm9h__ohtpMxl3QwtRofsBSzVBODsQV16M7cqlgJ8jRhv2Fo-nzT62Glv64FUN-jNmv9b7iEoNWM8mt9VV2hjt2fGcTWlZwXH_sSPQ2P70JxhSWGAK8yTCg6CjLhViqq_Dz49mrVS4cdfKVsv3H6agDUzl8dO0B01UFOUR0nuwbKscyjK8ieJ4VGK4trFy43HNBF9MNuGNdUte6ppWVlcbf5nRplq9RMMnrVeSmiRTmw-o6lnhARJuL3TOuWbb99zE_a84LcqlWtK2xDXIey3xV5b3VcJdsf1abu3MAUnsN2OCixZCWMp9iJikQsu0dn6HedUPxf4VvxTKkjAD6qLZT6pNgsaYzAvhilrcg9qrPa1yXQoXeT0Y1jhl1xzOcg0ljp-nk149pRnAbP7aLH08TArxcRW--e_Eb2SxGYgZuoR8GE6KQf4GQdJl92wX13Ynz6oQ3eNGj8o6vcz-3a3kdXsN92_XI3-1sqC5HbOvUE5q6DmEnWfJwsxiySn6VmgmRa48BJwrDNXM4aaFIZhTxM08jvOKUU82rQqTyQAW4134P53C8PrhUf9hGO0aLVT2ZuHBit541JEiHSu21GKmbJaE8Slsr4H-riNnDDiXD8c0YscBt7MMIhfeWY8rxw49wBn3FwbgTZdlGgdIyPFQTCXcKBD6kGa7RE1-YFb-V4Zs.hMASyWDl6LEVzoB5aaAsjQ\"\n",
    "Polly.auth(AUTH_TOKEN)\n",
    "\n",
    "omixatlas = OmixAtlas()"
   ]
  },
  {
   "cell_type": "markdown",
   "id": "03557b87",
   "metadata": {},
   "source": [
    "## Searching across all OA"
   ]
  },
  {
   "cell_type": "code",
   "execution_count": null,
   "id": "99a86c0c",
   "metadata": {},
   "outputs": [],
   "source": [
    "def query_split(query):\n",
    "    \n",
    "    \"\"\"\n",
    "    Returns N SQL queries equal to the number of input indexes\n",
    "    \n",
    "    Extended description of function.\n",
    "    \n",
    "    Parameters:\n",
    "    query (str): input SQL query to search across any given omixatlases\n",
    "    \n",
    "    Returns:\n",
    "    q_list (list): list of SQL queries where each query queries on a single index only.\n",
    "    \n",
    "    \"\"\"\n",
    "    \n",
    "    query = query.replace(\"\\n\", \"\") #remove new line from query\n",
    "    index_search = re.findall(r\"from.*\\.[a-z]*s\", query, re.IGNORECASE)[0].split(',')\n",
    "    index_list = [re.sub(\"(from |FROM )\", \"\", index) for index in index_search]\n",
    "    index_list = [index.strip() for index in index_list]\n",
    "\n",
    "    const_string1 = query.split(index_list[0]) #Extract constant SQL query\n",
    "    const_string2 = query.split(index_list[-1]) #Extract constant SQL query\n",
    "    \n",
    "    q_list = []\n",
    "    \n",
    "    for index in index_list:\n",
    "        q = f\"{const_string1[0]}{index}{const_string2[-1]}\"\n",
    "        q_list.append(q)\n",
    "    \n",
    "    return q_list\n",
    "\n",
    "def query_oa(query, version):\n",
    "    \n",
    "    \"\"\"\n",
    "    Returns a table containing metadata for all results based on the input SQL query\n",
    "    \n",
    "    Extended description of function.\n",
    "    \n",
    "    Parameters: \n",
    "    query (string): list of input SQL queries where each query is used to query across a single omixatlas\n",
    "    version (string): The API version of data infra on which to query\n",
    "    \n",
    "    Returns:\n",
    "    all_df (dataframe): DataFrame containing metadata of the resulting data.\n",
    "    \n",
    "    \"\"\"\n",
    "\n",
    "    all_df = omixatlas.query_metadata(query, query_api_version=version)\n",
    "    return all_df\n",
    "    \n",
    "\n",
    "def parallel_query(query_list, version):\n",
    "    \n",
    "    \"\"\"\n",
    "    Performs a parallel execution by dividing the task among multiple threads rather than multiple CPUs\n",
    "    \n",
    "    Extended description of function.\n",
    "    \n",
    "    Parameters: \n",
    "    query_list (list): list of input SQL queries where each query is used to search across a single omixatlas\n",
    "    version (string): The API version of data infra on which to query\n",
    "    \n",
    "    Returns:\n",
    "    df (dataframe): DataFrame containing dataset level metadata of the resulting datasets.\n",
    "    \n",
    "    \"\"\"\n",
    "\n",
    "    final = []\n",
    "    result = Parallel(n_jobs=4, prefer=\"threads\")(delayed(query_oa)(query, version) for query in query_list)\n",
    "\n",
    "    for that_dict in result:\n",
    "        if isinstance(that_dict, pd.DataFrame):\n",
    "            final.append(that_dict)\n",
    "    \n",
    "    df = pd.concat(final)\n",
    "    return df\n",
    "\n",
    "def empty_df():\n",
    "\n",
    "    \"\"\"\n",
    "    Creates an empty dataframe with a message when no data is returned\n",
    "    \n",
    "    Extended description of function.\n",
    "    \n",
    "    Returns:\n",
    "    empty_df (dataframe): An empty dataframe with a message.\n",
    "    \n",
    "    \"\"\"\n",
    "\n",
    "    empty_df = pd.DataFrame()\n",
    "    data = pd.DataFrame({\"Message\": \"No Data to show!\"}, index=[0])\n",
    "    empty_df = empty_df.append(data)\n",
    "    return empty_df\n",
    "\n",
    "def query_all_oa(sql, api_ver):\n",
    "\n",
    "    \"\"\"\n",
    "    Entry point for the cross omixatlas querying app.\n",
    "    \n",
    "    Extended description of function.\n",
    "    \n",
    "    Parameters: \n",
    "    sql (string): Input SQL query\n",
    "    api_ver (string): The API version of data infra on which to query\n",
    "    \n",
    "    Returns:\n",
    "    result_df (dataframe): DataFrame containing dataset level metadata of the resulting datasets.\n",
    "    status (string): String containing messages for the user\n",
    "    time_elapsed (string): Execution wall-time in seconds\n",
    "    \"\"\"\n",
    "    \n",
    "    start_time = time.time()\n",
    "    result_df = pd.DataFrame()\n",
    "\n",
    "    try:\n",
    "\n",
    "        result_df = query_oa(sql, api_ver)\n",
    "        if result_df.empty:\n",
    "            status = 'Query successful, No datasets were returned'\n",
    "        else:\n",
    "            status = 'Query Successful'\n",
    "    except Exception as e:\n",
    "\n",
    "        #print(e)\n",
    "        if 'Different mappings' in repr(e):\n",
    "            query_list = query_split(sql)\n",
    "            result_df = parallel_query(query_list, api_ver)\n",
    "            if result_df.empty:\n",
    "                status = 'Query successful, No datasets were returned'\n",
    "                result_df = empty_df()\n",
    "            else:\n",
    "                status = 'Query Successful, but caught an Exception with message: One or more indexes in SQL query cannot be concatenated due to reasons unknown. The RCA is yet to be found'\n",
    "        else:\n",
    "            status = repr(e)\n",
    "            result_df = empty_df()\n",
    "    \n",
    "    time_elapsed = str(\"Elapsed time = --- %s seconds ---\" % (time.time() - start_time))\n",
    "    return(result_df, status, time_elapsed)"
   ]
  },
  {
   "cell_type": "markdown",
   "id": "797e5a89",
   "metadata": {},
   "source": [
    "# Input "
   ]
  },
  {
   "cell_type": "code",
   "execution_count": null,
   "id": "32d4a63e",
   "metadata": {},
   "outputs": [],
   "source": [
    "input_query = f\"\"\"SELECT * from geo.datasets, pcd.datasets WHERE disease = 'Carcinoma, Hepatocellular' LIMIT 2000\"\"\"\n",
    "version = 'v1'\n",
    "\n",
    "res, stat, wall_time = query_all_oa(input_query, version)"
   ]
  }
 ],
 "metadata": {
  "kernelspec": {
   "display_name": "general",
   "language": "python",
   "name": "general"
  },
  "language_info": {
   "codemirror_mode": {
    "name": "ipython",
    "version": 3
   },
   "file_extension": ".py",
   "mimetype": "text/x-python",
   "name": "python",
   "nbconvert_exporter": "python",
   "pygments_lexer": "ipython3",
   "version": "3.9.7"
  }
 },
 "nbformat": 4,
 "nbformat_minor": 5
}
